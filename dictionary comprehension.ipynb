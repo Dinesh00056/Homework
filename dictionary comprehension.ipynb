{
 "cells": [
  {
   "cell_type": "code",
   "execution_count": 1,
   "id": "3a0efd5a-aa92-4599-8f6f-9d45bddc8236",
   "metadata": {},
   "outputs": [
    {
     "name": "stdout",
     "output_type": "stream",
     "text": [
      "{1: 1, 2: 4, 3: 9, 4: 16, 5: 25, 6: 36, 7: 49}\n"
     ]
    }
   ],
   "source": [
    "# Create a Dictionary of Squares\n",
    "# Create a dictionary where the keys are numbers and the values are their squares.\n",
    "squares_dict={x:x**2 for x in range(1,8)}\n",
    "print(squares_dict)"
   ]
  },
  {
   "cell_type": "code",
   "execution_count": 1,
   "id": "37b51149-3bb3-4d5f-85d0-a9150b222b20",
   "metadata": {},
   "outputs": [
    {
     "name": "stdout",
     "output_type": "stream",
     "text": [
      "{0: 0, 2: 4, 4: 16, 6: 36, 8: 64}\n"
     ]
    }
   ],
   "source": [
    "# filtter even number\n",
    "even_dict={x:x**2 for x in range(10) if x%2==0}\n",
    "print(even_dict)"
   ]
  },
  {
   "cell_type": "code",
   "execution_count": null,
   "id": "a00cb77a-69dd-472f-a337-b0c936207f50",
   "metadata": {},
   "outputs": [],
   "source": [
    "# filtter odd number\n",
    "odd_dict={x:x**2 for x in range(10) if x%2!=0}\n",
    "print(odd_dict)"
   ]
  },
  {
   "cell_type": "code",
   "execution_count": 2,
   "id": "e9373daf-5dba-4d82-ada3-faceaacedc6e",
   "metadata": {},
   "outputs": [
    {
     "name": "stdout",
     "output_type": "stream",
     "text": [
      "{1: 'a', 2: 'b', 3: 'c'}\n"
     ]
    }
   ],
   "source": [
    "# Reverse a dictionary\n",
    "# # Create a dictionary comprehension to swap keys and values in a existing dictionary\n",
    "original={'a':1,'b':2,'c':3}\n",
    "reversed_dict={v:k for k,v in original.items()}\n",
    "print(reversed_dict)"
   ]
  },
  {
   "cell_type": "code",
   "execution_count": 3,
   "id": "89134f39-e338-4d59-bc9a-a42b40d34efd",
   "metadata": {},
   "outputs": [
    {
     "name": "stdout",
     "output_type": "stream",
     "text": [
      "{'apple': 5, 'banana': 6, 'cherry': 6}\n"
     ]
    }
   ],
   "source": [
    "# # Convert list of dictionary with lenghts\n",
    "# Convert a list of strings into a dictionary where the keys are the strings and the values are the lenght of each string\n",
    "words=[\"apple\",\"banana\",\"cherry\"]\n",
    "length_dict={word:len(word) for word in words}\n",
    "print(length_dict)"
   ]
  },
  {
   "cell_type": "code",
   "execution_count": 4,
   "id": "df1034af-492f-4ede-b862-00192d282217",
   "metadata": {},
   "outputs": [],
   "source": [
    "# Dictionary of conditional values\n",
    "# create a dictionary where "
   ]
  },
  {
   "cell_type": "code",
   "execution_count": 5,
   "id": "87e8fddd-1959-43f2-af30-d66eddb66ba6",
   "metadata": {},
   "outputs": [
    {
     "name": "stdout",
     "output_type": "stream",
     "text": [
      "{1, 4, 9, 16, 25}\n"
     ]
    }
   ],
   "source": [
    "#example 1: creating a set of squares\n",
    "squares ={x**2 for x in range(1,6)}\n",
    "print(squares)"
   ]
  },
  {
   "cell_type": "code",
   "execution_count": 6,
   "id": "03773742-8885-44de-9e12-6e5d1a0b969d",
   "metadata": {},
   "outputs": [
    {
     "name": "stdout",
     "output_type": "stream",
     "text": [
      "{0, 2, 4, 6, 8}\n"
     ]
    }
   ],
   "source": [
    "# Example 2 : filtering even numbers\n",
    "evens={x for x in range(10) if x%2==0}\n",
    "print(evens)"
   ]
  },
  {
   "cell_type": "code",
   "execution_count": 10,
   "id": "42c1c992-811e-4a58-9804-d98cea35079d",
   "metadata": {},
   "outputs": [
    {
     "name": "stdout",
     "output_type": "stream",
     "text": [
      "{'o', 'e'}\n"
     ]
    }
   ],
   "source": [
    "#example 3: extracting unique vowels froma a string\n",
    "\n",
    "sentence=\"hello word\"\n",
    "vowels={char for char in sentence if char in \"aeiou\"}\n",
    "print(vowels)"
   ]
  },
  {
   "cell_type": "code",
   "execution_count": null,
   "id": "96be3237-e7b5-410a-9383-4cd29645767a",
   "metadata": {},
   "outputs": [],
   "source": []
  }
 ],
 "metadata": {
  "kernelspec": {
   "display_name": "Python 3 (ipykernel)",
   "language": "python",
   "name": "python3"
  },
  "language_info": {
   "codemirror_mode": {
    "name": "ipython",
    "version": 3
   },
   "file_extension": ".py",
   "mimetype": "text/x-python",
   "name": "python",
   "nbconvert_exporter": "python",
   "pygments_lexer": "ipython3",
   "version": "3.13.3"
  }
 },
 "nbformat": 4,
 "nbformat_minor": 5
}
