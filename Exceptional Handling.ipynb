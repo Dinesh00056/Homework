{
 "cells": [
  {
   "cell_type": "code",
   "execution_count": 1,
   "id": "5d533f77-a8ae-4df4-bb9c-e95a1a9ff138",
   "metadata": {},
   "outputs": [],
   "source": [
    "#exceptional Handling\n",
    "#try ---> Write our logic or program\n",
    "#except ---> if the program fails then it will return statement.\n"
   ]
  },
  {
   "cell_type": "code",
   "execution_count": 2,
   "id": "37ebb2f4-3b83-4183-9847-a99d84fa8f73",
   "metadata": {},
   "outputs": [
    {
     "name": "stdout",
     "output_type": "stream",
     "text": [
      "you can divide characters and zero......... division by zero\n"
     ]
    }
   ],
   "source": [
    "try:\n",
    "    a=5\n",
    "    b=a/0\n",
    "    print(b)\n",
    "except Exception as e:\n",
    "    print(\"you can divide characters and zero.........\",e)"
   ]
  },
  {
   "cell_type": "markdown",
   "id": "2f58fcc4-a23b-4f61-a561-faa86dd33939",
   "metadata": {},
   "source": []
  },
  {
   "cell_type": "code",
   "execution_count": 7,
   "id": "18c1396e-db14-4193-859e-c0a140f2402a",
   "metadata": {},
   "outputs": [
    {
     "name": "stdout",
     "output_type": "stream",
     "text": [
      "'roll'\n"
     ]
    }
   ],
   "source": [
    "#example 3: handling key error\n",
    "try:\n",
    "    data={\"name\":\"alice\",\"subject\":\"maths\"}\n",
    "    print(data[\"roll\"])\n",
    "except KeyError as e:\n",
    "    print(e)"
   ]
  },
  {
   "cell_type": "code",
   "execution_count": 10,
   "id": "f0fce501-0015-4571-943d-2ebd9938ad9c",
   "metadata": {},
   "outputs": [
    {
     "name": "stdout",
     "output_type": "stream",
     "text": [
      "caught an Indexerror: list index out of range\n"
     ]
    }
   ],
   "source": [
    "# Example 4: Handling IndexError\n",
    "try:\n",
    "    my_list=[1,2,3]\n",
    "    print(my_list[8])\n",
    "except IndexError as e:\n",
    "    print(\"caught an Indexerror:\",e)"
   ]
  },
  {
   "cell_type": "code",
   "execution_count": 11,
   "id": "6b0fcded-26e1-428a-963a-cd6ac43d299f",
   "metadata": {},
   "outputs": [
    {
     "name": "stdout",
     "output_type": "stream",
     "text": [
      "[Errno 2] No such file or directory: 'non-existent_file.txt'\n"
     ]
    }
   ],
   "source": [
    "# Example 5: Handling FileNotFoundError\n",
    "try:\n",
    "    with open(\"non-existent_file.txt\") as file:\n",
    "        content=file.read()\n",
    "except FileNotFoundError as e:\n",
    "    print(e)"
   ]
  },
  {
   "cell_type": "code",
   "execution_count": null,
   "id": "113c43f6-2f0a-4e64-b44e-f0ff3463943f",
   "metadata": {},
   "outputs": [],
   "source": []
  }
 ],
 "metadata": {
  "kernelspec": {
   "display_name": "Python 3 (ipykernel)",
   "language": "python",
   "name": "python3"
  },
  "language_info": {
   "codemirror_mode": {
    "name": "ipython",
    "version": 3
   },
   "file_extension": ".py",
   "mimetype": "text/x-python",
   "name": "python",
   "nbconvert_exporter": "python",
   "pygments_lexer": "ipython3",
   "version": "3.13.3"
  }
 },
 "nbformat": 4,
 "nbformat_minor": 5
}
