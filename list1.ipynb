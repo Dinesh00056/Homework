{
 "cells": [
  {
   "cell_type": "code",
   "execution_count": 2,
   "id": "2ce001bd-6d0d-465d-aaec-67e7b78e3d6e",
   "metadata": {},
   "outputs": [
    {
     "name": "stdout",
     "output_type": "stream",
     "text": [
      "total of two values 2 7\n"
     ]
    }
   ],
   "source": [
    "mylist=[1,2,3,5,7,11,18] \n",
    "i=0\n",
    "end=len(mylist)-1\n",
    "while(i<len(mylist)):\n",
    "    if(mylist[i]+mylist[end]>9):\n",
    "        end-=1\n",
    "    elif(mylist[i]+mylist[end]<9):\n",
    "     i+=1 \n",
    "    else: \n",
    "      print(\"total of two values\",mylist[i],mylist[end])\n",
    "    i+=1 \n",
    "    end-=1\n",
    "    \n"
   ]
  },
  {
   "cell_type": "code",
   "execution_count": 5,
   "id": "4976f7f7-ae16-4194-9fbf-16c928cda489",
   "metadata": {},
   "outputs": [
    {
     "name": "stdout",
     "output_type": "stream",
     "text": [
      "0 S S\n",
      "1 A A\n",
      "2 R R\n",
      "3 A A\n",
      "4 S S\n"
     ]
    }
   ],
   "source": [
    "n=\"SARAS\"\n",
    "i=0\n",
    "end=len(n)-1\n",
    "while(i<len(n)):\n",
    "    print(i,n[i],n[end])\n",
    "    i+=1\n",
    "    end-=1"
   ]
  },
  {
   "cell_type": "code",
   "execution_count": 1,
   "id": "94ef95f5-3a05-496f-b107-2f2668670000",
   "metadata": {},
   "outputs": [
    {
     "name": "stdout",
     "output_type": "stream",
     "text": [
      "palindrom\n"
     ]
    }
   ],
   "source": [
    "#to check palindrome no\n",
    "n=\"SARAS\"\n",
    "i=0\n",
    "end=len(n)-1\n",
    "a=0\n",
    "while(i<len(n)):\n",
    "    if(n[i]!=n[end]):\n",
    "        a=1\n",
    "        break\n",
    "    i+=1\n",
    "    end-=1\n",
    "if(a==0):\n",
    "    print(\"palindrom\")\n",
    "else:\n",
    "    print(\"not palindrome\")\n",
    "   "
   ]
  },
  {
   "cell_type": "code",
   "execution_count": 3,
   "id": "46436785-a1a6-4359-b463-b44f64ef83a2",
   "metadata": {},
   "outputs": [
    {
     "name": "stdout",
     "output_type": "stream",
     "text": [
      "10 31\n",
      "10 31\n",
      "10 31\n",
      "10 31\n",
      "10 31\n",
      "10 31\n",
      "10 31\n",
      "10 31\n",
      "10 31\n",
      "10 31\n",
      "31 31\n"
     ]
    }
   ],
   "source": [
    "data=[10,20,10,10,10,10,31,40,31]\n",
    "for i in range(0,len(data)):\n",
    "    for j in range(i+1,len(data)):\n",
    "      if(data[i]==data[j]):\n",
    "        print(data[i],data[end])\n",
    "\n"
   ]
  },
  {
   "cell_type": "code",
   "execution_count": 22,
   "id": "ca241243-2ccf-4266-8019-4863dd9698eb",
   "metadata": {},
   "outputs": [
    {
     "name": "stdout",
     "output_type": "stream",
     "text": [
      "duplicate 10 31\n"
     ]
    }
   ],
   "source": [
    "data=[10,20,10,10,10,10,31,40,31]\n",
    "for i in range(0<len(data)):\n",
    "    for j in range(i+1<len(data)):\n",
    "        if(data[i]==data[j]):\n",
    "            print(\"duplicate\",data[i],data[end])\n"
   ]
  },
  {
   "cell_type": "code",
   "execution_count": null,
   "id": "4cdda7c6-42a4-4e5f-a346-ebac83fc8f86",
   "metadata": {},
   "outputs": [],
   "source": []
  }
 ],
 "metadata": {
  "kernelspec": {
   "display_name": "Python 3 (ipykernel)",
   "language": "python",
   "name": "python3"
  },
  "language_info": {
   "codemirror_mode": {
    "name": "ipython",
    "version": 3
   },
   "file_extension": ".py",
   "mimetype": "text/x-python",
   "name": "python",
   "nbconvert_exporter": "python",
   "pygments_lexer": "ipython3",
   "version": "3.13.3"
  }
 },
 "nbformat": 4,
 "nbformat_minor": 5
}
