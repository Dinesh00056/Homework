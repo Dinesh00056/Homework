{
 "cells": [
  {
   "cell_type": "code",
   "execution_count": 2,
   "id": "dacb6303-6929-4627-a3e4-bb6d46e3bdd1",
   "metadata": {},
   "outputs": [
    {
     "name": "stdout",
     "output_type": "stream",
     "text": [
      "name 1\n",
      "dinesh  1\n",
      "dinesh  2\n",
      "dinesh  3\n",
      "dinesh  4\n",
      "name 2\n",
      "dinesh  1\n",
      "dinesh  2\n",
      "dinesh  3\n",
      "dinesh  4\n",
      "name 3\n",
      "dinesh  1\n",
      "dinesh  2\n",
      "dinesh  3\n",
      "dinesh  4\n",
      "name 4\n",
      "dinesh  1\n",
      "dinesh  2\n",
      "dinesh  3\n",
      "dinesh  4\n"
     ]
    }
   ],
   "source": [
    "for i in range(1,5):\n",
    " print(\"name\",i)\n",
    " for j in range(1,5):\n",
    "  print(\"dinesh \",j)"
   ]
  },
  {
   "cell_type": "code",
   "execution_count": 9,
   "id": "f84c03c9-345f-4f46-91ef-da771e013a15",
   "metadata": {},
   "outputs": [
    {
     "name": "stdout",
     "output_type": "stream",
     "text": [
      "mavuish 1\n",
      "dinesh\n",
      "dinesh\n",
      "dinesh\n",
      "dinesh\n",
      "mavuish 2\n",
      "dinesh\n",
      "dinesh\n",
      "dinesh\n",
      "mavuish 3\n",
      "dinesh\n",
      "dinesh\n"
     ]
    }
   ],
   "source": [
    "for i in range(1,4):\n",
    "    print(\"mavuish\",i)\n",
    "    for j in range(1,6-i):\n",
    "     print(\"dinesh\",)"
   ]
  },
  {
   "cell_type": "code",
   "execution_count": 18,
   "id": "d9e62841-8c78-4174-b11b-6b92c5217486",
   "metadata": {},
   "outputs": [
    {
     "name": "stdout",
     "output_type": "stream",
     "text": [
      "2\n",
      "2 2 1\n",
      "3 2 1\n",
      "4 2 1\n",
      "4\n",
      "2 2 2\n",
      "3 2 2\n",
      "4 2 2\n",
      "6\n",
      "2 2 3\n",
      "3 2 3\n",
      "4 2 3\n",
      "8\n",
      "2 2 4\n",
      "3 2 4\n",
      "4 2 4\n",
      "10\n",
      "2 2 5\n",
      "3 2 5\n",
      "4 2 5\n",
      "12\n",
      "2 2 6\n",
      "3 2 6\n",
      "4 2 6\n",
      "14\n",
      "2 2 7\n",
      "3 2 7\n",
      "4 2 7\n",
      "16\n",
      "2 2 8\n",
      "3 2 8\n",
      "4 2 8\n",
      "18\n",
      "2 2 9\n",
      "3 2 9\n",
      "4 2 9\n",
      "20\n",
      "2 2 10\n",
      "3 2 10\n",
      "4 2 10\n"
     ]
    }
   ],
   "source": [
    "num=2\n",
    "for i in range(1,11):\n",
    "    print(num*i)\n",
    "    for j in range(2,5):\n",
    "        print(j,num,i)"
   ]
  },
  {
   "cell_type": "code",
   "execution_count": 25,
   "id": "7e0857d1-6d96-4b48-ab8e-78823efec3d4",
   "metadata": {},
   "outputs": [
    {
     "name": "stdout",
     "output_type": "stream",
     "text": [
      "2 x 1 = 2\n",
      "2 x 2 = 4\n",
      "2 x 3 = 6\n",
      "2 x 4 = 8\n",
      "2 x 5 = 10\n",
      "2 x 6 = 12\n",
      "2 x 7 = 14\n",
      "2 x 8 = 16\n",
      "2 x 9 = 18\n",
      "2 x 10 = 20\n",
      ",,...,,.\n",
      "3 x 1 = 3\n",
      "3 x 2 = 6\n",
      "3 x 3 = 9\n",
      "3 x 4 = 12\n",
      "3 x 5 = 15\n",
      "3 x 6 = 18\n",
      "3 x 7 = 21\n",
      "3 x 8 = 24\n",
      "3 x 9 = 27\n",
      "3 x 10 = 30\n",
      ",,...,,.\n",
      "4 x 1 = 4\n",
      "4 x 2 = 8\n",
      "4 x 3 = 12\n",
      "4 x 4 = 16\n",
      "4 x 5 = 20\n",
      "4 x 6 = 24\n",
      "4 x 7 = 28\n",
      "4 x 8 = 32\n",
      "4 x 9 = 36\n",
      "4 x 10 = 40\n",
      ",,...,,.\n",
      "5 x 1 = 5\n",
      "5 x 2 = 10\n",
      "5 x 3 = 15\n",
      "5 x 4 = 20\n",
      "5 x 5 = 25\n",
      "5 x 6 = 30\n",
      "5 x 7 = 35\n",
      "5 x 8 = 40\n",
      "5 x 9 = 45\n",
      "5 x 10 = 50\n",
      ",,...,,.\n"
     ]
    }
   ],
   "source": [
    "for i in range(2,6):\n",
    "    for j in range(1,11):\n",
    "        print(i,\"x\",j,\"=\",i*j)\n",
    "    print(\",,...,,.\")"
   ]
  },
  {
   "cell_type": "code",
   "execution_count": 30,
   "id": "2ca9f1e5-d913-4183-88ac-5f2c17a11d24",
   "metadata": {},
   "outputs": [
    {
     "name": "stdout",
     "output_type": "stream",
     "text": [
      "4\n",
      "not prime\n"
     ]
    }
   ],
   "source": [
    "i=3\n",
    "while(i>0):\n",
    "    if(i%2==0):\n",
    "        print(i)\n",
    "        break\n",
    "    i+=1\n",
    "if(i==0):\n",
    "    print(\"prime\")\n",
    "else:\n",
    " print(\"not prime\")"
   ]
  },
  {
   "cell_type": "code",
   "execution_count": null,
   "id": "960df20b-50c4-476b-9682-09a83925ab1b",
   "metadata": {},
   "outputs": [],
   "source": [
    "num=6\n",
    "out=0\n",
    "i=1\n",
    "while(i<num):\n",
    " if(i%num==0):\n",
    "  out=1\n",
    "  break\n",
    "i+=1\n",
    "if(out==0):\n",
    " print(\"p\")\n",
    "else:\n",
    " print(\"not\")"
   ]
  },
  {
   "cell_type": "code",
   "execution_count": 7,
   "id": "2ef2961b-c83e-4164-9067-cf14efb10254",
   "metadata": {},
   "outputs": [
    {
     "name": "stdout",
     "output_type": "stream",
     "text": [
      "prime 2\n",
      "prime 3\n",
      "not prime 4\n",
      "prime 5\n",
      "not prime 6\n",
      "prime 7\n"
     ]
    }
   ],
   "source": [
    "for num in range(2,8):\n",
    "    a=0\n",
    "    for i in range(2,num):\n",
    "        if(num%2==0):\n",
    "          a=1\n",
    "          break\n",
    "    if(a==0):\n",
    "     print(\"prime\",num)\n",
    "    else:\n",
    "     print(\"not prime\",num)\n",
    "     "
   ]
  },
  {
   "cell_type": "raw",
   "id": "196589e3-ab6f-4049-b74d-4f203ae94fe7",
   "metadata": {},
   "source": [
    "for i in range(1,)"
   ]
  },
  {
   "cell_type": "code",
   "execution_count": 18,
   "id": "6e492174-4ab9-4f7b-80f0-43a3e5d566a3",
   "metadata": {},
   "outputs": [
    {
     "name": "stdout",
     "output_type": "stream",
     "text": [
      "4 4 4 4  \n",
      "3 3 3 3  \n",
      "2 2 2 2  \n",
      "1 1 1 1  \n"
     ]
    }
   ],
   "source": [
    "for i in range(4,0,-1):\n",
    "    for j in range(1,5):\n",
    "        print(i, end=\" \")\n",
    "    print(\" \")"
   ]
  },
  {
   "cell_type": "code",
   "execution_count": 26,
   "id": "858e116e-17a0-49fd-bab3-66b696bfac69",
   "metadata": {},
   "outputs": [
    {
     "name": "stdout",
     "output_type": "stream",
     "text": [
      "1 1 1 1  \n",
      "2 2 2 2  \n",
      "3 3 3 3  \n"
     ]
    }
   ],
   "source": [
    "x=1\n",
    "for i in range(2,5):\n",
    "    for j in range(1,5):\n",
    "        print(x, end=\" \")\n",
    "    x=x+1\n",
    "    print(\" \")"
   ]
  },
  {
   "cell_type": "code",
   "execution_count": 30,
   "id": "32a76741-45c4-4b4b-9962-e9c43fb3845c",
   "metadata": {},
   "outputs": [
    {
     "name": "stdout",
     "output_type": "stream",
     "text": [
      "9 8 7  \n",
      "6 5 4  \n",
      "3 2 1  \n"
     ]
    }
   ],
   "source": [
    "x=9\n",
    "for i in range(2,5):\n",
    "    for j in range(1,4):\n",
    "        print(x, end=\" \")\n",
    "        x=x-1\n",
    "    print(\" \")"
   ]
  },
  {
   "cell_type": "code",
   "execution_count": 33,
   "id": "0eb8c17b-dc01-4ff8-a792-3833d4ebbea3",
   "metadata": {},
   "outputs": [
    {
     "name": "stdout",
     "output_type": "stream",
     "text": [
      "*  \n",
      "* *  \n",
      "* * *  \n",
      "* * * *  \n"
     ]
    }
   ],
   "source": [
    "for i in range(1,5):\n",
    " for j in range(1,i+1):\n",
    "     print(\"*\",end=\" \")\n",
    " print(\" \")"
   ]
  },
  {
   "cell_type": "code",
   "execution_count": 39,
   "id": "daaa88f5-a871-429e-96ae-d2350a945614",
   "metadata": {},
   "outputs": [
    {
     "name": "stdout",
     "output_type": "stream",
     "text": [
      "1  \n",
      "1 2  \n",
      "1 2 3  \n"
     ]
    }
   ],
   "source": [
    "for i in range(1,4):\n",
    " for j in range(1,i+1):\n",
    "     print(j,end=\" \")\n",
    " print(\" \")"
   ]
  },
  {
   "cell_type": "code",
   "execution_count": 41,
   "id": "789cfa42-1fa1-4d9f-a1b5-69283e74c2cb",
   "metadata": {},
   "outputs": [
    {
     "name": "stdout",
     "output_type": "stream",
     "text": [
      "1 2 3 4 5  \n",
      "1 2 3 4  \n",
      "1 2 3  \n",
      "1 2  \n",
      "1  \n",
      " \n",
      " \n"
     ]
    }
   ],
   "source": [
    "for i in range(7,0,-1):\n",
    " for j in range(1,i-1):\n",
    "     print(j,end=\" \")\n",
    " print(\" \")"
   ]
  },
  {
   "cell_type": "code",
   "execution_count": 47,
   "id": "e1e3379e-5833-49ba-8f28-1c6e2ab7acae",
   "metadata": {},
   "outputs": [
    {
     "name": "stdout",
     "output_type": "stream",
     "text": [
      "7  \n",
      "6 5  \n",
      "4 3 2  \n"
     ]
    }
   ],
   "source": [
    "x=7\n",
    "for i in range(1,4):\n",
    " for j in range(1,i+1):\n",
    "     print(x,end=\" \")\n",
    "     x=x-1\n",
    " print(\" \")"
   ]
  },
  {
   "cell_type": "code",
   "execution_count": 49,
   "id": "ac6143e2-9a72-4745-9ae4-8742b4dc36e1",
   "metadata": {},
   "outputs": [
    {
     "name": "stdout",
     "output_type": "stream",
     "text": [
      "7  \n",
      "6 6  \n",
      "5 5 5  \n",
      "4 4 4 4  \n"
     ]
    }
   ],
   "source": [
    "x=7\n",
    "for i in range(1,5):\n",
    " for j in range(1,i+1):\n",
    "     print(x,end=\" \")\n",
    " x=x-1\n",
    " print(\" \")"
   ]
  },
  {
   "cell_type": "code",
   "execution_count": 50,
   "id": "010de984-b546-46d1-9ea6-f557b11eae8f",
   "metadata": {},
   "outputs": [
    {
     "name": "stdout",
     "output_type": "stream",
     "text": [
      "1  \n",
      "2 3  \n",
      "4 5 6  \n",
      "7 8 9 10  \n"
     ]
    }
   ],
   "source": [
    "x=1\n",
    "for i in range(1,5):\n",
    " for j in range(1,i+1):\n",
    "     print(x,end=\" \")\n",
    "     x=x+1\n",
    " print(\" \")"
   ]
  },
  {
   "cell_type": "code",
   "execution_count": 63,
   "id": "cc4bee70-b6b9-4fff-b53a-93299474d126",
   "metadata": {},
   "outputs": [
    {
     "name": "stdout",
     "output_type": "stream",
     "text": [
      "65  \n",
      "65 66  \n",
      "65 66 67  \n",
      "65 66 67 68  \n"
     ]
    }
   ],
   "source": [
    "\n",
    "for i in range(1,5):\n",
    " x=65\n",
    " for j in range(1,i+1):\n",
    "    print(x,end=\" \")\n",
    "    x=x+1\n",
    " print(\" \")"
   ]
  },
  {
   "cell_type": "code",
   "execution_count": 88,
   "id": "778217d0-ded7-47e5-b266-b9816da35ca5",
   "metadata": {},
   "outputs": [
    {
     "name": "stdout",
     "output_type": "stream",
     "text": [
      "A  \n",
      "A B  \n",
      "A B C  \n",
      "A B C D  \n",
      "A B C D E  \n"
     ]
    }
   ],
   "source": [
    "\n",
    "for i in range(1,6):\n",
    " ch=65\n",
    " for j in range(1,i+1):\n",
    "    print(chr(ch),end=\" \")\n",
    "    ch=ch+1\n",
    " print(\" \")\n",
    "    "
   ]
  },
  {
   "cell_type": "code",
   "execution_count": 93,
   "id": "75ba701b-931b-413e-aa7d-f7e6d8b08110",
   "metadata": {},
   "outputs": [
    {
     "name": "stdout",
     "output_type": "stream",
     "text": [
      "A\n",
      "AB\n",
      "ABC\n",
      "ABCD\n",
      "ABCDE\n"
     ]
    }
   ],
   "source": [
    "for i in range(1,6):\n",
    " ch=65\n",
    " for j in range(1,i+1):\n",
    "   print(chr(ch),end=\"\")\n",
    "   ch=ch+1\n",
    " print(\"\")    \n"
   ]
  },
  {
   "cell_type": "code",
   "execution_count": 95,
   "id": "2062487b-d9f7-473c-9049-789c86946db5",
   "metadata": {},
   "outputs": [
    {
     "name": "stdout",
     "output_type": "stream",
     "text": [
      "A\n",
      "BB\n",
      "CCC\n",
      "DDDD\n",
      "EEEEE\n"
     ]
    }
   ],
   "source": [
    "ch=65\n",
    "for i in range(1,6):\n",
    " for j in range(1,i+1):\n",
    "   print(chr(ch),end=\"\")\n",
    " ch=ch+1\n",
    " print(\"\")    \n"
   ]
  },
  {
   "cell_type": "code",
   "execution_count": 97,
   "id": "1ea01552-ab75-43d5-bba7-b53cba0b2c15",
   "metadata": {},
   "outputs": [
    {
     "name": "stdout",
     "output_type": "stream",
     "text": [
      "e\n",
      "ff\n",
      "ggg\n",
      "hhhh\n",
      "iiiii\n"
     ]
    }
   ],
   "source": [
    "ch=101\n",
    "for i in range(1,6):\n",
    " for j in range(1,i+1):\n",
    "   print(chr(ch),end=\"\")\n",
    " ch=ch+1\n",
    " print(\"\")    \n"
   ]
  },
  {
   "cell_type": "code",
   "execution_count": 98,
   "id": "711b6dcf-c5f2-4f92-9f78-f8daf7004b86",
   "metadata": {},
   "outputs": [
    {
     "name": "stdout",
     "output_type": "stream",
     "text": [
      "E\n",
      "FF\n",
      "GGG\n",
      "HHHH\n",
      "IIIII\n"
     ]
    }
   ],
   "source": [
    "ch=69\n",
    "for i in range(1,6):\n",
    " for j in range(1,i+1):\n",
    "   print(chr(ch),end=\"\")\n",
    " ch=ch+1\n",
    " print(\"\") "
   ]
  },
  {
   "cell_type": "code",
   "execution_count": 115,
   "id": "b935e0f3-cd0d-4fa6-a04d-c002664c80e0",
   "metadata": {},
   "outputs": [
    {
     "name": "stdout",
     "output_type": "stream",
     "text": [
      "E\n",
      "DC\n",
      "BA@\n",
      "?>=<\n"
     ]
    }
   ],
   "source": [
    "ch=69\n",
    "for i in range(1,5):\n",
    " for j in range(1,i+1):\n",
    "    if(i==1 or i==j,i==5):\n",
    "     print(chr(ch),end=\"\")\n",
    "     ch=ch-1\n",
    " print(\"\") "
   ]
  },
  {
   "cell_type": "code",
   "execution_count": 137,
   "id": "e806c6ee-5ddc-455b-89bf-08ee182af908",
   "metadata": {},
   "outputs": [
    {
     "name": "stdout",
     "output_type": "stream",
     "text": [
      "        *  \n",
      "      * *  \n",
      "    * * *  \n",
      "  * * * *  \n"
     ]
    }
   ],
   "source": [
    "for i in range(1,5):\n",
    " for j in range(i,5):\n",
    "   print(\" \",end=\" \") \n",
    " for j in range(1,i+1):\n",
    "   print(\"*\",end=\" \")\n",
    " print(\" \")"
   ]
  },
  {
   "cell_type": "raw",
   "id": "7a2eb954-3a48-4ffd-b3d4-3293da16bf6b",
   "metadata": {},
   "source": [
    "for i in"
   ]
  },
  {
   "cell_type": "code",
   "execution_count": 142,
   "id": "1f9383dd-3615-4970-b7ec-6caa5623fa4b",
   "metadata": {},
   "outputs": [
    {
     "name": "stdout",
     "output_type": "stream",
     "text": [
      "        * \n",
      "      * * \n",
      "    * * * \n",
      "  * * * * \n"
     ]
    }
   ],
   "source": [
    "for i in range(1,5):\n",
    " for j in range(i,5):\n",
    "    print(\" \",end=\" \")\n",
    " for j in range(1,i+1):\n",
    "    print(\"*\",end=\" \")\n",
    " print(\"\")"
   ]
  },
  {
   "cell_type": "code",
   "execution_count": 144,
   "id": "eab27a51-7330-4c0c-b353-e1845aac00e7",
   "metadata": {},
   "outputs": [
    {
     "name": "stdout",
     "output_type": "stream",
     "text": [
      "        1 \n",
      "      1 2 \n",
      "    1 2 3 \n",
      "  1 2 3 4 \n"
     ]
    }
   ],
   "source": [
    "for i in range(1,5):\n",
    " for j in range(i,5):\n",
    "    print(\" \",end=\" \")\n",
    " for j in range(1,i+1):\n",
    "    print(j,end=\" \")\n",
    " print(\"\")"
   ]
  },
  {
   "cell_type": "code",
   "execution_count": 145,
   "id": "e9a53dd4-46ba-49d7-89d2-b2eff7467c7a",
   "metadata": {},
   "outputs": [
    {
     "name": "stdout",
     "output_type": "stream",
     "text": [
      "1 2 3 4 5 \n",
      "  1 2 3 4 \n",
      "    1 2 3 \n",
      "      1 2 \n",
      "        1 \n"
     ]
    }
   ],
   "source": [
    "for i in range(5,0,-1):\n",
    " for j in range(i,5):\n",
    "    print(\" \",end=\" \")\n",
    " for j in range(1,i+1):\n",
    "    print(j,end=\" \")\n",
    " print(\"\")"
   ]
  },
  {
   "cell_type": "code",
   "execution_count": 159,
   "id": "22dcfb96-9f07-4df7-8240-0f38b609f880",
   "metadata": {},
   "outputs": [
    {
     "name": "stdout",
     "output_type": "stream",
     "text": [
      "A B C D E \n",
      "  A B C D \n",
      "    A B C \n",
      "      A B \n",
      "        A \n"
     ]
    }
   ],
   "source": [
    "\n",
    "for i in range(5,0,-1):\n",
    " ch=65\n",
    " for j in range(i,5):\n",
    "    print(\" \",end=\" \")\n",
    " for j in range(1,i+1):\n",
    "    print(chr(ch),end=\" \")\n",
    "    ch=ch+1\n",
    " print(\"\")"
   ]
  },
  {
   "cell_type": "code",
   "execution_count": 164,
   "id": "8cf3a314-5440-483d-8d43-cb0ec09de1f7",
   "metadata": {},
   "outputs": [
    {
     "name": "stdout",
     "output_type": "stream",
     "text": [
      "          1 2 3 4 5 \n",
      "        1 2 3 4 5 \n",
      "      1 2 3 4 5 \n",
      "    1 2 3 4 5 \n",
      "  1 2 3 4 5 \n"
     ]
    }
   ],
   "source": [
    "for i in range(1,6):\n",
    " for j in range(i,6):\n",
    "    print(\" \",end=\" \")\n",
    " for j in range(1,j+1):\n",
    "    print(j,end=\" \")\n",
    " print(\"\")"
   ]
  },
  {
   "cell_type": "code",
   "execution_count": 165,
   "id": "0f41d392-caa1-439c-9900-24147bed67fb",
   "metadata": {},
   "outputs": [
    {
     "name": "stdout",
     "output_type": "stream",
     "text": [
      "          * * * * * \n",
      "        * * * * * \n",
      "      * * * * * \n",
      "    * * * * * \n",
      "  * * * * * \n"
     ]
    }
   ],
   "source": [
    "for i in range(1,6):\n",
    " for j in range(i,6):\n",
    "    print(\" \",end=\" \")\n",
    " for j in range(1,j+1):\n",
    "    print(\"*\",end=\" \")\n",
    " print(\"\")"
   ]
  },
  {
   "cell_type": "code",
   "execution_count": 168,
   "id": "9a5a2d42-3790-4777-ac95-6a47c846db00",
   "metadata": {},
   "outputs": [
    {
     "name": "stdout",
     "output_type": "stream",
     "text": [
      "          A B C D E \n",
      "        A B C D E \n",
      "      A B C D E \n",
      "    A B C D E \n",
      "  A B C D E \n"
     ]
    }
   ],
   "source": [
    "for i in range(1,6):\n",
    " ch=65\n",
    " for j in range(i,6):\n",
    "    print(\" \",end=\" \")\n",
    " for j in range(1,j+1):\n",
    "    print(chr(ch),end=\" \")\n",
    "    ch=ch+1\n",
    " print(\"\")"
   ]
  },
  {
   "cell_type": "code",
   "execution_count": 173,
   "id": "1cab7bef-6916-4561-b457-1c0dc9037d0f",
   "metadata": {},
   "outputs": [
    {
     "name": "stdout",
     "output_type": "stream",
     "text": [
      "* \n",
      "* * \n",
      "* - * \n",
      "* - - * \n",
      "* - - - * \n",
      "* * * * * * \n"
     ]
    }
   ],
   "source": [
    "num=6\n",
    "for i in range(1,num+1):\n",
    " for j in range(1,i+1):\n",
    "    if(j==1 or i==6 or i==j):\n",
    "        print(\"*\",end=\" \")\n",
    "    else:\n",
    "       print(\"-\",end=\" \")\n",
    " print(\"\")"
   ]
  },
  {
   "cell_type": "code",
   "execution_count": 179,
   "id": "6abd9fa1-337e-4c38-9d09-a2be59c3250e",
   "metadata": {},
   "outputs": [
    {
     "name": "stdout",
     "output_type": "stream",
     "text": [
      "* - - - * \n",
      "* - - * \n",
      "* - * \n",
      "* * \n",
      "* \n"
     ]
    }
   ],
   "source": [
    "num=6\n",
    "for i in range(5,0,-1):\n",
    " for j in range(1,i+1):\n",
    "    if(j==1 or i==6 or i==j):\n",
    "        print(\"*\",end=\" \")\n",
    "    else:\n",
    "       print(\"-\",end=\" \")\n",
    " print(\"\")"
   ]
  },
  {
   "cell_type": "code",
   "execution_count": 193,
   "id": "20047ce4-1ab5-4da4-99cc-6c59b88b960a",
   "metadata": {},
   "outputs": [
    {
     "name": "stdout",
     "output_type": "stream",
     "text": [
      "* * - - - \n",
      "- * - - \n",
      "- * * \n",
      "- * \n",
      "- \n",
      "\n"
     ]
    }
   ],
   "source": [
    "\n",
    "for i in range(6,1,-1):\n",
    " for j in range(0,num-i-1):\n",
    "    if(j==1 or i==6 or i==j):\n",
    "        print(\"*\",end=\" \")\n",
    "    else:\n",
    "        print(\"-\",end=\" \")\n",
    " print(\"\")"
   ]
  },
  {
   "cell_type": "code",
   "execution_count": 9,
   "id": "6df49910-3275-49a0-8a95-29d73c5e67e7",
   "metadata": {},
   "outputs": [
    {
     "name": "stdout",
     "output_type": "stream",
     "text": [
      "        *  \n",
      "      * *  \n",
      "    * * *  \n",
      "  * * * *  \n"
     ]
    }
   ],
   "source": [
    "for i in range(1,5):\n",
    " for j in range(i,5):\n",
    "   print(\" \",end=\" \") \n",
    " for j in range(1,i+1):\n",
    "   print(\"*\",end=\" \")\n",
    " print(\" \")"
   ]
  },
  {
   "cell_type": "code",
   "execution_count": 27,
   "id": "1596dcca-357f-478c-9755-5ab802192a67",
   "metadata": {},
   "outputs": [
    {
     "name": "stdout",
     "output_type": "stream",
     "text": [
      "* * * * \n",
      "* * ? * ? * \n",
      "* * * ? ? * \n",
      "* * * * \n"
     ]
    }
   ],
   "source": [
    "num=6\n",
    "for i in range(1,5):\n",
    "  for j in range(i,5):\n",
    "     for k in range(1,i+1):\n",
    "        if(j==1 or i==k or i==j):\n",
    "            print(\"*\",end=\" \")\n",
    "        else:\n",
    "           print(\"?\",end=\" \")\n",
    "  print(\"\")"
   ]
  },
  {
   "cell_type": "code",
   "execution_count": 34,
   "id": "7e8ab4e4-b662-4a76-a684-8a8df6dbdc34",
   "metadata": {},
   "outputs": [
    {
     "name": "stdout",
     "output_type": "stream",
     "text": [
      "---* \n",
      "--* * \n",
      "-* * * \n",
      "* * * * \n"
     ]
    }
   ],
   "source": [
    "num=4\n",
    "for i in range(1,num+1):\n",
    "    for j in range(i,4):\n",
    "        print(\"-\",end=\"\")\n",
    "    for j in range(1,i+1):\n",
    "      print(\"*\",end=\" \")\n",
    "    print(\"\")"
   ]
  },
  {
   "cell_type": "code",
   "execution_count": 14,
   "id": "c899748e-478c-4fed-bde0-71033bd7dccc",
   "metadata": {},
   "outputs": [
    {
     "name": "stdout",
     "output_type": "stream",
     "text": [
      "1 2 3 4 \n",
      " 1 2 3 \n",
      "  1 2 \n",
      "   1 \n"
     ]
    }
   ],
   "source": [
    "num=4\n",
    "for i in range(4,0,-1):\n",
    "    for j in range(i,4):\n",
    "      print(\" \",end=\"\")\n",
    "    for j in range(1,i+1):\n",
    "      print(j,end=\" \")\n",
    "    print(\"\")\n"
   ]
  },
  {
   "cell_type": "code",
   "execution_count": 41,
   "id": "19b0b60f-28b7-458f-8dea-e2b73a304e98",
   "metadata": {},
   "outputs": [
    {
     "name": "stdout",
     "output_type": "stream",
     "text": [
      "---1 \n",
      "--1 2 \n",
      "-1 2 3 \n",
      "1 2 3 4 \n"
     ]
    }
   ],
   "source": [
    "num=4\n",
    "for i in range(1,num+1):\n",
    "    for j in range(i,4):\n",
    "        print(\"-\",end=\"\")\n",
    "    for j in range(1,i+1):\n",
    "      print(j,end=\" \")\n",
    "    print(\"\")"
   ]
  },
  {
   "cell_type": "code",
   "execution_count": 42,
   "id": "37ce436d-ee2f-4ac3-9c41-1f465d08b546",
   "metadata": {},
   "outputs": [
    {
     "name": "stdout",
     "output_type": "stream",
     "text": [
      "1 2 3 4 \n",
      " 1 2 3 \n",
      "  1 2 \n",
      "   1 \n"
     ]
    }
   ],
   "source": [
    "num=4\n",
    "for i in range(4,0,-1):\n",
    "    for j in range(i,4):\n",
    "      print(\" \",end=\"\")\n",
    "    for j in range(1,i+1):\n",
    "      print(j,end=\" \")\n",
    "    print(\"\")\n"
   ]
  },
  {
   "cell_type": "code",
   "execution_count": 51,
   "id": "25d84b94-b837-427e-898d-c46207a731b4",
   "metadata": {},
   "outputs": [
    {
     "name": "stdout",
     "output_type": "stream",
     "text": [
      "---A \n",
      "--A B \n",
      "-A B C \n",
      "A B C D \n"
     ]
    }
   ],
   "source": [
    "\n",
    "for i in range(1,num+1):\n",
    " ch=65\n",
    " for j in range(i,4):\n",
    "        print(\"-\",end=\"\")\n",
    " for j in range(1,i+1):\n",
    "      print(chr(ch),end=\" \")\n",
    "      ch=ch+1\n",
    " print(\"\")"
   ]
  },
  {
   "cell_type": "code",
   "execution_count": 66,
   "id": "6166aea0-c748-4c51-8468-7f2ee26a468e",
   "metadata": {},
   "outputs": [
    {
     "name": "stdout",
     "output_type": "stream",
     "text": [
      "* \n",
      "* * \n",
      "* * * \n",
      "* * * * \n",
      "* * * \n",
      "* * \n",
      "* \n"
     ]
    }
   ],
   "source": [
    "for i in range(1,5):\n",
    "    for j in range(1,i+1):\n",
    "        print(\"*\",end=\" \")\n",
    "    print(\"\")\n",
    "for n in range(4,1,-1):\n",
    "    for k in range(1,n):\n",
    "      print(\"*\",end=\" \")\n",
    "    print(\"\")"
   ]
  },
  {
   "cell_type": "code",
   "execution_count": 78,
   "id": "cf5cc7cf-ebd1-47ce-888f-8477ebc1df75",
   "metadata": {},
   "outputs": [
    {
     "name": "stdout",
     "output_type": "stream",
     "text": [
      "* * * * * \n",
      "  * * * * \n",
      "    * * * \n",
      "      * * \n",
      "        * \n",
      "      * *  \n",
      "    * * *  \n",
      "  * * * *  \n",
      "* * * * *  \n"
     ]
    }
   ],
   "source": [
    "for i in range(5,0,-1):\n",
    " for j in range(i,5):\n",
    "    print(\" \",end=\" \")\n",
    " for k in range(1,i+1):\n",
    "    print(\"*\",end=\" \")\n",
    " print(\"\")\n",
    "for a in range(1,5):\n",
    " for b in range(1,5-a):\n",
    "   print(\" \",end=\" \") \n",
    " for c in range(1,a+2):\n",
    "   print(\"*\",end=\" \")\n",
    " print(\" \")"
   ]
  },
  {
   "cell_type": "code",
   "execution_count": 82,
   "id": "8c4b87d1-2096-423f-aa9a-c42545755878",
   "metadata": {},
   "outputs": [
    {
     "name": "stdout",
     "output_type": "stream",
     "text": [
      "   * \n",
      "  * * \n",
      " * * * \n",
      "* * * * \n"
     ]
    }
   ],
   "source": [
    "num=4\n",
    "for i in range(1,num+1):\n",
    "    for j in range(i,4):\n",
    "        print(\" \",end=\"\")\n",
    "    for j in range(1,i+1):\n",
    "      print(\"*\",end=\" \")\n",
    "    print(\"\")"
   ]
  },
  {
   "cell_type": "code",
   "execution_count": 85,
   "id": "03a07115-e70a-4f25-bcd0-24064a317619",
   "metadata": {},
   "outputs": [
    {
     "name": "stdout",
     "output_type": "stream",
     "text": [
      "   *\n",
      "  ***\n",
      " *****\n",
      "*******\n"
     ]
    }
   ],
   "source": [
    "num=4\n",
    "for i in range(1,num+1):\n",
    "    for j in range(i,4):\n",
    "        print(\" \",end=\"\")\n",
    "    for j in range(1,2*i):\n",
    "        print(\"*\",end=\"\")\n",
    "    print(\"\")"
   ]
  },
  {
   "cell_type": "code",
   "execution_count": 86,
   "id": "93c6b60f-4b03-4513-a8a7-ad87bf237afb",
   "metadata": {},
   "outputs": [
    {
     "name": "stdout",
     "output_type": "stream",
     "text": [
      "   *\n",
      "  ***\n",
      " *****\n",
      "*******\n"
     ]
    }
   ],
   "source": [
    "num=4\n",
    "for i in range(1,num+1):\n",
    "    for j in range(i,4):\n",
    "        print(\" \",end=\"\")\n",
    "    for j in range(1,2*i):\n",
    "        print(\"*\",end=\"\")\n",
    "    print(\"\")\n",
    "    "
   ]
  },
  {
   "cell_type": "code",
   "execution_count": 90,
   "id": "14a0fe5c-4fbf-4b02-a3a0-c89c43867028",
   "metadata": {},
   "outputs": [
    {
     "name": "stdout",
     "output_type": "stream",
     "text": [
      "   *\n",
      "  * *\n",
      " *   *\n",
      "*******\n"
     ]
    }
   ],
   "source": [
    "num=4\n",
    "for i in range(1,num+1):\n",
    "    for j in range(i,4):\n",
    "        print(\" \",end=\"\")\n",
    "    for j in range(1,2*i):\n",
    "        if(j==1 or i==4 or j==2*i-1):\n",
    "          print(\"*\",end=\"\")\n",
    "        else:\n",
    "          print(\" \",end=\"\")\n",
    "    print(\"\")"
   ]
  },
  {
   "cell_type": "code",
   "execution_count": null,
   "id": "6350a5fc-db36-47c4-b1fb-86ab003a32b4",
   "metadata": {},
   "outputs": [],
   "source": []
  },
  {
   "cell_type": "code",
   "execution_count": 3,
   "id": "7c945fc4-5098-465a-a242-f2ed7524eab9",
   "metadata": {},
   "outputs": [
    {
     "name": "stdout",
     "output_type": "stream",
     "text": [
      "   *\n",
      "  ***\n",
      " *****\n",
      "*******\n"
     ]
    }
   ],
   "source": [
    "num=4\n",
    "for i in range(1,5):\n",
    "    for j in range(i,4):\n",
    "        print(\" \",end=\"\")\n",
    "    for j in range(1,2*i):\n",
    "        print(\"*\",end=\"\")\n",
    "    print(\"\")"
   ]
  },
  {
   "cell_type": "code",
   "execution_count": 11,
   "id": "a29a0524-0681-42c9-90e9-13d291bae7d8",
   "metadata": {},
   "outputs": [
    {
     "name": "stdout",
     "output_type": "stream",
     "text": [
      "A A A A A A A A A A A A A A A A A A A A A A A A A A A A A A A A A A A A A A A A A A A A A A A A A A A A A A A A A A A A A A A A A A A A A A A A A A A A A A A A A A A A A A A A A A A A A A A A A A A A A A A A A A A A A A A A A A A A A A A A A A A A A A A \n",
      "B B B B B B B B B B B B B B B B B B B B B B B B B B B B B B B B B B B B B B B B B B B B B B B B B B B B B B B B B B B B B B B B B B B B B B B B B B B B B B B B B B B B B B B B B B B B B B B B B B B B B B B B B B B B B B B B B B B B B B B B B B B B B B B B B \n",
      "C C C C C C C C C C C C C C C C C C C C C C C C C C C C C C C C C C C C C C C C C C C C C C C C C C C C C C C C C C C C C C C C C C C C C C C C C C C C C C C C C C C C C C C C C C C C C C C C C C C C C C C C C C C C C C C C C C C C C C C C C C C C C C C C C C C \n",
      "D D D D D D D D D D D D D D D D D D D D D D D D D D D D D D D D D D D D D D D D D D D D D D D D D D D D D D D D D D D D D D D D D D D D D D D D D D D D D D D D D D D D D D D D D D D D D D D D D D D D D D D D D D D D D D D D D D D D D D D D D D D D D D D D D D D D D \n",
      "E E E E E E E E E E E E E E E E E E E E E E E E E E E E E E E E E E E E E E E E E E E E E E E E E E E E E E E E E E E E E E E E E E E E E E E E E E E E E E E E E E E E E E E E E E E E E E E E E E E E E E E E E E E E E E E E E E E E E E E E E E E E E E E E E E E E E E E \n",
      "F F F F F F F F F F F F F F F F F F F F F F F F F F F F F F F F F F F F F F F F F F F F F F F F F F F F F F F F F F F F F F F F F F F F F F F F F F F F F F F F F F F F F F F F F F F F F F F F F F F F F F F F F F F F F F F F F F F F F F F F F F F F F F F F F F F F F F F F F \n",
      "G G G G G G G G G G G G G G G G G G G G G G G G G G G G G G G G G G G G G G G G G G G G G G G G G G G G G G G G G G G G G G G G G G G G G G G G G G G G G G G G G G G G G G G G G G G G G G G G G G G G G G G G G G G G G G G G G G G G G G G G G G G G G G G G G G G G G G G G G G G \n",
      "H H H H H H H H H H H H H H H H H H H H H H H H H H H H H H H H H H H H H H H H H H H H H H H H H H H H H H H H H H H H H H H H H H H H H H H H H H H H H H H H H H H H H H H H H H H H H H H H H H H H H H H H H H H H H H H H H H H H H H H H H H H H H H H H H H H H H H H H H H H H H \n",
      "I I I I I I I I I I I I I I I I I I I I I I I I I I I I I I I I I I I I I I I I I I I I I I I I I I I I I I I I I I I I I I I I I I I I I I I I I I I I I I I I I I I I I I I I I I I I I I I I I I I I I I I I I I I I I I I I I I I I I I I I I I I I I I I I I I I I I I I I I I I I I I I \n",
      "J J J J J J J J J J J J J J J J J J J J J J J J J J J J J J J J J J J J J J J J J J J J J J J J J J J J J J J J J J J J J J J J J J J J J J J J J J J J J J J J J J J J J J J J J J J J J J J J J J J J J J J J J J J J J J J J J J J J J J J J J J J J J J J J J J J J J J J J J J J J J J J J J \n",
      "K K K K K K K K K K K K K K K K K K K K K K K K K K K K K K K K K K K K K K K K K K K K K K K K K K K K K K K K K K K K K K K K K K K K K K K K K K K K K K K K K K K K K K K K K K K K K K K K K K K K K K K K K K K K K K K K K K K K K K K K K K K K K K K K K K K K K K K K K K K K K K K K K K K \n",
      "L L L L L L L L L L L L L L L L L L L L L L L L L L L L L L L L L L L L L L L L L L L L L L L L L L L L L L L L L L L L L L L L L L L L L L L L L L L L L L L L L L L L L L L L L L L L L L L L L L L L L L L L L L L L L L L L L L L L L L L L L L L L L L L L L L L L L L L L L L L L L L L L L L L L L \n",
      "M M M M M M M M M M M M M M M M M M M M M M M M M M M M M M M M M M M M M M M M M M M M M M M M M M M M M M M M M M M M M M M M M M M M M M M M M M M M M M M M M M M M M M M M M M M M M M M M M M M M M M M M M M M M M M M M M M M M M M M M M M M M M M M M M M M M M M M M M M M M M M M M M M M M M M M \n",
      "N N N N N N N N N N N N N N N N N N N N N N N N N N N N N N N N N N N N N N N N N N N N N N N N N N N N N N N N N N N N N N N N N N N N N N N N N N N N N N N N N N N N N N N N N N N N N N N N N N N N N N N N N N N N N N N N N N N N N N N N N N N N N N N N N N N N N N N N N N N N N N N N N N N N N N N N N \n",
      "O O O O O O O O O O O O O O O O O O O O O O O O O O O O O O O O O O O O O O O O O O O O O O O O O O O O O O O O O O O O O O O O O O O O O O O O O O O O O O O O O O O O O O O O O O O O O O O O O O O O O O O O O O O O O O O O O O O O O O O O O O O O O O O O O O O O O O O O O O O O O O O O O O O O O O O O O O O \n",
      "P P P P P P P P P P P P P P P P P P P P P P P P P P P P P P P P P P P P P P P P P P P P P P P P P P P P P P P P P P P P P P P P P P P P P P P P P P P P P P P P P P P P P P P P P P P P P P P P P P P P P P P P P P P P P P P P P P P P P P P P P P P P P P P P P P P P P P P P P P P P P P P P P P P P P P P P P P P P P \n",
      "Q Q Q Q Q Q Q Q Q Q Q Q Q Q Q Q Q Q Q Q Q Q Q Q Q Q Q Q Q Q Q Q Q Q Q Q Q Q Q Q Q Q Q Q Q Q Q Q Q Q Q Q Q Q Q Q Q Q Q Q Q Q Q Q Q Q Q Q Q Q Q Q Q Q Q Q Q Q Q Q Q Q Q Q Q Q Q Q Q Q Q Q Q Q Q Q Q Q Q Q Q Q Q Q Q Q Q Q Q Q Q Q Q Q Q Q Q Q Q Q Q Q Q Q Q Q Q Q Q Q Q Q Q Q Q Q Q Q Q Q Q Q Q Q Q Q Q Q Q Q Q Q Q Q Q Q Q Q Q \n",
      "R R R R R R R R R R R R R R R R R R R R R R R R R R R R R R R R R R R R R R R R R R R R R R R R R R R R R R R R R R R R R R R R R R R R R R R R R R R R R R R R R R R R R R R R R R R R R R R R R R R R R R R R R R R R R R R R R R R R R R R R R R R R R R R R R R R R R R R R R R R R R R R R R R R R R R R R R R R R R R R R R \n",
      "S S S S S S S S S S S S S S S S S S S S S S S S S S S S S S S S S S S S S S S S S S S S S S S S S S S S S S S S S S S S S S S S S S S S S S S S S S S S S S S S S S S S S S S S S S S S S S S S S S S S S S S S S S S S S S S S S S S S S S S S S S S S S S S S S S S S S S S S S S S S S S S S S S S S S S S S S S S S S S S S S S S \n",
      "T T T T T T T T T T T T T T T T T T T T T T T T T T T T T T T T T T T T T T T T T T T T T T T T T T T T T T T T T T T T T T T T T T T T T T T T T T T T T T T T T T T T T T T T T T T T T T T T T T T T T T T T T T T T T T T T T T T T T T T T T T T T T T T T T T T T T T T T T T T T T T T T T T T T T T T T T T T T T T T T T T T T T \n",
      "U U U U U U U U U U U U U U U U U U U U U U U U U U U U U U U U U U U U U U U U U U U U U U U U U U U U U U U U U U U U U U U U U U U U U U U U U U U U U U U U U U U U U U U U U U U U U U U U U U U U U U U U U U U U U U U U U U U U U U U U U U U U U U U U U U U U U U U U U U U U U U U U U U U U U U U U U U U U U U U U U U U U U U U \n",
      "V V V V V V V V V V V V V V V V V V V V V V V V V V V V V V V V V V V V V V V V V V V V V V V V V V V V V V V V V V V V V V V V V V V V V V V V V V V V V V V V V V V V V V V V V V V V V V V V V V V V V V V V V V V V V V V V V V V V V V V V V V V V V V V V V V V V V V V V V V V V V V V V V V V V V V V V V V V V V V V V V V V V V V V V V \n",
      "W W W W W W W W W W W W W W W W W W W W W W W W W W W W W W W W W W W W W W W W W W W W W W W W W W W W W W W W W W W W W W W W W W W W W W W W W W W W W W W W W W W W W W W W W W W W W W W W W W W W W W W W W W W W W W W W W W W W W W W W W W W W W W W W W W W W W W W W W W W W W W W W W W W W W W W W W W W W W W W W W W W W W W W W W W W \n",
      "X X X X X X X X X X X X X X X X X X X X X X X X X X X X X X X X X X X X X X X X X X X X X X X X X X X X X X X X X X X X X X X X X X X X X X X X X X X X X X X X X X X X X X X X X X X X X X X X X X X X X X X X X X X X X X X X X X X X X X X X X X X X X X X X X X X X X X X X X X X X X X X X X X X X X X X X X X X X X X X X X X X X X X X X X X X X X \n",
      "Y Y Y Y Y Y Y Y Y Y Y Y Y Y Y Y Y Y Y Y Y Y Y Y Y Y Y Y Y Y Y Y Y Y Y Y Y Y Y Y Y Y Y Y Y Y Y Y Y Y Y Y Y Y Y Y Y Y Y Y Y Y Y Y Y Y Y Y Y Y Y Y Y Y Y Y Y Y Y Y Y Y Y Y Y Y Y Y Y Y Y Y Y Y Y Y Y Y Y Y Y Y Y Y Y Y Y Y Y Y Y Y Y Y Y Y Y Y Y Y Y Y Y Y Y Y Y Y Y Y Y Y Y Y Y Y Y Y Y Y Y Y Y Y Y Y Y Y Y Y Y Y Y Y Y Y Y Y Y Y Y Y Y Y Y Y Y Y Y Y Y Y Y Y Y \n",
      "Z Z Z Z Z Z Z Z Z Z Z Z Z Z Z Z Z Z Z Z Z Z Z Z Z Z Z Z Z Z Z Z Z Z Z Z Z Z Z Z Z Z Z Z Z Z Z Z Z Z Z Z Z Z Z Z Z Z Z Z Z Z Z Z Z Z Z Z Z Z Z Z Z Z Z Z Z Z Z Z Z Z Z Z Z Z Z Z Z Z Z Z Z Z Z Z Z Z Z Z Z Z Z Z Z Z Z Z Z Z Z Z Z Z Z Z Z Z Z Z Z Z Z Z Z Z Z Z Z Z Z Z Z Z Z Z Z Z Z Z Z Z Z Z Z Z Z Z Z Z Z Z Z Z Z Z Z Z Z Z Z Z Z Z Z Z Z Z Z Z Z Z Z Z Z Z Z \n"
     ]
    }
   ],
   "source": [
    "ch=65\n",
    "for i in range(64,90):\n",
    "    for j in range(i,4):\n",
    "        print(\"\",end=\" \")\n",
    "    for j in range(1,2*i):\n",
    "        print(chr(ch),end=\" \")\n",
    "    ch=ch+1\n",
    "    print(\"\")"
   ]
  },
  {
   "cell_type": "code",
   "execution_count": 13,
   "id": "6a5bde83-687e-43fe-96fe-d961d5f9de7f",
   "metadata": {},
   "outputs": [
    {
     "name": "stdout",
     "output_type": "stream",
     "text": [
      "@ @ @ @ @ @ @ @ @ @ @ @ @ @ @ @ @ @ @ @ @ @ @ @ @ @ @ @ @ @ @ @ @ @ @ @ @ @ @ @ @ @ @ @ @ @ @ @ @ @ @ @ @ @ @ @ @ @ @ @ @ @ @ @ \n",
      "A A A A A A A A A A A A A A A A A A A A A A A A A A A A A A A A A A A A A A A A A A A A A A A A A A A A A A A A A A A A A A A A A \n",
      "B B B B B B B B B B B B B B B B B B B B B B B B B B B B B B B B B B B B B B B B B B B B B B B B B B B B B B B B B B B B B B B B B B \n",
      "C C C C C C C C C C C C C C C C C C C C C C C C C C C C C C C C C C C C C C C C C C C C C C C C C C C C C C C C C C C C C C C C C C C \n",
      "D D D D D D D D D D D D D D D D D D D D D D D D D D D D D D D D D D D D D D D D D D D D D D D D D D D D D D D D D D D D D D D D D D D D \n",
      "E E E E E E E E E E E E E E E E E E E E E E E E E E E E E E E E E E E E E E E E E E E E E E E E E E E E E E E E E E E E E E E E E E E E E \n",
      "F F F F F F F F F F F F F F F F F F F F F F F F F F F F F F F F F F F F F F F F F F F F F F F F F F F F F F F F F F F F F F F F F F F F F F \n",
      "G G G G G G G G G G G G G G G G G G G G G G G G G G G G G G G G G G G G G G G G G G G G G G G G G G G G G G G G G G G G G G G G G G G G G G G \n",
      "H H H H H H H H H H H H H H H H H H H H H H H H H H H H H H H H H H H H H H H H H H H H H H H H H H H H H H H H H H H H H H H H H H H H H H H H \n",
      "I I I I I I I I I I I I I I I I I I I I I I I I I I I I I I I I I I I I I I I I I I I I I I I I I I I I I I I I I I I I I I I I I I I I I I I I I \n",
      "J J J J J J J J J J J J J J J J J J J J J J J J J J J J J J J J J J J J J J J J J J J J J J J J J J J J J J J J J J J J J J J J J J J J J J J J J J \n",
      "K K K K K K K K K K K K K K K K K K K K K K K K K K K K K K K K K K K K K K K K K K K K K K K K K K K K K K K K K K K K K K K K K K K K K K K K K K K \n",
      "L L L L L L L L L L L L L L L L L L L L L L L L L L L L L L L L L L L L L L L L L L L L L L L L L L L L L L L L L L L L L L L L L L L L L L L L L L L L \n",
      "M M M M M M M M M M M M M M M M M M M M M M M M M M M M M M M M M M M M M M M M M M M M M M M M M M M M M M M M M M M M M M M M M M M M M M M M M M M M M \n",
      "N N N N N N N N N N N N N N N N N N N N N N N N N N N N N N N N N N N N N N N N N N N N N N N N N N N N N N N N N N N N N N N N N N N N N N N N N N N N N N \n",
      "O O O O O O O O O O O O O O O O O O O O O O O O O O O O O O O O O O O O O O O O O O O O O O O O O O O O O O O O O O O O O O O O O O O O O O O O O O O O O O O \n",
      "P P P P P P P P P P P P P P P P P P P P P P P P P P P P P P P P P P P P P P P P P P P P P P P P P P P P P P P P P P P P P P P P P P P P P P P P P P P P P P P P \n",
      "Q Q Q Q Q Q Q Q Q Q Q Q Q Q Q Q Q Q Q Q Q Q Q Q Q Q Q Q Q Q Q Q Q Q Q Q Q Q Q Q Q Q Q Q Q Q Q Q Q Q Q Q Q Q Q Q Q Q Q Q Q Q Q Q Q Q Q Q Q Q Q Q Q Q Q Q Q Q Q Q Q \n",
      "R R R R R R R R R R R R R R R R R R R R R R R R R R R R R R R R R R R R R R R R R R R R R R R R R R R R R R R R R R R R R R R R R R R R R R R R R R R R R R R R R R \n",
      "S S S S S S S S S S S S S S S S S S S S S S S S S S S S S S S S S S S S S S S S S S S S S S S S S S S S S S S S S S S S S S S S S S S S S S S S S S S S S S S S S S S \n",
      "T T T T T T T T T T T T T T T T T T T T T T T T T T T T T T T T T T T T T T T T T T T T T T T T T T T T T T T T T T T T T T T T T T T T T T T T T T T T T T T T T T T T \n",
      "U U U U U U U U U U U U U U U U U U U U U U U U U U U U U U U U U U U U U U U U U U U U U U U U U U U U U U U U U U U U U U U U U U U U U U U U U U U U U U U U U U U U U \n",
      "V V V V V V V V V V V V V V V V V V V V V V V V V V V V V V V V V V V V V V V V V V V V V V V V V V V V V V V V V V V V V V V V V V V V V V V V V V V V V V V V V V V V V V \n",
      "W W W W W W W W W W W W W W W W W W W W W W W W W W W W W W W W W W W W W W W W W W W W W W W W W W W W W W W W W W W W W W W W W W W W W W W W W W W W W W W W W W W W W W W \n",
      "X X X X X X X X X X X X X X X X X X X X X X X X X X X X X X X X X X X X X X X X X X X X X X X X X X X X X X X X X X X X X X X X X X X X X X X X X X X X X X X X X X X X X X X X \n",
      "Y Y Y Y Y Y Y Y Y Y Y Y Y Y Y Y Y Y Y Y Y Y Y Y Y Y Y Y Y Y Y Y Y Y Y Y Y Y Y Y Y Y Y Y Y Y Y Y Y Y Y Y Y Y Y Y Y Y Y Y Y Y Y Y Y Y Y Y Y Y Y Y Y Y Y Y Y Y Y Y Y Y Y Y Y Y Y Y Y \n"
     ]
    }
   ],
   "source": [
    "ch=64\n",
    "for i in range(64,90):\n",
    "    for j in range(i,4):\n",
    "        print(\"-\",end=\"\")\n",
    "    for j in range(1,i+1):\n",
    "      print(chr(ch),end=\" \")\n",
    "    ch=ch+1\n",
    "    print(\"\")"
   ]
  },
  {
   "cell_type": "code",
   "execution_count": null,
   "id": "392db023-c92d-483b-8572-abd454370e93",
   "metadata": {},
   "outputs": [],
   "source": []
  }
 ],
 "metadata": {
  "kernelspec": {
   "display_name": "Python 3 (ipykernel)",
   "language": "python",
   "name": "python3"
  },
  "language_info": {
   "codemirror_mode": {
    "name": "ipython",
    "version": 3
   },
   "file_extension": ".py",
   "mimetype": "text/x-python",
   "name": "python",
   "nbconvert_exporter": "python",
   "pygments_lexer": "ipython3",
   "version": "3.13.3"
  }
 },
 "nbformat": 4,
 "nbformat_minor": 5
}
