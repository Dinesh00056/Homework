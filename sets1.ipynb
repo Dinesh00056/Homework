{
 "cells": [
  {
   "cell_type": "code",
   "execution_count": null,
   "id": "3dbfa8aa-0be8-4527-98f6-91859f72b4e7",
   "metadata": {},
   "outputs": [],
   "source": [
    "# Sets in Python ---->\n",
    "# (1). Identification = {}\n",
    "# (2). Mutable data type ---> We can change or update values at a run time .\n",
    "# (3). Unordered , Unindexed  and it contains only unique values ."
   ]
  },
  {
   "cell_type": "code",
   "execution_count": 2,
   "id": "3802e25f-ac41-46ce-a02d-2346bff893d2",
   "metadata": {},
   "outputs": [
    {
     "data": {
      "text/plain": [
       "{1, 2, 3}"
      ]
     },
     "execution_count": 2,
     "metadata": {},
     "output_type": "execute_result"
    }
   ],
   "source": [
    "a = {1,2,3,1,1,1,2}\n",
    "a"
   ]
  },
  {
   "cell_type": "code",
   "execution_count": 3,
   "id": "422776ba-2420-428b-b271-ff31da9ee030",
   "metadata": {},
   "outputs": [
    {
     "data": {
      "text/plain": [
       "{1, 2, 3, 55}"
      ]
     },
     "execution_count": 3,
     "metadata": {},
     "output_type": "execute_result"
    }
   ],
   "source": [
    "a.add(55)\n",
    "a"
   ]
  },
  {
   "cell_type": "code",
   "execution_count": 4,
   "id": "1194b9a4-6c29-4b9c-89cf-adfce0e8ac58",
   "metadata": {},
   "outputs": [
    {
     "data": {
      "text/plain": [
       "{1, 2, 3}"
      ]
     },
     "execution_count": 4,
     "metadata": {},
     "output_type": "execute_result"
    }
   ],
   "source": [
    "a.remove(55)\n",
    "a"
   ]
  },
  {
   "cell_type": "code",
   "execution_count": 5,
   "id": "c821a772-d751-4dea-991a-a585e91b90b9",
   "metadata": {},
   "outputs": [
    {
     "name": "stdout",
     "output_type": "stream",
     "text": [
      "345\n",
      "67\n",
      "1\n"
     ]
    }
   ],
   "source": [
    "# Loop in Sets\n",
    "a = {1,345,67}\n",
    "for i in a  :\n",
    "  print(i)"
   ]
  },
  {
   "cell_type": "code",
   "execution_count": 8,
   "id": "c0a08633-fb62-4446-91d4-ead2e2d3bc04",
   "metadata": {},
   "outputs": [],
   "source": [
    "# a = {1,2,3} + {4,5,6}\n",
    "# a"
   ]
  },
  {
   "cell_type": "code",
   "execution_count": 10,
   "id": "fc7519d5-ff64-480c-ae2c-db0f21f498cc",
   "metadata": {},
   "outputs": [
    {
     "data": {
      "text/plain": [
       "{1, 2, 3, 4, 5, 6}"
      ]
     },
     "execution_count": 10,
     "metadata": {},
     "output_type": "execute_result"
    }
   ],
   "source": [
    "a={1,2,3,4}\n",
    "b={3,4,5,6}\n",
    "c=a.union(b)\n",
    "c"
   ]
  },
  {
   "cell_type": "code",
   "execution_count": 3,
   "id": "dc1551eb-bdff-436c-a31d-f428c3b11dc8",
   "metadata": {},
   "outputs": [
    {
     "data": {
      "text/plain": [
       "{1, 2, 3, 4, 5, 6}"
      ]
     },
     "execution_count": 3,
     "metadata": {},
     "output_type": "execute_result"
    }
   ],
   "source": [
    "d=a|b\n",
    "d"
   ]
  },
  {
   "cell_type": "code",
   "execution_count": 4,
   "id": "4ec45b77-2793-46e7-a411-ed37947424a9",
   "metadata": {},
   "outputs": [
    {
     "data": {
      "text/plain": [
       "{3, 4}"
      ]
     },
     "execution_count": 4,
     "metadata": {},
     "output_type": "execute_result"
    }
   ],
   "source": [
    "##interssection\n",
    "a={1,2,3,4}\n",
    "b={3,4,5,6}\n",
    "c=a.intersection(b)\n",
    "c"
   ]
  },
  {
   "cell_type": "code",
   "execution_count": 5,
   "id": "0c95facb-4494-4e68-b598-73c129ea03f6",
   "metadata": {},
   "outputs": [
    {
     "data": {
      "text/plain": [
       "{3, 4}"
      ]
     },
     "execution_count": 5,
     "metadata": {},
     "output_type": "execute_result"
    }
   ],
   "source": [
    "d=a&b\n",
    "c"
   ]
  },
  {
   "cell_type": "code",
   "execution_count": 6,
   "id": "e5685419-6abf-45a0-b6c3-e3db59520022",
   "metadata": {},
   "outputs": [
    {
     "data": {
      "text/plain": [
       "{1, 2}"
      ]
     },
     "execution_count": 6,
     "metadata": {},
     "output_type": "execute_result"
    }
   ],
   "source": [
    "a-b # it will return only set values removing common elements.\n"
   ]
  },
  {
   "cell_type": "code",
   "execution_count": 7,
   "id": "72421764-1238-4563-bb4d-d8358d7e3a58",
   "metadata": {},
   "outputs": [
    {
     "data": {
      "text/plain": [
       "{5, 6}"
      ]
     },
     "execution_count": 7,
     "metadata": {},
     "output_type": "execute_result"
    }
   ],
   "source": [
    "b-a # it will return set b values removing commmon elements."
   ]
  },
  {
   "cell_type": "code",
   "execution_count": 8,
   "id": "69a00ef3-7c3c-449b-85df-db3e0857120f",
   "metadata": {},
   "outputs": [
    {
     "data": {
      "text/plain": [
       "set()"
      ]
     },
     "execution_count": 8,
     "metadata": {},
     "output_type": "execute_result"
    }
   ],
   "source": [
    "a={1,2,3,4}\n",
    "a.clear()\n",
    "a"
   ]
  },
  {
   "cell_type": "code",
   "execution_count": 12,
   "id": "5550694d-3a34-4c92-845e-ad226bc9f4d8",
   "metadata": {},
   "outputs": [
    {
     "name": "stdin",
     "output_type": "stream",
     "text": [
      "enter size: 5\n",
      "enter item: 1\n",
      "enter item: 2\n",
      "enter item: 3\n",
      "enter item: 3\n",
      "enter item: 4\n"
     ]
    },
    {
     "name": "stdout",
     "output_type": "stream",
     "text": [
      "[1, 2, 3, 3, 4]\n",
      "{1, 2, 3, 4}\n"
     ]
    }
   ],
   "source": [
    "#question1: given a list  of numbers, remove all duplicates values and return the unique elements\n",
    "a=[]\n",
    "size=int(input(\"enter size:\"))\n",
    "for i in range(size):\n",
    "    val=int(input(\"enter item:\"))\n",
    "    a.append(val)\n",
    "print(a)\n",
    "b=set(a)\n",
    "print(b)"
   ]
  },
  {
   "cell_type": "code",
   "execution_count": 14,
   "id": "f243e5d7-bf4e-4635-b601-01234bbec634",
   "metadata": {},
   "outputs": [
    {
     "data": {
      "text/plain": [
       "{3, 4}"
      ]
     },
     "execution_count": 14,
     "metadata": {},
     "output_type": "execute_result"
    }
   ],
   "source": [
    "#question2 : given two sets, find the common elements between them\n",
    "a={1,2,3,4}\n",
    "b={3,4,5,6}\n",
    "a.intersection(b)"
   ]
  },
  {
   "cell_type": "code",
   "execution_count": 15,
   "id": "6057f85f-b226-4888-805b-38d54c724829",
   "metadata": {},
   "outputs": [
    {
     "data": {
      "text/plain": [
       "{1, 2, 5, 6}"
      ]
     },
     "execution_count": 15,
     "metadata": {},
     "output_type": "execute_result"
    }
   ],
   "source": [
    "#ques 3: given two sets find elements that are unique to each set\n",
    "a={1,2,3,4}\n",
    "b={3,4,5,6}\n",
    "a^b"
   ]
  },
  {
   "cell_type": "code",
   "execution_count": 18,
   "id": "9086bbd1-0061-4dff-944a-f8852da39b15",
   "metadata": {},
   "outputs": [
    {
     "data": {
      "text/plain": [
       "{1, 2}"
      ]
     },
     "execution_count": 18,
     "metadata": {},
     "output_type": "execute_result"
    }
   ],
   "source": [
    "#ques 4: given two sets return elemets rhat are only in the first set.\n",
    "a={1,2,3,4}\n",
    "b={3,4,5,6}\n",
    "a-b"
   ]
  },
  {
   "cell_type": "code",
   "execution_count": 19,
   "id": "c3e1f41c-6592-4537-9c90-46ce1ec329a2",
   "metadata": {},
   "outputs": [
    {
     "data": {
      "text/plain": [
       "{1, 2}"
      ]
     },
     "execution_count": 19,
     "metadata": {},
     "output_type": "execute_result"
    }
   ],
   "source": [
    "a.difference(b)"
   ]
  },
  {
   "cell_type": "code",
   "execution_count": 21,
   "id": "a50ce12b-2ed7-4072-bc02-ffe128da6cd7",
   "metadata": {},
   "outputs": [
    {
     "data": {
      "text/plain": [
       "False"
      ]
     },
     "execution_count": 21,
     "metadata": {},
     "output_type": "execute_result"
    }
   ],
   "source": [
    "# ques 5: given two sets, check if the first set is a subset of the second\n",
    "a={1,2,3,4}\n",
    "b={1,2}\n",
    "a.issubset(b)"
   ]
  },
  {
   "cell_type": "code",
   "execution_count": 22,
   "id": "089d8d51-4bc0-4f18-b744-179ba870a275",
   "metadata": {},
   "outputs": [
    {
     "data": {
      "text/plain": [
       "True"
      ]
     },
     "execution_count": 22,
     "metadata": {},
     "output_type": "execute_result"
    }
   ],
   "source": [
    "a={1,2,3,4}\n",
    "b={1,2}\n",
    "b.issubset(a)"
   ]
  },
  {
   "cell_type": "code",
   "execution_count": 31,
   "id": "223214e6-aa92-40fd-a53c-fc6ded934dc2",
   "metadata": {},
   "outputs": [
    {
     "name": "stdout",
     "output_type": "stream",
     "text": [
      "{1, 2, 3, 4, 5, 6}\n"
     ]
    },
    {
     "data": {
      "text/plain": [
       "{1, 2, 3, 4, 5, 6, 7, 8}"
      ]
     },
     "execution_count": 31,
     "metadata": {},
     "output_type": "execute_result"
    }
   ],
   "source": [
    "# ques6: given multiple sets retuen a single set taht contains all unique elemsts\n",
    "a={1,2,3,4}\n",
    "b={3,4,5,6}\n",
    "c={5,6,7,8}\n",
    "d=a.union(b)\n",
    "print(d)\n",
    "e=d.union(c)\n",
    "e"
   ]
  },
  {
   "cell_type": "code",
   "execution_count": null,
   "id": "39bf9340-0953-4cb1-bf92-4ce8bc683e58",
   "metadata": {},
   "outputs": [],
   "source": []
  }
 ],
 "metadata": {
  "kernelspec": {
   "display_name": "Python 3 (ipykernel)",
   "language": "python",
   "name": "python3"
  },
  "language_info": {
   "codemirror_mode": {
    "name": "ipython",
    "version": 3
   },
   "file_extension": ".py",
   "mimetype": "text/x-python",
   "name": "python",
   "nbconvert_exporter": "python",
   "pygments_lexer": "ipython3",
   "version": "3.13.3"
  }
 },
 "nbformat": 4,
 "nbformat_minor": 5
}
