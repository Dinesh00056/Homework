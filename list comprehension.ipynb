{
 "cells": [
  {
   "cell_type": "code",
   "execution_count": 1,
   "id": "c72ac001-c4ce-4f16-b9ad-6aa597bb6a0f",
   "metadata": {},
   "outputs": [],
   "source": [
    "# List comprehension\n",
    "# list comprehension in python provide a concise way to create lists.\n",
    "# They made more readable and efficient than traditional for loops\n",
    "# syntax:\n",
    "# [expression foe item in iterable if condition]\n"
   ]
  },
  {
   "cell_type": "code",
   "execution_count": 4,
   "id": "c40e6a90-1a1d-4852-8591-9ec07e32cb16",
   "metadata": {},
   "outputs": [
    {
     "name": "stdout",
     "output_type": "stream",
     "text": [
      "[1, 4, 9, 16, 25]\n"
     ]
    }
   ],
   "source": [
    "# Create a list of Squares\n",
    "squares = [x**2 for x in range(1,6)]\n",
    "print(squares)\n"
   ]
  },
  {
   "cell_type": "code",
   "execution_count": 7,
   "id": "3e223cbb-72c3-40de-8dc9-baeecde10966",
   "metadata": {},
   "outputs": [
    {
     "name": "stdout",
     "output_type": "stream",
     "text": [
      "[0, 2, 4, 6, 8]\n"
     ]
    }
   ],
   "source": [
    "# Filter even numbers\n",
    "evens=[x for x in range(10) if x%2==0]\n",
    "print(evens)"
   ]
  },
  {
   "cell_type": "code",
   "execution_count": 8,
   "id": "ff729922-35fb-4554-a933-a9d8374613e6",
   "metadata": {},
   "outputs": [
    {
     "name": "stdout",
     "output_type": "stream",
     "text": [
      "['SAM', 'ROHIT', 'ANKIT']\n"
     ]
    }
   ],
   "source": [
    "# Convert strings to uppercase\n",
    "names=[\"sam\",\"rohit\",\"ankit\"]\n",
    "upper_names=[name.upper() for name in names]\n",
    "print(upper_names)"
   ]
  },
  {
   "cell_type": "code",
   "execution_count": 11,
   "id": "76993b18-2604-4199-838b-0d335cdf386f",
   "metadata": {},
   "outputs": [
    {
     "name": "stdout",
     "output_type": "stream",
     "text": [
      "[1, 2, 3, 4, 5, 6]\n"
     ]
    }
   ],
   "source": [
    "# Flatten a nested list\n",
    "matrix=[[1,2],[3,4],[5,6]]\n",
    "flattened = [num for sublist in matrix for num in sublist]\n",
    "print(flattened)"
   ]
  },
  {
   "cell_type": "code",
   "execution_count": 12,
   "id": "337f42f9-a1b4-4447-b2aa-eb82ebbc586d",
   "metadata": {},
   "outputs": [
    {
     "name": "stdout",
     "output_type": "stream",
     "text": [
      "[(0, 0), (0, 1), (1, 0), (1, 1), (2, 0), (2, 1)]\n"
     ]
    }
   ],
   "source": [
    "# Generate a list of tuple\n",
    "pairs=[(x,y) for x in range (3) for y in range(2)]\n",
    "print(pairs)"
   ]
  },
  {
   "cell_type": "code",
   "execution_count": 15,
   "id": "9f9d1920-b7bf-4716-a149-2591e0aeab2b",
   "metadata": {},
   "outputs": [
    {
     "name": "stdout",
     "output_type": "stream",
     "text": [
      "[1, 4, 9, 16, 25]\n"
     ]
    }
   ],
   "source": [
    "#Traditional way to list comprehension\n",
    "squares=[]  #old format\n",
    "for x in range(1,6):\n",
    "    squares.append(x**2)\n",
    "print(squares)"
   ]
  },
  {
   "cell_type": "code",
   "execution_count": 16,
   "id": "f389d813-a8e5-4287-8a3c-da3277040f55",
   "metadata": {},
   "outputs": [
    {
     "name": "stdout",
     "output_type": "stream",
     "text": [
      "[1, 4, 9, 16, 25]\n"
     ]
    }
   ],
   "source": [
    "squares=[x**2 for x in range(1,6)]  ## list comprehension\n",
    "print(squares)"
   ]
  },
  {
   "cell_type": "code",
   "execution_count": null,
   "id": "f5bcd40b-d300-4d2d-8ab5-8108dccb4548",
   "metadata": {},
   "outputs": [],
   "source": []
  }
 ],
 "metadata": {
  "kernelspec": {
   "display_name": "Python 3 (ipykernel)",
   "language": "python",
   "name": "python3"
  },
  "language_info": {
   "codemirror_mode": {
    "name": "ipython",
    "version": 3
   },
   "file_extension": ".py",
   "mimetype": "text/x-python",
   "name": "python",
   "nbconvert_exporter": "python",
   "pygments_lexer": "ipython3",
   "version": "3.13.3"
  }
 },
 "nbformat": 4,
 "nbformat_minor": 5
}
