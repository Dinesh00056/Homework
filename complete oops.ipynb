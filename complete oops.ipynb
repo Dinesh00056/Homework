{
 "cells": [
  {
   "cell_type": "code",
   "execution_count": 1,
   "id": "f673e78c-a4dc-4c78-b5d8-155686efcd23",
   "metadata": {},
   "outputs": [
    {
     "name": "stdout",
     "output_type": "stream",
     "text": [
      "Name of employee is :sam and jobrole is :Frontend Developer\n",
      "Name of employee is :Rahul and jobrole is :MLOPS Engineer\n"
     ]
    },
    {
     "data": {
      "text/plain": [
       "'Jaipur'"
      ]
     },
     "execution_count": 1,
     "metadata": {},
     "output_type": "execute_result"
    }
   ],
   "source": [
    "class Employee:\n",
    "    location = 'Jaipur' \n",
    "    \n",
    "    def __init__(self,name , jobrole):\n",
    "        self.name = name\n",
    "        self.jobrole = jobrole \n",
    "    \n",
    "    def getInfo(self):\n",
    "        print(f\"Name of employee is :{self.name} and jobrole is :{self.jobrole}\")\n",
    "\n",
    "e = Employee('sam', 'Frontend Developer')  \n",
    "e.getInfo()\n",
    "a = Employee('Rahul', 'MLOPS Engineer')\n",
    "a.getInfo()\n",
    "Employee.location"
   ]
  },
  {
   "cell_type": "code",
   "execution_count": 2,
   "id": "f442e6f9-00b8-448e-b163-4c62c0a6adaf",
   "metadata": {},
   "outputs": [
    {
     "name": "stdout",
     "output_type": "stream",
     "text": [
      "Buddy says Woof!\n",
      "Golden Retriever this is breed\n",
      "Max says Woof!\n",
      "Labrador this is breed\n"
     ]
    }
   ],
   "source": [
    "# Example with self\n",
    "class Dog:\n",
    "    def __init__(self, name, breed):  # Constructor with 'self'\n",
    "        self.name = name  # 'self.name' binds to the instance attribute\n",
    "        self.breed = breed\n",
    "\n",
    "    def bark(self):\n",
    "        print(f\"{self.name} says Woof!\")\n",
    "        print(f\"{self.breed} this is breed\")        \n",
    "    \n",
    "dog1 = Dog(\"Buddy\", \"Golden Retriever\")\n",
    "dog2 = Dog(\"Max\", \"Labrador\")\n",
    "\n",
    "# Access attributes and methods\n",
    "dog1.bark()  \n",
    "dog2.bark()  \n"
   ]
  },
  {
   "cell_type": "code",
   "execution_count": null,
   "id": "95f5ce00-b510-4ad8-a265-45aac886c89d",
   "metadata": {},
   "outputs": [],
   "source": [
    "# Example Without self\n",
    "\n",
    "class Dog:\n",
    "    def __init__(name, breed):  # Missing 'self'\n",
    "        name = name  # This won't bind to the instance\n",
    "        breed = breed  # This won't bind to the instance\n",
    "\n",
    "    def bark():\n",
    "        print(f\"{name} says Woof!\")  # This will cause an error\n",
    "\n",
    "# Create an object\n",
    "dog1 = Dog(\"Buddy\", \"Golden Retriever\")\n"
   ]
  },
  {
   "cell_type": "code",
   "execution_count": 4,
   "id": "592013c4-24dd-4b4e-b678-24be3a1bbc73",
   "metadata": {},
   "outputs": [],
   "source": [
    "\n",
    "# Example \n",
    "class Dog:\n",
    "    def __init__(self, name, breed):\n",
    "        self.name = name  # Attribute\n",
    "        self.breed = breed  # Attribute\n",
    "\n",
    "# Here, name and breed are attributes of the Dog class."
   ]
  },
  {
   "cell_type": "code",
   "execution_count": 5,
   "id": "5e61a1b4-a600-4dbc-8f9f-faad959431b6",
   "metadata": {},
   "outputs": [],
   "source": [
    "# Example \n",
    "class Dog:\n",
    "    def __init__(self, name, breed):\n",
    "        self.name = name\n",
    "        self.breed = breed\n",
    "    \n",
    "    def bark(self):  # Method\n",
    "        print(f\"{self.name} says Woof!\")\n"
   ]
  },
  {
   "cell_type": "code",
   "execution_count": 6,
   "id": "2a75c157-5b9e-4ad4-874c-bc512d19c3ef",
   "metadata": {},
   "outputs": [
    {
     "name": "stdout",
     "output_type": "stream",
     "text": [
      "My dog's name is Buddy and its breed is Golden Retriever.\n",
      "Buddy says Woof!\n"
     ]
    }
   ],
   "source": [
    "class Dog:\n",
    "    def __init__(self, name, breed):\n",
    "        self.name = name  # Attributes\n",
    "        self.breed = breed\n",
    "\n",
    "    def bark(self):  # Method\n",
    "        print(f\"{self.name} says Woof!\")\n",
    "\n",
    "# Creating an object of the class\n",
    "my_dog = Dog(\"Buddy\", \"Golden Retriever\")\n",
    "\n",
    "# Accessing attributes and methods\n",
    "print(f\"My dog's name is {my_dog.name} and its breed is {my_dog.breed}.\")\n",
    "my_dog.bark()\n"
   ]
  },
  {
   "cell_type": "code",
   "execution_count": 7,
   "id": "5ccc0855-bc6a-4ac8-a4ef-8764e4ef122a",
   "metadata": {},
   "outputs": [
    {
     "name": "stdout",
     "output_type": "stream",
     "text": [
      "12\n",
      "8\n",
      "20\n",
      "5.0\n"
     ]
    }
   ],
   "source": [
    "class Calculator:\n",
    "    def __init__(self, num1, num2):\n",
    "        self.num1 = num1\n",
    "        self.num2 = num2\n",
    "\n",
    "    def add(self):\n",
    "        return self.num1 + self.num2\n",
    "\n",
    "    def subtract(self):\n",
    "        return self.num1 - self.num2\n",
    "\n",
    "    def multiply(self):\n",
    "        return self.num1 * self.num2\n",
    "\n",
    "    def divide(self):\n",
    "        if self.num2 != 0:\n",
    "            return self.num1 / self.num2\n",
    "        else:\n",
    "            return \"Division by zero is not allowed!\"\n",
    "\n",
    "calc = Calculator(10,2)\n",
    "print(calc.add())       \n",
    "print(calc.subtract())  \n",
    "print(calc.multiply())  \n",
    "print(calc.divide())    "
   ]
  },
  {
   "cell_type": "code",
   "execution_count": 8,
   "id": "52cbb1ed-2566-428a-9272-3c1c737c1ee1",
   "metadata": {},
   "outputs": [
    {
     "name": "stdout",
     "output_type": "stream",
     "text": [
      "500 deposited. New balance: 1500\n",
      "300 withdrawn. Remaining balance: 1200\n",
      "Account balance for Saurabh: 1200\n"
     ]
    }
   ],
   "source": [
    "class BankAccount:\n",
    "    def __init__(self, holder_name, balance=0):\n",
    "        self.holder_name = holder_name\n",
    "        self.balance = balance\n",
    "\n",
    "    def deposit(self, amount):\n",
    "        self.balance += amount\n",
    "        print(f\"{amount} deposited. New balance: {self.balance}\")\n",
    "\n",
    "    def withdraw(self, amount):\n",
    "        if amount <= self.balance:\n",
    "            self.balance -= amount  ## self.balance = self.balance - amount \n",
    "            print(f\"{amount} withdrawn. Remaining balance: {self.balance}\")\n",
    "        else:\n",
    "            print(\"Insufficient funds!\")\n",
    "\n",
    "    def check_balance(self):\n",
    "        return f\"Account balance for {self.holder_name}: {self.balance}\"\n",
    "\n",
    "# Test the BankAccount class\n",
    "account = BankAccount(\"Saurabh\", 1000)\n",
    "account.deposit(500)         \n",
    "account.withdraw(300)       \n",
    "print(account.check_balance()) \n"
   ]
  },
  {
   "cell_type": "code",
   "execution_count": 9,
   "id": "533774dd-1c23-4dcc-867e-de6c5089b8f1",
   "metadata": {},
   "outputs": [
    {
     "name": "stdout",
     "output_type": "stream",
     "text": [
      "Name: Riya, Age: 20, Marks: 85\n",
      "Passed\n"
     ]
    }
   ],
   "source": [
    "class Student:\n",
    "    def __init__(self, name, age, marks):\n",
    "        self.name = name\n",
    "        self.age = age\n",
    "        self.marks = marks\n",
    "\n",
    "    def display_details(self):\n",
    "        print(f\"Name: {self.name}, Age: {self.age}, Marks: {self.marks}\")\n",
    "\n",
    "    def has_passed(self):\n",
    "        if self.marks >= 40:\n",
    "            return \"Passed\"\n",
    "        else:\n",
    "            return \"Failed\"\n",
    "\n",
    "# Test the Student class\n",
    "student = Student(\"Riya\", 20, 85)\n",
    "student.display_details()       \n",
    "print(student.has_passed())    "
   ]
  },
  {
   "cell_type": "code",
   "execution_count": 10,
   "id": "c5f2f039-5fca-49c0-ad5a-d0915d989fe0",
   "metadata": {},
   "outputs": [
    {
     "name": "stdout",
     "output_type": "stream",
     "text": [
      "You have borrowed 'The Alchemist'.\n",
      "'The Alchemist' is not available.\n",
      "'The Alchemist' has been returned. Thank you!\n"
     ]
    }
   ],
   "source": [
    "class Book:\n",
    "    def __init__(self, title, author):\n",
    "        self.title = title\n",
    "        self.author = author\n",
    "        self.is_available = True\n",
    "\n",
    "    def borrow(self):\n",
    "        if self.is_available:\n",
    "            self.is_available = False\n",
    "            return f\"You have borrowed '{self.title}'.\"\n",
    "        else:\n",
    "            return f\"'{self.title}' is not available.\"\n",
    "\n",
    "    def return_book(self):\n",
    "        self.is_available = True\n",
    "        return f\"'{self.title}' has been returned. Thank you!\"\n",
    "\n",
    "# Test the Book class\n",
    "book1 = Book(\"The Alchemist\", \"Paulo Coelho\")\n",
    "print(book1.borrow())           \n",
    "print(book1.borrow())           \n",
    "print(book1.return_book())      \n"
   ]
  },
  {
   "cell_type": "code",
   "execution_count": 11,
   "id": "88cb6d3c-e02a-4c09-9a98-cdba00522cca",
   "metadata": {},
   "outputs": [
    {
     "name": "stdout",
     "output_type": "stream",
     "text": [
      "Employee ID: 101, Name: Ankit, Monthly Salary: 50000\n",
      "600000\n"
     ]
    }
   ],
   "source": [
    "class Employee:\n",
    "    def __init__(self, name, emp_id, salary):\n",
    "        self.name = name\n",
    "        self.emp_id = emp_id\n",
    "        self.salary = salary\n",
    "\n",
    "    def calculate_annual_salary(self):\n",
    "        return self.salary * 12\n",
    "\n",
    "    def display_details(self):\n",
    "        print(f\"Employee ID: {self.emp_id}, Name: {self.name}, Monthly Salary: {self.salary}\")\n",
    "\n",
    "# Test the Employee class\n",
    "employee = Employee(\"Ankit\", 101, 50000)\n",
    "employee.display_details()      \n",
    "print(employee.calculate_annual_salary())  "
   ]
  },
  {
   "cell_type": "code",
   "execution_count": 12,
   "id": "5ad10974-8a47-43e1-b188-b2cc2b551247",
   "metadata": {},
   "outputs": [
    {
     "name": "stdout",
     "output_type": "stream",
     "text": [
      "Circle Area: 78.5\n",
      "Circle Perimeter: 31.400000000000002\n"
     ]
    }
   ],
   "source": [
    "from abc import ABC, abstractmethod\n",
    "# Abstract class\n",
    "class Shape(ABC):\n",
    "    @abstractmethod\n",
    "    def area(self):\n",
    "        pass  # Abstract method, no implementation\n",
    "\n",
    "    @abstractmethod\n",
    "    def perimeter(self):\n",
    "        pass  # Abstract method, no implementation\n",
    "\n",
    "# Concrete class for Circle\n",
    "class Circle(Shape):\n",
    "    def __init__(self, radius):\n",
    "        self.radius = radius\n",
    "\n",
    "    def area(self):\n",
    "        return 3.14 * self.radius * self.radius\n",
    "\n",
    "    def perimeter(self):\n",
    "        return 2 * 3.14 * self.radius\n",
    "# Using the classes\n",
    "circle = Circle(5)\n",
    "print(\"Circle Area:\", circle.area())         \n",
    "print(\"Circle Perimeter:\", circle.perimeter()) "
   ]
  },
  {
   "cell_type": "code",
   "execution_count": 13,
   "id": "fed701d7-222e-4ec9-9de5-f0f36b3163d1",
   "metadata": {},
   "outputs": [],
   "source": [
    "# Shape is the abstract class that defines a blueprint for shapes.\n",
    "\n",
    "# Circle and Rectangle are concrete classes that implement the abstract methods (area and perimeter) of the Shape class."
   ]
  },
  {
   "cell_type": "code",
   "execution_count": 14,
   "id": "40b4d316-7627-45a8-b069-dbf838636232",
   "metadata": {},
   "outputs": [
    {
     "name": "stdout",
     "output_type": "stream",
     "text": [
      "Credit Card payment of $100 processed.\n",
      "PayPal payment of $500 processed.\n"
     ]
    }
   ],
   "source": [
    "from abc import ABC, abstractmethod\n",
    "\n",
    "# Abstract class\n",
    "class Payment(ABC):\n",
    "    @abstractmethod\n",
    "    def make_payment(self, amount):\n",
    "        pass\n",
    "\n",
    "# Concrete class for Credit Card Payment\n",
    "class CreditCardPayment(Payment):\n",
    "    def make_payment(self, amount):\n",
    "        return f\"Credit Card payment of ${amount} processed.\"\n",
    "\n",
    "# Concrete class for PayPal Payment\n",
    "class PayPalPayment(Payment):\n",
    "    def make_payment(self, amount):\n",
    "        return f\"PayPal payment of ${amount} processed.\"\n",
    "\n",
    "# Using the classes\n",
    "payment1 = CreditCardPayment()\n",
    "print(payment1.make_payment(100))  \n",
    "\n",
    "payment2 = PayPalPayment()\n",
    "print(payment2.make_payment(500))  \n"
   ]
  },
  {
   "cell_type": "code",
   "execution_count": 15,
   "id": "32712a7e-d0ec-4fae-8340-9a6e99f59cc5",
   "metadata": {},
   "outputs": [],
   "source": [
    "# Payment is the abstract class that defines a common interface for all payment methods.\n",
    "# CreditCardPayment and PayPalPayment are concrete classes that implement the abstract method make_payment.\n"
   ]
  },
  {
   "cell_type": "code",
   "execution_count": 16,
   "id": "2a8f8415-b6a9-47ac-a237-b394b1bad709",
   "metadata": {},
   "outputs": [
    {
     "name": "stdout",
     "output_type": "stream",
     "text": [
      "Car: 15 km/l\n",
      "Bike: 40 km/l\n",
      "Truck: 8 km/l\n"
     ]
    }
   ],
   "source": [
    "from abc import ABC, abstractmethod\n",
    "\n",
    "# Abstract class\n",
    "class Vehicle(ABC):\n",
    "    @abstractmethod\n",
    "    def fuel_efficiency(self):\n",
    "        pass  # Abstract method: to be implemented by subclasses\n",
    "\n",
    "# Concrete class for Car\n",
    "class Car(Vehicle):\n",
    "    def fuel_efficiency(self):\n",
    "        return \"Car: 15 km/l\"\n",
    "\n",
    "# Concrete class for Bike\n",
    "class Bike(Vehicle):\n",
    "    def fuel_efficiency(self):\n",
    "        return \"Bike: 40 km/l\"\n",
    "\n",
    "# Concrete class for Truck\n",
    "class Truck(Vehicle):\n",
    "    def fuel_efficiency(self):\n",
    "        return \"Truck: 8 km/l\"\n",
    "\n",
    "# Using the classes\n",
    "car = Car()\n",
    "bike = Bike()\n",
    "truck = Truck()\n",
    "\n",
    "print(car.fuel_efficiency())  \n",
    "print(bike.fuel_efficiency()) \n",
    "print(truck.fuel_efficiency()) \n"
   ]
  },
  {
   "cell_type": "code",
   "execution_count": 17,
   "id": "de28b83e-2591-4656-bcbc-0e4c2528e324",
   "metadata": {},
   "outputs": [
    {
     "name": "stdout",
     "output_type": "stream",
     "text": [
      "Secret\n"
     ]
    }
   ],
   "source": [
    "class Example:\n",
    "    def __init__(self):\n",
    "        self.__private = \"Secret\"\n",
    "\n",
    "obj = Example()\n",
    "print(obj._Example__private)# Accessing private attribute using name mangling\n",
    "# print(obj.__private)"
   ]
  },
  {
   "cell_type": "code",
   "execution_count": null,
   "id": "eb7b66cf-fd4f-4ca9-ba78-fca3eb20d2bd",
   "metadata": {},
   "outputs": [],
   "source": [
    "class Car:\n",
    "    def __init__(self, color):\n",
    "        self.__color = color  # Private attribute\n",
    "\n",
    "    def set_color(self, color):\n",
    "        self.__color = color  # No additional logic, just setting the value\n",
    "\n",
    "    def get_color(self):\n",
    "        return self.__color  # No additional logic, just returning the value\n",
    "\n",
    "# Usage\n",
    "car = Car(\"Red\")\n",
    "print(car.get_color())  # Accessing the color through a getter\n",
    "car.set_color(\"Blue\")   # Setting the color through a setter\n",
    "print(car.get_color())  # Output: Blue\n"
   ]
  },
  {
   "cell_type": "code",
   "execution_count": null,
   "id": "c1791e74-e5af-4c66-9985-c4fae179341a",
   "metadata": {},
   "outputs": [],
   "source": [
    "# Problem:\n",
    "\n",
    "# The getter and setter add unnecessary complexity since there's no additional logic or validation in them.\n",
    "# The attribute color could have been made public without compromising the functionality."
   ]
  },
  {
   "cell_type": "code",
   "execution_count": 18,
   "id": "bf9f57df-1d00-493d-8a40-c2f40b787a58",
   "metadata": {},
   "outputs": [
    {
     "name": "stdout",
     "output_type": "stream",
     "text": [
      "Sam\n",
      "5000\n",
      "Deposit successful! New balance: 8000\n",
      "Withdrawal successful! New balance: 6000\n"
     ]
    }
   ],
   "source": [
    "class BankAccount:\n",
    "    def __init__(self, account_holder, balance):\n",
    "        self.__account_holder = account_holder  # Private attribute\n",
    "        self.__balance = balance               # Private attribute\n",
    "\n",
    "    # Getter for account holder\n",
    "    def get_account_holder(self):\n",
    "        return self.__account_holder\n",
    "\n",
    "    # Getter for balance\n",
    "    def get_balance(self):\n",
    "        return self.__balance\n",
    "\n",
    "    # Method to deposit money\n",
    "    def deposit(self, amount):\n",
    "        if amount > 0:\n",
    "            self.__balance += amount\n",
    "            return f\"Deposit successful! New balance: {self.__balance}\"\n",
    "        else:\n",
    "            return \"Invalid deposit amount!\"\n",
    "\n",
    "    # Method to withdraw money\n",
    "    def withdraw(self, amount):\n",
    "        if amount <= self.__balance:\n",
    "            self.__balance -= amount\n",
    "            return f\"Withdrawal successful! New balance: {self.__balance}\"\n",
    "        else:\n",
    "            return \"Insufficient funds!\"\n",
    "\n",
    "# Using the class\n",
    "account = BankAccount(\"Sam\", 5000)\n",
    "print(account.get_account_holder())  \n",
    "print(account.get_balance())         \n",
    "print(account.deposit(3000))         \n",
    "print(account.withdraw(2000))        \n",
    "\n",
    "# Attempt to access private attributes directly (not allowed)\n",
    "# print(account.__balance)  # Error: AttributeError\n"
   ]
  },
  {
   "cell_type": "code",
   "execution_count": 31,
   "id": "5fb1b0be-0efe-4043-8680-a525e0eef1be",
   "metadata": {},
   "outputs": [
    {
     "name": "stdout",
     "output_type": "stream",
     "text": [
      "Rohit\n",
      "85\n",
      "Grade updated successfully!\n",
      "55\n",
      "Invalid grade! Must be between 0 and 100.\n"
     ]
    }
   ],
   "source": [
    "class Student:\n",
    "    def __init__(self, name, grade):\n",
    "        self.name = name  # Public attribute\n",
    "        self.__grade = grade  # Private attribute\n",
    "\n",
    "    # Getter for grade\n",
    "    def get_grade(self):\n",
    "        return self.__grade\n",
    "\n",
    "    # Setter for grade (with validation)\n",
    "    def set_grade(self, new_grade):\n",
    "        if 0 <= new_grade <= 100:\n",
    "            self.__grade = new_grade\n",
    "            return \"Grade updated successfully!\"\n",
    "        else:\n",
    "            return \"Invalid grade! Must be between 0 and 100.\"\n",
    "\n",
    "# Using the class\n",
    "student = Student(\"Rohit\", 85)\n",
    "print(student.name)          \n",
    "print(student.get_grade())   \n",
    "print(student.set_grade(55))  \n",
    "print(student.get_grade())   \n",
    "# Attempt to set an invalid grade\n",
    "print(student.set_grade(150))  # Output: Invalid grade! Must be between 0 and 100.\n"
   ]
  },
  {
   "cell_type": "code",
   "execution_count": 30,
   "id": "aa1c7622-9c76-44b7-a3dd-d5f1a4f1937c",
   "metadata": {},
   "outputs": [
    {
     "name": "stdout",
     "output_type": "stream",
     "text": [
      "Medical record added for Rohit.\n",
      "Medical record added for Rohit.\n",
      "Medical record added for Rohit.\n",
      "Medical History for Rohit: ['Fever', 'Headache', 'Covid']\n"
     ]
    }
   ],
   "source": [
    "class Patient:\n",
    "    def __init__(self, name, age):\n",
    "        self.__name = name                 # Encapsulated name\n",
    "        self.__age = age                   # Encapsulated age\n",
    "        self.__medical_history = []        # Encapsulated medical history\n",
    "\n",
    "    def add_medical_record(self, record):\n",
    "        self.__medical_history.append(record)\n",
    "        return f\"Medical record added for {self.__name}.\"\n",
    "\n",
    "    def get_medical_history(self):\n",
    "        return f\"Medical History for {self.__name}: {self.__medical_history}\"\n",
    "\n",
    "# Usage\n",
    "patient = Patient(\"Rohit\", 30)\n",
    "print(patient.add_medical_record(\"Fever\"))\n",
    "print(patient.add_medical_record(\"Headache\"))\n",
    "print(patient.add_medical_record(\"Covid\"))\n",
    "\n",
    "print(patient.get_medical_history())  # Retrieve medical history\n"
   ]
  },
  {
   "cell_type": "code",
   "execution_count": 29,
   "id": "6ee1922a-c67f-4d4e-a797-46b322123fc1",
   "metadata": {},
   "outputs": [
    {
     "name": "stdout",
     "output_type": "stream",
     "text": [
      "Score added for Math: 10.\n",
      "Score added for Science: 20.\n",
      "Scores for Sam: [{'subject': 'Math', 'score': 10}, {'subject': 'Science', 'score': 20}]\n",
      "Average Score: 15.00\n"
     ]
    }
   ],
   "source": [
    "class Exam:\n",
    "    def __init__(self, student_name):\n",
    "        self.__student_name = student_name  # Encapsulated student name\n",
    "        self.__scores = []                  # Encapsulated list of scores\n",
    "\n",
    "    def add_score(self, subject, score):\n",
    "        if 0 <= score <= 100:\n",
    "            self.__scores.append({\"subject\": subject, \"score\": score})\n",
    "            return f\"Score added for {subject}: {score}.\"\n",
    "        return \"Invalid score! Must be between 0 and 100.\"\n",
    "\n",
    "    def get_scores(self):\n",
    "        return f\"Scores for {self.__student_name}: {self.__scores}\"\n",
    "\n",
    "    def calculate_average(self):\n",
    "        if not self.__scores:\n",
    "            return \"No scores available.\"\n",
    "        total = sum(item[\"score\"] for item in self.__scores)\n",
    "        return f\"Average Score: {total / len(self.__scores):.2f}\"\n",
    "\n",
    "# Usage\n",
    "exam = Exam(\"Sam\")\n",
    "print(exam.add_score(\"Math\", 10))        # Add a score\n",
    "print(exam.add_score(\"Science\", 20))    # Add another score\n",
    "print(exam.get_scores())                # Retrieve all scores\n",
    "print(exam.calculate_average())         # Calculate average score\n"
   ]
  },
  {
   "cell_type": "code",
   "execution_count": 28,
   "id": "aac95ab4-ae9a-4c7b-a64d-3065f7f385c2",
   "metadata": {},
   "outputs": [
    {
     "name": "stdout",
     "output_type": "stream",
     "text": [
      "Device Air Conditioner added.\n",
      "Device Air Conditioner is now ON.\n",
      "Device Air Conditioner is ON.\n",
      "Device Air Conditioner is now OFF.\n",
      "Device Air Conditioner is OFF.\n"
     ]
    }
   ],
   "source": [
    "class SmartHome:\n",
    "    def __init__(self):\n",
    "        self.__devices = {}  # Encapsulated dictionary to store device states\n",
    "\n",
    "    def add_device(self, device_name):\n",
    "        if device_name not in self.__devices:\n",
    "            self.__devices[device_name] = False  # Default state: Off\n",
    "            return f\"Device {device_name} added.\"\n",
    "        return f\"Device {device_name} already exists.\"\n",
    "\n",
    "    def turn_on_device(self, device_name):\n",
    "        if device_name in self.__devices:\n",
    "            self.__devices[device_name] = True\n",
    "            return f\"Device {device_name} is now ON.\"\n",
    "        return f\"Device {device_name} not found.\"\n",
    "\n",
    "    def turn_off_device(self, device_name):\n",
    "        if device_name in self.__devices:\n",
    "            self.__devices[device_name] = False\n",
    "            return f\"Device {device_name} is now OFF.\"\n",
    "        return f\"Device {device_name} not found.\"\n",
    "\n",
    "    def get_device_state(self, device_name):\n",
    "        if device_name in self.__devices:\n",
    "            state = \"ON\" if self.__devices[device_name] else \"OFF\"\n",
    "            return f\"Device {device_name} is {state}.\"\n",
    "        return f\"Device {device_name} not found.\"\n",
    "\n",
    "# Usage\n",
    "smart_home = SmartHome()\n",
    "print(smart_home.add_device(\"Air Conditioner\"))  # Add a device\n",
    "print(smart_home.turn_on_device(\"Air Conditioner\"))  # Turn on a device\n",
    "print(smart_home.get_device_state(\"Air Conditioner\"))  # Check the device state\n",
    "print(smart_home.turn_off_device(\"Air Conditioner\"))  # Turn off the device\n",
    "print(smart_home.get_device_state(\"Air Conditioner\"))  # Check the device state\n"
   ]
  },
  {
   "cell_type": "code",
   "execution_count": 27,
   "id": "4e9ea0a8-eadd-40e0-8b19-ba6ccefbfc3e",
   "metadata": {},
   "outputs": [
    {
     "name": "stdout",
     "output_type": "stream",
     "text": [
      "Name of location is Jaipur\n",
      "Project is  scheduled....\n",
      "Name of location is Delhi\n"
     ]
    }
   ],
   "source": [
    "class Employee:\n",
    "    def __init__(self,location):\n",
    "        self.location = location\n",
    "    def get_location(self):\n",
    "        print(f\"Name of location is {self.location}\")\n",
    "class Manager(Employee):\n",
    "    def get_project(self):\n",
    "        print(\"Project is  scheduled....\")\n",
    " \n",
    "sam = Employee('Jaipur')\n",
    "sam.get_location()\n",
    "Mohit = Manager('Delhi')\n",
    "Mohit.get_project()\n",
    "Mohit.get_location()"
   ]
  },
  {
   "cell_type": "code",
   "execution_count": 26,
   "id": "8fea0a24-8d88-4033-9d90-24439b7c2b73",
   "metadata": {},
   "outputs": [
    {
     "name": "stdout",
     "output_type": "stream",
     "text": [
      "Engine started.\n",
      "Wheels are rotating.\n",
      "Car is driving.\n"
     ]
    }
   ],
   "source": [
    "class Engine:\n",
    "    def start_engine(self):\n",
    "        print(\"Engine started.\")\n",
    "\n",
    "class Wheels:\n",
    "    def rotate_wheels(self):\n",
    "        print(\"Wheels are rotating.\")\n",
    "\n",
    "class Car(Engine, Wheels):  # Inheriting from Engine and Wheels\n",
    "    def drive(self):\n",
    "        print(\"Car is driving.\")\n",
    "\n",
    "# Usage\n",
    "my_car = Car()\n",
    "my_car.start_engine()  # Method from Engine\n",
    "my_car.rotate_wheels() # Method from Wheels\n",
    "my_car.drive()         # Method from Car\n"
   ]
  },
  {
   "cell_type": "code",
   "execution_count": 25,
   "id": "a2841be5-ffd0-4331-b7e1-7b9bdfbf1b3c",
   "metadata": {},
   "outputs": [
    {
     "name": "stdout",
     "output_type": "stream",
     "text": [
      "Animal is eating.\n",
      "Dog is barking.\n",
      "Puppy is weeping.\n"
     ]
    }
   ],
   "source": [
    "class Animal:\n",
    "    def eat(self):\n",
    "        print(\"Animal is eating.\")\n",
    "\n",
    "class Dog(Animal):  # Dog inherits from Animal\n",
    "    def bark(self):\n",
    "        print(\"Dog is barking.\")\n",
    "\n",
    "class Puppy(Dog):  # Puppy inherits from Dog\n",
    "    def weep(self):\n",
    "        print(\"Puppy is weeping.\")\n",
    "\n",
    "# Usage\n",
    "puppy = Puppy()\n",
    "puppy.eat()   # Method from Animal\n",
    "puppy.bark()  # Method from Dog\n",
    "puppy.weep()  # Method from Puppy\n"
   ]
  },
  {
   "cell_type": "code",
   "execution_count": 24,
   "id": "55302186-9807-4855-8226-9f78c55348b4",
   "metadata": {},
   "outputs": [
    {
     "name": "stdout",
     "output_type": "stream",
     "text": [
      "----- ORDER SUMMARY -----\n",
      "Customer Name: Saurabh, Contact: 9876534546546\n",
      "Product: Wireless Mouse, Price: ₹799\n",
      "--------------------------\n"
     ]
    }
   ],
   "source": [
    "# Customer class\n",
    "class Customer:\n",
    "    def __init__(self, name, contact):\n",
    "        self.name = name\n",
    "        self.contact = contact\n",
    "\n",
    "    def get_customer_details(self):\n",
    "        return f\"Customer Name: {self.name}, Contact: {self.contact}\"\n",
    "\n",
    "# Product class\n",
    "class Product:\n",
    "    def __init__(self, product_name, price):\n",
    "        self.product_name = product_name\n",
    "        self.price = price\n",
    "\n",
    "    def get_product_details(self):\n",
    "        return f\"Product: {self.product_name}, Price: ₹{self.price}\"\n",
    "\n",
    "# Order class inheriting Customer and Product\n",
    "class Order(Customer, Product):\n",
    "    def __init__(self, name, contact, product_name, price):\n",
    "        Customer.__init__(self, name, contact)\n",
    "        Product.__init__(self, product_name, price)\n",
    "\n",
    "    def generate_order_summary(self):\n",
    "        print(\"----- ORDER SUMMARY -----\")\n",
    "        print(self.get_customer_details())\n",
    "        print(self.get_product_details())\n",
    "        print(\"--------------------------\")\n",
    "\n",
    "# Test the system\n",
    "order1 = Order(\"Saurabh\", \"9876534546546\", \"Wireless Mouse\", 799)\n",
    "order1.generate_order_summary()\n"
   ]
  },
  {
   "cell_type": "code",
   "execution_count": 23,
   "id": "4ab2584c-53da-4c19-a807-8ae3cbd0dae3",
   "metadata": {},
   "outputs": [
    {
     "name": "stdout",
     "output_type": "stream",
     "text": [
      "Tech Solutions\n",
      "Future Tech\n",
      "Physics\n",
      "Physics\n",
      "Maths\n"
     ]
    }
   ],
   "source": [
    "class Employee:\n",
    "    company_name = \"Tech Solutions\"\n",
    "\n",
    "    def __init__(self, name, salary):\n",
    "        self.name = name\n",
    "        self.salary = salary\n",
    "\n",
    "    @classmethod\n",
    "    def change_company_name(cls, new_name):\n",
    "        cls.company_name = new_name\n",
    "\n",
    "# Usage\n",
    "emp1 = Employee(\"Sam\", 50000)\n",
    "emp2 = Employee(\"Rahul\", 60000)\n",
    "emp3 = Employee('Sumit' , 75000)\n",
    "\n",
    "# Access the class attribute\n",
    "print(Employee.company_name) \n",
    "\n",
    "# Change the class attribute using class method\n",
    "Employee.change_company_name(\"Future Tech\")\n",
    "print(Employee.company_name)\n",
    "\n",
    "emp1.company_name\n",
    "emp1.change_company_name('Physics')\n",
    "emp1.company_name\n",
    "\n",
    "print(emp2.company_name)\n",
    "print(emp3.company_name)\n",
    "emp2.change_company_name(\"Maths\")\n",
    "print(emp3.company_name) "
   ]
  },
  {
   "cell_type": "code",
   "execution_count": 22,
   "id": "581e9942-0752-4c8c-869f-c502380e1aff",
   "metadata": {},
   "outputs": [
    {
     "name": "stdout",
     "output_type": "stream",
     "text": [
      "8\n",
      "6\n"
     ]
    }
   ],
   "source": [
    "class MathOperations:\n",
    "    @staticmethod\n",
    "    def add(a, b):\n",
    "        return a + b\n",
    "\n",
    "    @staticmethod\n",
    "    def subtract(a, b):\n",
    "        return a - b\n",
    "\n",
    "# Usage\n",
    "print(MathOperations.add(5, 3))       \n",
    "print(MathOperations.subtract(10, 4)) "
   ]
  },
  {
   "cell_type": "code",
   "execution_count": 21,
   "id": "4248d729-33c1-4e72-b708-9e558f3c55dc",
   "metadata": {},
   "outputs": [
    {
     "name": "stdout",
     "output_type": "stream",
     "text": [
      "Name of employee is sam and role is frontenddeveloper\n",
      "This is great job\n",
      "Total =  12\n"
     ]
    }
   ],
   "source": [
    "class Employee:\n",
    "    location = 'Jaipur'\n",
    "    \n",
    "    def __init__(self , name , role):\n",
    "        self.name = name\n",
    "        self.role = role \n",
    "        \n",
    "    def getInfo(self):\n",
    "        print(f\"Name of employee is {self.name} and role is {self.role}\")\n",
    "    @staticmethod   \n",
    "    def NewInfo():\n",
    "        print(f\"This is great job\")\n",
    "        a = 5\n",
    "        b = 7\n",
    "        c = a + b \n",
    "        print(\"Total = \" , c) \n",
    "\n",
    "a = Employee('sam' , 'frontenddeveloper')\n",
    "a.getInfo()\n",
    "a.NewInfo()"
   ]
  },
  {
   "cell_type": "code",
   "execution_count": 20,
   "id": "919083de-4f09-442d-9a11-c8654642947d",
   "metadata": {},
   "outputs": [
    {
     "name": "stdout",
     "output_type": "stream",
     "text": [
      "Hello, I am sam from the Parent class.\n",
      "I am 10 years old from the Child class.\n"
     ]
    }
   ],
   "source": [
    "class Parent:\n",
    "    def __init__(self, name):\n",
    "        self.name = name\n",
    "\n",
    "    def greet(self):\n",
    "        print(f\"Hello, I am {self.name} from the Parent class.\")\n",
    "\n",
    "class Child(Parent):\n",
    "    def __init__(self, name, age):\n",
    "        super().__init__(name)  # Call the Parent's __init__ method\n",
    "        self.age = age\n",
    "\n",
    "    def greet(self):\n",
    "        super().greet()  # Call the Parent's greet method\n",
    "        print(f\"I am {self.age} years old from the Child class.\")\n",
    "\n",
    "# Usage\n",
    "child = Child(\"sam\", 10)\n",
    "child.greet()\n"
   ]
  },
  {
   "cell_type": "code",
   "execution_count": 19,
   "id": "d62cf25a-0896-4a54-9233-e800f0d5298c",
   "metadata": {},
   "outputs": [
    {
     "name": "stdout",
     "output_type": "stream",
     "text": [
      "120\n",
      "True\n",
      "3\n"
     ]
    }
   ],
   "source": [
    "class MathUtils:\n",
    "    @staticmethod\n",
    "    def factorial(n):\n",
    "        if n == 0 or n == 1:\n",
    "            return 1\n",
    "        return n * MathUtils.factorial(n - 1)\n",
    "\n",
    "    @staticmethod\n",
    "    def is_prime(n):\n",
    "        if n <= 1:\n",
    "            return False\n",
    "        for i in range(2, int(n ** 0.5) + 1):\n",
    "            if n % i == 0:\n",
    "                return False\n",
    "        return True\n",
    "\n",
    "    @staticmethod\n",
    "    def gcd(a, b):\n",
    "        while b:\n",
    "            a, b = b, a % b\n",
    "        return a\n",
    "\n",
    "# Test\n",
    "print(MathUtils.factorial(5))  # Output: 120\n",
    "print(MathUtils.is_prime(11))  # Output: True\n",
    "print(MathUtils.gcd(12, 15))   # Output: 3\n"
   ]
  },
  {
   "cell_type": "code",
   "execution_count": 39,
   "id": "4df46c82-0c31-4b7a-984a-c9698b12b35a",
   "metadata": {},
   "outputs": [
    {
     "name": "stdout",
     "output_type": "stream",
     "text": [
      "2\n"
     ]
    }
   ],
   "source": [
    "class Account:\n",
    "    total_accounts = 0\n",
    "\n",
    "    def __init__(self, name):\n",
    "        self.name = name\n",
    "        Account.increment_accounts()\n",
    "\n",
    "    @classmethod\n",
    "    def increment_accounts(cls):\n",
    "        cls.total_accounts += 1\n",
    "\n",
    "    @classmethod\n",
    "    def get_total_accounts(cls):\n",
    "        return cls.total_accounts\n",
    "\n",
    "# Test\n",
    "acc1 = Account(\"Mohit\")\n",
    "acc2 = Account(\"Raj\")\n",
    "print(Account.get_total_accounts())  # Output: 2\n"
   ]
  },
  {
   "cell_type": "code",
   "execution_count": 40,
   "id": "c7bc4741-d590-4de3-93bc-e52811662000",
   "metadata": {},
   "outputs": [
    {
     "name": "stdout",
     "output_type": "stream",
     "text": [
      "Rohit\n",
      "M123\n",
      "E001\n",
      "Name is: Rohit and membership is:M123\n",
      "None\n",
      "Name is: sam and membership is:rohit\n",
      "Name is: Rohit and membership is:M123\n"
     ]
    }
   ],
   "source": [
    "class BaseUser:\n",
    "    def __init__(self, name):\n",
    "        self.name = name\n",
    "\n",
    "class Member(BaseUser):\n",
    "    def __init__(self, name, membership_id):\n",
    "        super().__init__(name)\n",
    "        self.membership_id = membership_id\n",
    "        \n",
    "    def getInfo(self):\n",
    "        print(f\"Name is: {self.name} and membership is:{self.membership_id}\")\n",
    "\n",
    "class Librarian(Member):\n",
    "    def __init__(self, name, membership_id, employee_id):\n",
    "        super().__init__(name, membership_id)\n",
    "        self.employee_id = employee_id\n",
    "        \n",
    "    def getInfo(self):\n",
    "        print(f\"Name is: {self.name} and membership is:{self.membership_id}\")\n",
    "\n",
    "# Test\n",
    "librarian = Librarian(\"Rohit\", \"M123\", \"E001\")\n",
    "print(librarian.name)           \n",
    "print(librarian.membership_id)  \n",
    "print(librarian.employee_id)  \n",
    "print(librarian.getInfo())\n",
    "\n",
    "b = Member('sam' , 'rohit')\n",
    "b.getInfo()\n",
    "librarian.getInfo()"
   ]
  },
  {
   "cell_type": "code",
   "execution_count": 41,
   "id": "01262452-ffd7-4685-845d-9acf5bc93292",
   "metadata": {},
   "outputs": [
    {
     "name": "stdout",
     "output_type": "stream",
     "text": [
      "900.0\n",
      "450.0\n"
     ]
    }
   ],
   "source": [
    "class Product:\n",
    "    discount_rate = 0.0  # Class-level attribute\n",
    "\n",
    "    def __init__(self, name, price):\n",
    "        self.name = name\n",
    "        self.price = price\n",
    "\n",
    "    def get_price_after_discount(self):\n",
    "        return self.price - (self.price * Product.discount_rate)\n",
    "\n",
    "    @classmethod\n",
    "    def set_discount_rate(cls, rate):\n",
    "        cls.discount_rate = rate\n",
    "\n",
    "# Test\n",
    "Product.set_discount_rate(0.1)  # Set a 10% discount\n",
    "product1 = Product(\"Laptop\", 1000)\n",
    "product2 = Product(\"Phone\", 500)\n",
    "\n",
    "print(product1.get_price_after_discount())  # Output: 900.0\n",
    "print(product2.get_price_after_discount())  # Output: 450.0\n"
   ]
  },
  {
   "cell_type": "code",
   "execution_count": 42,
   "id": "49604332-6cc3-408f-83d6-5e0486f09a65",
   "metadata": {},
   "outputs": [],
   "source": [
    "# For example:\n",
    "\n",
    "# A cat and a dog both have a method called speak(). But the cat says \"meow,\" while the dog says \"woof.\" \n",
    "# The method name is the same, \n",
    "# but the behavior is different for each class."
   ]
  },
  {
   "cell_type": "code",
   "execution_count": 43,
   "id": "b62df765-26dd-4d07-a0c0-251629a27f71",
   "metadata": {},
   "outputs": [
    {
     "name": "stdout",
     "output_type": "stream",
     "text": [
      "Woof!\n",
      "Meow!\n",
      "Moo!\n"
     ]
    }
   ],
   "source": [
    "class Animal:\n",
    "    def speak(self):\n",
    "        pass  # Base method with no implementation\n",
    "\n",
    "class Dog(Animal):\n",
    "    def speak(self):\n",
    "        return \"Woof!\"\n",
    "\n",
    "class Cat(Animal):\n",
    "    def speak(self):\n",
    "        return \"Meow!\"\n",
    "\n",
    "class Cow(Animal):\n",
    "    def speak(self):\n",
    "        return \"Moo!\"\n",
    "\n",
    "# Function to demonstrate polymorphism\n",
    "def make_animal_speak(animal):\n",
    "    print(animal.speak())\n",
    "\n",
    "# Usage\n",
    "animals = [Dog(), Cat(), Cow()]\n",
    "\n",
    "for animal in animals:\n",
    "    make_animal_speak(animal)\n"
   ]
  },
  {
   "cell_type": "code",
   "execution_count": 44,
   "id": "476819f1-63fd-48d5-8325-d6a3f6ee158e",
   "metadata": {},
   "outputs": [
    {
     "name": "stdout",
     "output_type": "stream",
     "text": [
      "Aniket\n",
      "Mohit\n",
      "Raj\n",
      "Sam\n"
     ]
    }
   ],
   "source": [
    "class Student:\n",
    "    def __init__(self, name):\n",
    "        self.name = name\n",
    "\n",
    "    def get_name(self):\n",
    "        return self.name\n",
    "\n",
    "class Teacher:\n",
    "    def __init__(self, name):\n",
    "        self.name = name\n",
    "\n",
    "    def get_name(self):\n",
    "        return self.name\n",
    "\n",
    "# Create objects\n",
    "objects = [Student(\"Sam\"), Teacher(\"Mohit\"), Student(\"Raj\"), Teacher(\"Aniket\")]\n",
    "\n",
    "# Sort by name\n",
    "sorted_objects = sorted(objects, key=lambda obj: obj.get_name())\n",
    "\n",
    "# Print sorted names\n",
    "for obj in sorted_objects:\n",
    "    print(obj.get_name())\n"
   ]
  },
  {
   "cell_type": "code",
   "execution_count": 45,
   "id": "7da2de4b-5ba4-4b31-93d9-294c9917252c",
   "metadata": {},
   "outputs": [
    {
     "name": "stdout",
     "output_type": "stream",
     "text": [
      "Vehicle is moving\n",
      "Car is moving on four wheels\n",
      "Bike is moving on two wheels\n"
     ]
    }
   ],
   "source": [
    "# Imagine a Vehicle class that has a method move, and different types of vehicles behave differently.\n",
    "\n",
    "class Vehicle:\n",
    "    def move(self):\n",
    "        print(\"Vehicle is moving\")\n",
    "\n",
    "class Car(Vehicle):\n",
    "    def move(self):\n",
    "        print(\"Car is moving on four wheels\")\n",
    "\n",
    "class Bike(Vehicle):\n",
    "    def move(self):\n",
    "        print(\"Bike is moving on two wheels\")\n",
    "\n",
    "# Instances\n",
    "vehicle = Vehicle()\n",
    "car = Car()\n",
    "bike = Bike()\n",
    "\n",
    "vehicle.move()  \n",
    "car.move()      \n",
    "bike.move()     \n"
   ]
  },
  {
   "cell_type": "code",
   "execution_count": 46,
   "id": "1598ddaa-b2a0-4c12-a592-5b2a8226c60f",
   "metadata": {},
   "outputs": [
    {
     "name": "stdout",
     "output_type": "stream",
     "text": [
      "Hello, Guest!\n",
      "Hello, Raj!\n"
     ]
    }
   ],
   "source": [
    "def greet(name=\"Guest\"):\n",
    "    print(f\"Hello, {name}!\")\n",
    "\n",
    "greet()            \n",
    "greet(\"Raj\")     \n"
   ]
  },
  {
   "cell_type": "code",
   "execution_count": 47,
   "id": "16024fef-bc0e-4f93-abca-990eebc7877f",
   "metadata": {},
   "outputs": [
    {
     "name": "stdout",
     "output_type": "stream",
     "text": [
      "Processing credit card payment of $100.5\n",
      "Processing PayPal payment of $200.75\n",
      "Processing bank transfer payment of $500.0\n"
     ]
    }
   ],
   "source": [
    "# Base class\n",
    "class PaymentMethod:\n",
    "    def process_payment(self, amount):\n",
    "        raise NotImplementedError(\"Subclasses must implement this method\")\n",
    "\n",
    "# Derived class for Credit Card payment\n",
    "class CreditCardPayment(PaymentMethod):\n",
    "    def process_payment(self, amount):\n",
    "        print(f\"Processing credit card payment of ${amount}\")\n",
    "\n",
    "# Derived class for PayPal payment\n",
    "class PayPalPayment(PaymentMethod):\n",
    "    def process_payment(self, amount):\n",
    "        print(f\"Processing PayPal payment of ${amount}\")\n",
    "\n",
    "# Derived class for Bank Transfer payment\n",
    "class BankTransferPayment(PaymentMethod):\n",
    "    def process_payment(self, amount):\n",
    "        print(f\"Processing bank transfer payment of ${amount}\")\n",
    "\n",
    "# Function to process any payment method\n",
    "def process_transaction(payment_method, amount):\n",
    "    payment_method.process_payment(amount)\n",
    "\n",
    "# Real-life usage\n",
    "if __name__ == \"__main__\":\n",
    "    # Create instances of different payment methods\n",
    "    credit_card = CreditCardPayment()\n",
    "    paypal = PayPalPayment()\n",
    "    bank_transfer = BankTransferPayment()\n",
    "\n",
    "    # Process payments using polymorphism\n",
    "    process_transaction(credit_card, 100.50)\n",
    "    process_transaction(paypal, 200.75)\n",
    "    process_transaction(bank_transfer, 500.00)\n"
   ]
  },
  {
   "cell_type": "code",
   "execution_count": 48,
   "id": "51fb1037-e159-4474-a14c-f54c0ae43d51",
   "metadata": {},
   "outputs": [],
   "source": [
    "# Base Class (PaymentMethod):\n",
    "\n",
    "# Defines a common interface (process_payment) that all payment methods must implement.\n",
    "# Derived Classes:\n",
    "\n",
    "# CreditCardPayment, PayPalPayment, and BankTransferPayment implement the process_payment method differently based on their specific logic.\n",
    "# Polymorphism in Action:\n",
    "\n",
    "# The process_transaction function takes a PaymentMethod object and processes the payment. The specific implementation is determined at runtime based on the actual object type."
   ]
  },
  {
   "cell_type": "code",
   "execution_count": null,
   "id": "a3b4d48e-e64d-4f2d-a0f1-d96c957ad959",
   "metadata": {},
   "outputs": [],
   "source": []
  },
  {
   "cell_type": "code",
   "execution_count": 49,
   "id": "6c1ebdd6-7282-4030-a41a-784ce4b0d1a9",
   "metadata": {},
   "outputs": [
    {
     "name": "stdout",
     "output_type": "stream",
     "text": [
      "Full-Time Employee:\n",
      "Salary: $5000\n",
      "\n",
      "Part-Time Employee:\n",
      "Salary: $1600\n",
      "\n",
      "Freelancer:\n",
      "Salary: $3000\n"
     ]
    }
   ],
   "source": [
    "# Base class\n",
    "class Employee:\n",
    "    def calculate_salary(self):\n",
    "        raise NotImplementedError(\"Subclasses must implement this method\")\n",
    "\n",
    "# Derived class for Full-Time Employees\n",
    "class FullTimeEmployee(Employee):\n",
    "    def __init__(self, monthly_salary):\n",
    "        self.monthly_salary = monthly_salary\n",
    "\n",
    "    def calculate_salary(self):\n",
    "        return self.monthly_salary\n",
    "\n",
    "# Derived class for Part-Time Employees\n",
    "class PartTimeEmployee(Employee):\n",
    "    def __init__(self, hourly_rate, hours_worked):\n",
    "        self.hourly_rate = hourly_rate\n",
    "        self.hours_worked = hours_worked\n",
    "\n",
    "    def calculate_salary(self):\n",
    "        return self.hourly_rate * self.hours_worked\n",
    "\n",
    "# Derived class for Freelancers\n",
    "class Freelancer(Employee):\n",
    "    def __init__(self, project_rate):\n",
    "        self.project_rate = project_rate\n",
    "\n",
    "    def calculate_salary(self):\n",
    "        return self.project_rate\n",
    "\n",
    "# Function to display employee details\n",
    "def display_employee_salary(employee):\n",
    "    print(f\"Salary: ${employee.calculate_salary()}\")\n",
    "\n",
    "# Real-life usage\n",
    "if __name__ == \"__main__\":\n",
    "    # Create instances of different types of employees\n",
    "    full_time_employee = FullTimeEmployee(monthly_salary=5000)\n",
    "    part_time_employee = PartTimeEmployee(hourly_rate=20, hours_worked=80)\n",
    "    freelancer = Freelancer(project_rate=3000)\n",
    "\n",
    "    # Display salaries using polymorphism\n",
    "    print(\"Full-Time Employee:\")\n",
    "    display_employee_salary(full_time_employee)\n",
    "\n",
    "    print(\"\\nPart-Time Employee:\")\n",
    "    display_employee_salary(part_time_employee)\n",
    "\n",
    "    print(\"\\nFreelancer:\")\n",
    "    display_employee_salary(freelancer)\n"
   ]
  },
  {
   "cell_type": "code",
   "execution_count": 50,
   "id": "ae47ce22-122f-4481-8205-817f5aafebf5",
   "metadata": {},
   "outputs": [],
   "source": [
    "# Base Class (Employee):\n",
    "\n",
    "# Defines a common interface (calculate_salary) that all employee types must implement.\n",
    "# Derived Classes:\n",
    "\n",
    "# FullTimeEmployee calculates salary based on a fixed monthly salary.\n",
    "# PartTimeEmployee calculates salary based on an hourly rate and hours worked.\n",
    "# Freelancer calculates salary based on a project rate.\n",
    "# Polymorphism in Action:\n",
    "\n",
    "# The display_employee_salary function takes an Employee object and calls the calculate_salary method. The specific implementation is determined at runtime based on the actual object type."
   ]
  },
  {
   "cell_type": "code",
   "execution_count": 51,
   "id": "01374ccb-9121-4660-b3cb-4a4d44da5b28",
   "metadata": {},
   "outputs": [
    {
     "name": "stdout",
     "output_type": "stream",
     "text": [
      "Testing math utilities:\n",
      "3 + 5 = 8\n",
      "10 - 4 = 6\n"
     ]
    }
   ],
   "source": [
    "# Ex.1 (File: math_utils.py)\n",
    "# math_utils.py\n",
    "def add(a, b):\n",
    "    return a + b\n",
    "\n",
    "def subtract(a, b):\n",
    "    return a - b\n",
    "\n",
    "if __name__ == \"__main__\":\n",
    "    print(\"Testing math utilities:\")\n",
    "    print(f\"3 + 5 = {add(3, 5)}\")\n",
    "    print(f\"10 - 4 = {subtract(10, 4)}\")\n"
   ]
  },
  {
   "cell_type": "code",
   "execution_count": 52,
   "id": "8a06b2e6-b39b-4093-8ef4-5410113cdfde",
   "metadata": {},
   "outputs": [],
   "source": [
    "# # Import into another file:\n",
    "\n",
    "# # main.py\n",
    "\n",
    "# from math_utils import add, subtract\n",
    "\n",
    "# print(f\"Addition: {add(7, 3)}\")\n",
    "# print(f\"Subtraction: {subtract(10, 5)}\")"
   ]
  },
  {
   "cell_type": "code",
   "execution_count": 53,
   "id": "95c9210b-2000-44eb-a5fb-ac0ff950161c",
   "metadata": {},
   "outputs": [],
   "source": [
    "# Example 1: Logging Method Calls \n",
    "# Use Case: Log when a method is called."
   ]
  },
  {
   "cell_type": "code",
   "execution_count": 54,
   "id": "1f9b2948-7ec4-4b33-9818-472e8315f457",
   "metadata": {},
   "outputs": [
    {
     "name": "stdout",
     "output_type": "stream",
     "text": [
      "Function 'greet' is called\n",
      "Hello, Sam!\n",
      "Function 'greet' finished execution\n"
     ]
    }
   ],
   "source": [
    "# Decorator Function\n",
    "def log_decorator(func):\n",
    "    def wrapper(*args, **kwargs):\n",
    "        print(f\"Function '{func.__name__}' is called\")\n",
    "        result = func(*args, **kwargs)  # Call the original function\n",
    "        print(f\"Function '{func.__name__}' finished execution\")\n",
    "        return result\n",
    "    return wrapper\n",
    "\n",
    "# Using the decorator\n",
    "@log_decorator\n",
    "def greet(name):\n",
    "    print(f\"Hello, {name}!\")\n",
    "\n",
    "# Call the function\n",
    "greet(\"Sam\")\n"
   ]
  },
  {
   "cell_type": "code",
   "execution_count": 55,
   "id": "212f0d77-031d-4913-bdf2-0d7c9590e3f5",
   "metadata": {},
   "outputs": [
    {
     "name": "stdout",
     "output_type": "stream",
     "text": [
      "Hello, this is before function execution\n",
      "This is inside the function !!\n",
      "This is after function execution\n"
     ]
    }
   ],
   "source": [
    "# defining a decorator\n",
    "def hello_decorator(func):\n",
    "\n",
    "    # inner1 is a Wrapper function in \n",
    "    # which the argument is called\n",
    "    \n",
    "    # inner function can access the outer local\n",
    "    # functions like in this case \"func\"\n",
    "    def inner1():\n",
    "        print(\"Hello, this is before function execution\")\n",
    "\n",
    "        # calling the actual function now\n",
    "        # inside the wrapper function.\n",
    "        func()\n",
    "\n",
    "        print(\"This is after function execution\")\n",
    "        \n",
    "    return inner1\n",
    "\n",
    "\n",
    "# defining a function, to be called inside wrapper\n",
    "def function_to_be_used():\n",
    "    print(\"This is inside the function !!\")\n",
    "\n",
    "\n",
    "# passing 'function_to_be_used' inside the\n",
    "# decorator to control its behaviour\n",
    "function_to_be_used = hello_decorator(function_to_be_used)\n",
    "\n",
    "\n",
    "# calling the function\n",
    "function_to_be_used()"
   ]
  },
  {
   "cell_type": "code",
   "execution_count": 56,
   "id": "ef7d3163-a63f-439b-874d-67d6ee544c22",
   "metadata": {},
   "outputs": [
    {
     "name": "stdout",
     "output_type": "stream",
     "text": [
      "before Execution\n",
      "Inside the function\n",
      "after Execution\n",
      "Sum = 3\n"
     ]
    }
   ],
   "source": [
    "def hello_decorator(func):\n",
    "    def inner1(*args, **kwargs):\n",
    "        \n",
    "        print(\"before Execution\")\n",
    "        \n",
    "        # getting the returned value\n",
    "        returned_value = func(*args, **kwargs)\n",
    "        print(\"after Execution\")\n",
    "        \n",
    "        # returning the value to the original frame\n",
    "        return returned_value\n",
    "        \n",
    "    return inner1\n",
    "\n",
    "\n",
    "# adding decorator to the function\n",
    "@hello_decorator\n",
    "def sum_two_numbers(a, b):\n",
    "    print(\"Inside the function\")\n",
    "    return a + b\n",
    "\n",
    "a, b = 1, 2\n",
    "\n",
    "# getting the value through return of the function\n",
    "print(\"Sum =\", sum_two_numbers(a, b))"
   ]
  },
  {
   "cell_type": "code",
   "execution_count": 57,
   "id": "cf487bd3-a458-476a-9a9d-94c5df76ab93",
   "metadata": {},
   "outputs": [
    {
     "name": "stdout",
     "output_type": "stream",
     "text": [
      "The factorial of 5 is 120\n"
     ]
    }
   ],
   "source": [
    "# Example: Factorial Calculation Using Recursion in OOP\n",
    "\n",
    "class FactorialCalculator:\n",
    "\n",
    "\n",
    "    def calculate_factorial(self,n):\n",
    "        # Base case: factorial of 0 or 1 is 1\n",
    "        if n == 0 or n == 1:\n",
    "            return 1\n",
    "        else:\n",
    "            # Recursive case: n * factorial of (n-1)\n",
    "            return n * self.calculate_factorial(n - 1)\n",
    "\n",
    "\n",
    "calculator = FactorialCalculator()\n",
    "number = 5\n",
    "result = calculator.calculate_factorial(number)\n",
    "print(f\"The factorial of {number} is {result}\")\n"
   ]
  },
  {
   "cell_type": "code",
   "execution_count": 58,
   "id": "50e83331-dbd7-408b-b60d-9eab99985621",
   "metadata": {},
   "outputs": [
    {
     "data": {
      "text/plain": [
       "120"
      ]
     },
     "execution_count": 58,
     "metadata": {},
     "output_type": "execute_result"
    }
   ],
   "source": [
    "def calculate_factorial(n):\n",
    "        # Base case: factorial of 0 or 1 is 1\n",
    "        if n == 0 or n == 1:\n",
    "            return 1\n",
    "        else:\n",
    "            # Recursive case: n * factorial of (n-1)\n",
    "            return n * calculate_factorial(n - 1)\n",
    "calculate_factorial(5) "
   ]
  },
  {
   "cell_type": "code",
   "execution_count": 59,
   "id": "4dfcc0f6-3bd5-4f8d-a963-2e3da0ea68d1",
   "metadata": {},
   "outputs": [],
   "source": [
    "# Explanation\n",
    "# Base Case:\n",
    "# If n is 0 or 1, the method returns 1 directly, ending the recursion.\n",
    "# Recursive Case:\n",
    "# For any other value of n, the method calls itself with n - 1 and multiplies n by the result \n",
    "# of the recursive call.\n",
    "# Execution Flow for calculate_factorial(5):\n",
    "# calculate_factorial(5) calls calculate_factorial(4).\n",
    "# calculate_factorial(4) calls calculate_factorial(3).\n",
    "# calculate_factorial(3) calls calculate_factorial(2).\n",
    "# calculate_factorial(2) calls calculate_factorial(1).\n",
    "# calculate_factorial(1) returns 1 (base case).\n",
    "# Results are returned step-by-step:\n",
    "# 2 * 1 = 2\n",
    "# 3 * 2 = 6\n",
    "# 4 * 6 = 24\n",
    "# 5 * 24 = 120\n",
    "# The final result is 120."
   ]
  },
  {
   "cell_type": "code",
   "execution_count": 60,
   "id": "d554c16a-178c-47e9-ad5b-83567bf86797",
   "metadata": {},
   "outputs": [],
   "source": [
    "# What are Generators in Python?\n",
    "# Generators in Python are a way to create iterators in a simple and memory-efficient way. \n",
    "# Instead of creating the entire sequence in memory at once, a generator produces items one at \n",
    "# a time and only when needed. This is especially useful when dealing with large datasets or \n",
    "\n",
    "# infinite sequences.\n",
    "\n",
    "# A generator function is like a normal function but uses the yield keyword instead of return. \n",
    "# When the generator is called, it doesn’t execute the function completely; instead, it returns a \n",
    "# generator object that can be iterated over.\n",
    "\n",
    "# Key Points about Generators:\n",
    "# Memory Efficient: Generators don’t store the entire sequence in memory.\n",
    "# Lazy Evaluation: Values are produced only when required.\n",
    "# State Retention: The function’s state is saved between yield calls."
   ]
  },
  {
   "cell_type": "code",
   "execution_count": 61,
   "id": "827b04ed-c98f-417b-8c87-2fde9361ed0b",
   "metadata": {},
   "outputs": [
    {
     "name": "stdout",
     "output_type": "stream",
     "text": [
      "1\n",
      "2\n",
      "3\n",
      "4\n",
      "5\n"
     ]
    }
   ],
   "source": [
    "# Example 1: Simple Generator for a Sequence of Numbers\n",
    "# A generator function to yield numbers from 1 to 5\n",
    "def number_generator():\n",
    "    for i in range(1, 6):\n",
    "        yield i\n",
    "\n",
    "# Using the generator\n",
    "gen = number_generator()\n",
    "for num in gen:\n",
    "    print(num)\n"
   ]
  },
  {
   "cell_type": "code",
   "execution_count": 62,
   "id": "5d966b76-879b-470f-9df3-d8655761beaa",
   "metadata": {},
   "outputs": [],
   "source": [
    "# When number_generator() is called, it doesn’t run the function but returns a generator object.\n",
    "# The for loop iterates over the generator, executing the function until it encounters a yield.\n",
    "# Each yield produces the next value, and the function pauses until the next iteration.\n",
    "# #"
   ]
  },
  {
   "cell_type": "code",
   "execution_count": 63,
   "id": "e91a746d-1947-4738-b921-3c8e276c2664",
   "metadata": {},
   "outputs": [
    {
     "name": "stdout",
     "output_type": "stream",
     "text": [
      "1\n",
      "4\n",
      "9\n",
      "16\n",
      "25\n"
     ]
    }
   ],
   "source": [
    "# Example 3: Generator for Squares of Numbers\n",
    "# A generator function to yield squares of numbers\n",
    "def square_generator(n):\n",
    "    for i in range(1, n + 1):\n",
    "        yield i * i\n",
    "\n",
    "# Using the generator to print squares of numbers from 1 to 5\n",
    "squares = square_generator(5)\n",
    "for square in squares:\n",
    "    print(square)\n"
   ]
  },
  {
   "cell_type": "code",
   "execution_count": 64,
   "id": "5e7cdef6-a95e-440f-8874-cd73fd3151c3",
   "metadata": {},
   "outputs": [
    {
     "data": {
      "text/plain": [
       "[1, 4, 9, 16]"
      ]
     },
     "execution_count": 64,
     "metadata": {},
     "output_type": "execute_result"
    }
   ],
   "source": [
    "def square_generator(n):\n",
    "    for i in range(1, n + 1):\n",
    "        yield i * i\n",
    "\n",
    "list(square_generator(4))"
   ]
  },
  {
   "cell_type": "code",
   "execution_count": 65,
   "id": "5ef29584-b04e-45d7-8d40-45b173df5a39",
   "metadata": {},
   "outputs": [],
   "source": [
    "# The generator function square_generator calculates the square of each number from 1 to n.\n",
    "# The yield keyword produces the square of the current number and pauses until the next iteration.\n",
    "# When iterated, it generates squares one at a time instead of creating a full list in memory."
   ]
  }
 ],
 "metadata": {
  "kernelspec": {
   "display_name": "Python 3 (ipykernel)",
   "language": "python",
   "name": "python3"
  },
  "language_info": {
   "codemirror_mode": {
    "name": "ipython",
    "version": 3
   },
   "file_extension": ".py",
   "mimetype": "text/x-python",
   "name": "python",
   "nbconvert_exporter": "python",
   "pygments_lexer": "ipython3",
   "version": "3.13.3"
  }
 },
 "nbformat": 4,
 "nbformat_minor": 5
}
