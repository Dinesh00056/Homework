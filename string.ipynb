{
 "cells": [
  {
   "cell_type": "code",
   "execution_count": 15,
   "id": "dd8e8a17-dc99-4904-8abe-8cf1dd107f41",
   "metadata": {},
   "outputs": [
    {
     "name": "stdout",
     "output_type": "stream",
     "text": [
      "{'r': 2, 'a': 1, 'j': 1} {'j': 2, 'r': 3, 'a': 2}\n"
     ]
    }
   ],
   "source": [
    "s=\"rarj\"\n",
    "t=\"jrra\"\n",
    "dict1={}\n",
    "dict2={}\n",
    "for i in s:\n",
    "    if i in dict1:\n",
    "        dict1[i]=dict1[i]+1\n",
    "    else:\n",
    "        dict1[i]=1\n",
    "for i in t:\n",
    "    if i in dict2:\n",
    "        dict2[i]=dict2[i]+1\n",
    "    else:\n",
    "        dict2[i]=2\n",
    "print(dict1,dict2)\n",
    "        \n",
    "    "
   ]
  },
  {
   "cell_type": "code",
   "execution_count": 24,
   "id": "94231696-d409-41ed-b090-73c11e21353a",
   "metadata": {},
   "outputs": [],
   "source": [
    "##for i in range(1,10):\n",
    "## mylist.append(i)\n",
    "##i for i in range(1,10)"
   ]
  },
  {
   "cell_type": "code",
   "execution_count": 11,
   "id": "31ba7e94-bdf7-4439-97cd-5aedc12d9c61",
   "metadata": {},
   "outputs": [
    {
     "name": "stdout",
     "output_type": "stream",
     "text": [
      "<class 'set'>\n"
     ]
    }
   ],
   "source": [
    "myset=set({})\n",
    "print(type(myset))"
   ]
  },
  {
   "cell_type": "code",
   "execution_count": 18,
   "id": "4f0506cd-deb0-478f-92b5-e117c5d64e28",
   "metadata": {},
   "outputs": [
    {
     "name": "stdout",
     "output_type": "stream",
     "text": [
      "{1, 2, 3, 4, 5, 6, 7, 8, 910}\n",
      "{1, 2, 3, 4, 5, 6, 7, 8, 99, 910}\n"
     ]
    }
   ],
   "source": [
    "myset={1,2,3,4,5,6,4,5,4,6,7,8,910}\n",
    "print(myset)\n"
   ]
  },
  {
   "cell_type": "code",
   "execution_count": 19,
   "id": "d91b9891-059a-4484-be6a-875cd04a1191",
   "metadata": {},
   "outputs": [
    {
     "name": "stdout",
     "output_type": "stream",
     "text": [
      "{1, 2, 3, 4, 5, 6, 7, 8, 99, 910}\n"
     ]
    }
   ],
   "source": [
    "myset={1,2,3,4,5,6,4,5,4,6,7,8,910}\n",
    "myset.add(99)  ## add\n",
    "print(myset)"
   ]
  },
  {
   "cell_type": "code",
   "execution_count": 20,
   "id": "6e573c50-2c36-4dc2-9e62-674bc268a2e4",
   "metadata": {},
   "outputs": [
    {
     "name": "stdout",
     "output_type": "stream",
     "text": [
      "{1, 2, 3, 5, 6, 7, 8, 910}\n"
     ]
    }
   ],
   "source": [
    "myset={1,2,3,4,5,6,4,5,4,6,7,8,910}\n",
    "myset.remove(4)   ## to remove \n",
    "print(myset)"
   ]
  },
  {
   "cell_type": "code",
   "execution_count": 21,
   "id": "ae3d5782-e13a-4280-94cc-9dcd3293469c",
   "metadata": {},
   "outputs": [
    {
     "name": "stdout",
     "output_type": "stream",
     "text": [
      "{1, 2, 3, 4, 5, 6, 7, 8, 'y', 'e', 910, 'h'}\n"
     ]
    }
   ],
   "source": [
    "myset={1,2,3,4,5,6,4,5,4,6,7,8,910}\n",
    "myset.update(\"hey\")     #to update the values\n",
    "print(myset)"
   ]
  },
  {
   "cell_type": "code",
   "execution_count": 25,
   "id": "2d2c0172-1b10-4fc3-a9ee-f5e39300630a",
   "metadata": {},
   "outputs": [
    {
     "name": "stdout",
     "output_type": "stream",
     "text": [
      "{1, 2, 3, 4, 5, 6, 7, 8, 910, 'hey'}\n"
     ]
    }
   ],
   "source": [
    "myset={1,2,3,4,5,6,4,5,4,6,7,8,910}\n",
    "myset.update([\"hey\"])  #in list we print the hey\n",
    "print(myset)"
   ]
  },
  {
   "cell_type": "code",
   "execution_count": 26,
   "id": "e883889b-54a0-4a85-8c4a-1ce7105add18",
   "metadata": {},
   "outputs": [
    {
     "data": {
      "text/plain": [
       "{2, 4, 6, 8, 40}"
      ]
     },
     "execution_count": 26,
     "metadata": {},
     "output_type": "execute_result"
    }
   ],
   "source": [
    "#just combine result between 2 or more set\n",
    "myset1={2,2,4}\n",
    "myset2={2,4,8,6,40}   ## to combine to set\n",
    "myset1.union(myset2)"
   ]
  },
  {
   "cell_type": "code",
   "execution_count": 27,
   "id": "b6ee30be-d3a6-4ff9-b8b6-d84194c6afe9",
   "metadata": {},
   "outputs": [
    {
     "data": {
      "text/plain": [
       "{2, 4}"
      ]
     },
     "execution_count": 27,
     "metadata": {},
     "output_type": "execute_result"
    }
   ],
   "source": [
    "myset1={2,2,4}\n",
    "myset2={2,4,8,6,40} # to find the commoin value\n",
    "myset1.intersection(myset2)"
   ]
  },
  {
   "cell_type": "code",
   "execution_count": 28,
   "id": "5daf6cf3-1e51-4b56-8926-95bb05d48e9c",
   "metadata": {},
   "outputs": [],
   "source": [
    "## difference \n",
    "#issuperset\n",
    "#isdisjoint"
   ]
  },
  {
   "cell_type": "code",
   "execution_count": 31,
   "id": "6cb14048-49c6-401d-b0b5-c3f329e132c3",
   "metadata": {},
   "outputs": [
    {
     "name": "stdout",
     "output_type": "stream",
     "text": [
      "True\n"
     ]
    }
   ],
   "source": [
    "##isdisjoint\n",
    "a={1,2,3}\n",
    "b={4,5,6}\n",
    "print(a.isdisjoint(b))"
   ]
  },
  {
   "cell_type": "code",
   "execution_count": 32,
   "id": "a7946b22-1be0-4e10-a8eb-e317aa4a47d0",
   "metadata": {},
   "outputs": [
    {
     "name": "stdout",
     "output_type": "stream",
     "text": [
      "False\n"
     ]
    }
   ],
   "source": [
    "a={1,2,3}\n",
    "b={3,4,5,6}\n",
    "print(a.isdisjoint(b))"
   ]
  },
  {
   "cell_type": "code",
   "execution_count": 36,
   "id": "058fddb3-81bf-4edf-b44d-f143a8243f11",
   "metadata": {},
   "outputs": [
    {
     "name": "stdout",
     "output_type": "stream",
     "text": [
      "False\n"
     ]
    }
   ],
   "source": [
    "a={1,2,3,4}\n",
    "b={4,5,6,5}\n",
    "print(b.isdisjoint(a))"
   ]
  },
  {
   "cell_type": "code",
   "execution_count": 37,
   "id": "51a94a88-0a39-4663-98ff-e2437a744802",
   "metadata": {},
   "outputs": [
    {
     "name": "stdout",
     "output_type": "stream",
     "text": [
      "True\n"
     ]
    }
   ],
   "source": [
    "#issuperset\n",
    "a={1,2,3,4,}\n",
    "b={1,2,3,4}\n",
    "print(a.issuperset(b))"
   ]
  },
  {
   "cell_type": "code",
   "execution_count": 38,
   "id": "9dacc6d5-6984-430a-9779-e2eb0f47b488",
   "metadata": {},
   "outputs": [
    {
     "name": "stdout",
     "output_type": "stream",
     "text": [
      "False\n"
     ]
    }
   ],
   "source": [
    "a={1,2,3,}\n",
    "b={1,2,3,4}\n",
    "print(a.issuperset(b))"
   ]
  },
  {
   "cell_type": "code",
   "execution_count": 40,
   "id": "8d21e98b-1a88-4337-9705-42271bf40df4",
   "metadata": {},
   "outputs": [
    {
     "name": "stdout",
     "output_type": "stream",
     "text": [
      "{1, 2}\n",
      "{5}\n"
     ]
    }
   ],
   "source": [
    "##difference\n",
    "A = {1, 2, 3, 4}\n",
    "B = {3, 4, 5}\n",
    "\n",
    "print(A.difference(B))  \n",
    "print(B.difference(A))"
   ]
  },
  {
   "cell_type": "code",
   "execution_count": null,
   "id": "e7aba81a-84c5-4890-adc7-10876848c1d8",
   "metadata": {},
   "outputs": [],
   "source": [
    "#dictionary and set comprehension\n",
    "for i in \"hello\": "
   ]
  },
  {
   "cell_type": "code",
   "execution_count": 44,
   "id": "5e8d020b-cf0c-4999-ae2b-64e15025d12c",
   "metadata": {},
   "outputs": [
    {
     "data": {
      "text/plain": [
       "{'h': 1, 'e': 1, 'l': 1, 'o': 1}"
      ]
     },
     "execution_count": 44,
     "metadata": {},
     "output_type": "execute_result"
    }
   ],
   "source": [
    "{i:1 for i in \"hello\"}"
   ]
  },
  {
   "cell_type": "code",
   "execution_count": null,
   "id": "0b7599da-d4a0-4fbc-b9a1-740500d261bd",
   "metadata": {},
   "outputs": [],
   "source": []
  }
 ],
 "metadata": {
  "kernelspec": {
   "display_name": "Python 3 (ipykernel)",
   "language": "python",
   "name": "python3"
  },
  "language_info": {
   "codemirror_mode": {
    "name": "ipython",
    "version": 3
   },
   "file_extension": ".py",
   "mimetype": "text/x-python",
   "name": "python",
   "nbconvert_exporter": "python",
   "pygments_lexer": "ipython3",
   "version": "3.13.3"
  }
 },
 "nbformat": 4,
 "nbformat_minor": 5
}
