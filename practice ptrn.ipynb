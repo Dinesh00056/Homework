{
 "cells": [
  {
   "cell_type": "code",
   "execution_count": 1,
   "id": "e5de2576-28a4-48d9-880f-bc0a8ca3e42e",
   "metadata": {},
   "outputs": [
    {
     "name": "stdout",
     "output_type": "stream",
     "text": [
      "        *  \n",
      "      * *  \n",
      "    * * *  \n",
      "  * * * *  \n"
     ]
    }
   ],
   "source": [
    "for i in range(1,5):\n",
    "    for j in range(i,5): ## as i in increasing this will provide the space\n",
    "        print(\" \",end=\" \")\n",
    "    for k in range(1,i+1): # as i is incrementing\n",
    "        print(\"*\",end=\" \",)\n",
    "    print(\" \")    "
   ]
  },
  {
   "cell_type": "code",
   "execution_count": 22,
   "id": "9670ac87-d795-49cd-be4e-4837a0d0bdba",
   "metadata": {},
   "outputs": [
    {
     "name": "stdout",
     "output_type": "stream",
     "text": [
      "* * * * * *  \n",
      "* * * * *  \n",
      "* * * *  \n",
      "* * *  \n",
      "* *  \n",
      "*  \n"
     ]
    }
   ],
   "source": [
    "for i in range(1,7):\n",
    "    for j in range(i,7):     # two ways of solving this program one with and another one is with the given below\n",
    "        print(\"*\",end=\" \")\n",
    "    print(\" \")"
   ]
  },
  {
   "cell_type": "code",
   "execution_count": 23,
   "id": "b9068bc8-ed21-4b2a-8ab8-83abf60c5c0d",
   "metadata": {},
   "outputs": [
    {
     "name": "stdout",
     "output_type": "stream",
     "text": [
      "* * * * * * \n",
      "* * * * * \n",
      "* * * * \n",
      "* * * \n",
      "* * \n",
      "* \n"
     ]
    }
   ],
   "source": [
    "for i in range(6,0,-1):\n",
    "    for j in range(1,i+1):   \n",
    "        print(\"*\",end=\" \")\n",
    "    print(\"\")"
   ]
  },
  {
   "cell_type": "code",
   "execution_count": 25,
   "id": "37d93d83-ae13-4081-a675-536754799a13",
   "metadata": {},
   "outputs": [
    {
     "name": "stdout",
     "output_type": "stream",
     "text": [
      " \n",
      "   \n",
      "     \n",
      "       \n"
     ]
    }
   ],
   "source": [
    "for i in range(1,5):\n",
    "    for j in range(1,i):                                                  #* * * * *                                                      - * * * *                                                              - - * * *  \n",
    "        print(\" \",end=\" \")                                                #- * * * *  \n",
    "    for k in range(7,i+1):  ##(7,i+1) the mistake i done during making    #- - * * *  \n",
    "        print(\"*\",end=\" \")                       #these program           #- - - * *\n",
    "    print(\" \")                                                            #- - - - *"
   ]
  },
  {
   "cell_type": "code",
   "execution_count": 28,
   "id": "3189a0f2-542e-42d5-8f1e-a660011f3dc1",
   "metadata": {},
   "outputs": [
    {
     "name": "stdout",
     "output_type": "stream",
     "text": [
      "* * * * *  \n",
      "- * * * *  \n",
      "- - * * *  \n",
      "- - - * *  \n",
      "- - - - *  \n"
     ]
    }
   ],
   "source": [
    "for i in range(1,6):\n",
    "    for j in range(1,i):\n",
    "        print(\"-\",end=\" \")\n",
    "    for k in range(1,7-i):\n",
    "        print(\"*\",end=\" \")\n",
    "    print(\" \")"
   ]
  },
  {
   "cell_type": "code",
   "execution_count": 47,
   "id": "ab092c6f-c66e-4be6-98a1-a28afdd52f28",
   "metadata": {},
   "outputs": [
    {
     "name": "stdout",
     "output_type": "stream",
     "text": [
      "A  \n",
      "A B  \n",
      "A B C  \n",
      "A B C D  \n",
      "A B C D E  \n"
     ]
    }
   ],
   "source": [
    "for i in range(65,70):\n",
    "    ch=65\n",
    "    for j in range(65,i+1):\n",
    "        print(chr(ch),end=\" \")\n",
    "        ch+=1 \n",
    "    print(\" \")\n"
   ]
  },
  {
   "cell_type": "code",
   "execution_count": 52,
   "id": "7caa662d-e1be-4f9f-ac18-ffa46f39b5fd",
   "metadata": {},
   "outputs": [
    {
     "name": "stdout",
     "output_type": "stream",
     "text": [
      "A  \n",
      "B C  \n",
      "D E F  \n",
      "G H I J  \n",
      "K L M N O  \n"
     ]
    }
   ],
   "source": [
    "ch=65\n",
    "for i in range(ch,70):\n",
    "    for j in range(65,i+1):\n",
    "        print(chr(ch),end=\" \")\n",
    "        ch+=1 \n",
    "    print(\" \")"
   ]
  },
  {
   "cell_type": "code",
   "execution_count": null,
   "id": "0e167492-ef78-4660-b8d9-798eadd195c9",
   "metadata": {},
   "outputs": [],
   "source": []
  },
  {
   "cell_type": "code",
   "execution_count": 165,
   "id": "80b64d5a-ac2e-469f-a0ed-f6425ee5474d",
   "metadata": {},
   "outputs": [
    {
     "name": "stdout",
     "output_type": "stream",
     "text": [
      "* \n",
      "*** \n",
      "***** \n",
      "******* \n",
      "********* \n",
      "*********** \n",
      "* \n",
      "*** \n",
      "***** \n",
      "******* \n",
      "********* \n",
      "*********** \n"
     ]
    }
   ],
   "source": [
    "for i in range(1,7):\n",
    "    for j in range(1,i+i):\n",
    "        print(\"*\",end=\"\")\n",
    "    print(\" \")\n",
    "for i in range(1,7):\n",
    "    for j in range(1,i+i):\n",
    "        print(\"*\",end=\"\")\n",
    "    print(\" \")"
   ]
  },
  {
   "cell_type": "code",
   "execution_count": 66,
   "id": "51cc7867-e565-4bf5-bd0c-1b531cf20f87",
   "metadata": {},
   "outputs": [
    {
     "name": "stdout",
     "output_type": "stream",
     "text": [
      "*  \n",
      "* *  \n",
      "* * *  \n",
      "* * * *  \n",
      "* * * * *  \n",
      " \n",
      " \n",
      " \n",
      " \n"
     ]
    }
   ],
   "source": [
    "for i in range(1,6):\n",
    "    for j in range(1,i+1):\n",
    "        print(\"*\",end=\" \")\n",
    "    print(\" \")\n",
    "for a in range(1,5):\n",
    "    for k in range(5,i): ## the problem during making this p\n",
    "        print(\"*\",end=\" \")\n",
    "    print(\" \")"
   ]
  },
  {
   "cell_type": "code",
   "execution_count": 67,
   "id": "23e8aae0-8eef-4309-ac90-e00fe7afbf66",
   "metadata": {},
   "outputs": [
    {
     "name": "stdout",
     "output_type": "stream",
     "text": [
      "*  \n",
      "* *  \n",
      "* * *  \n",
      "* * * *  \n",
      "* * * * *  \n",
      "* * * *  \n",
      "* * *  \n",
      "* *  \n",
      "*  \n"
     ]
    }
   ],
   "source": [
    "for i in range(1,6):\n",
    "    for j in range(1,i+1):\n",
    "        print(\"*\",end=\" \")\n",
    "    print(\" \")\n",
    "for a in range(1,5):\n",
    "    for k in range(1,6-a):\n",
    "        print(\"*\",end=\" \")\n",
    "    print(\" \")"
   ]
  },
  {
   "cell_type": "code",
   "execution_count": 107,
   "id": "870246ab-5bf5-4982-b433-3624970ed39b",
   "metadata": {},
   "outputs": [
    {
     "name": "stdout",
     "output_type": "stream",
     "text": [
      "        *  \n",
      "      * *  \n",
      "    * * *  \n",
      "  * * * *  \n",
      "  * * * *  \n",
      "    * * *  \n",
      "      * *  \n",
      "        *  \n"
     ]
    }
   ],
   "source": [
    "for i in range(1,5):\n",
    "    for j in range(1,6-i):\n",
    "        print(\" \",end=\" \")\n",
    "    for k in range(1,i+1):\n",
    "        print(\"*\",end=\" \")\n",
    "    print(\" \")\n",
    "for a in range(1,5):\n",
    "    for b in range(1,a+1):\n",
    "        print(\" \",end=\" \")\n",
    "    for c in range(1,6-a):\n",
    "        print(\"*\",end=\" \")\n",
    "    print(\" \")"
   ]
  },
  {
   "cell_type": "code",
   "execution_count": 92,
   "id": "5d82893c-8399-4284-8a9c-e4fd25c62730",
   "metadata": {},
   "outputs": [
    {
     "name": "stdout",
     "output_type": "stream",
     "text": [
      "  * * * * *  \n",
      "    * * * *  \n",
      "      * * *  \n",
      "        * *  \n",
      "          *  \n",
      "          *  \n",
      "        * *  \n",
      "      * * *  \n",
      "    * * * *  \n"
     ]
    }
   ],
   "source": [
    "for i in range(5,0,-1):\n",
    "    for j in range(1,7-i):\n",
    "        print(\" \",end=\" \")\n",
    "    for k in range(1,i+1):\n",
    "        print(\"*\",end=\" \")\n",
    "    print(\" \")\n",
    "for i in range(1,5):\n",
    "    for j in range(1,7-i):\n",
    "        print(\" \n",
    "        \",end=\" \")\n",
    "    for k in range(1,i+1):\n",
    "        print(\"*\",end=\" \")\n",
    "    print(\" \")"
   ]
  },
  {
   "cell_type": "code",
   "execution_count": 118,
   "id": "ca8f9008-d308-4353-9997-7a05287a7a6c",
   "metadata": {},
   "outputs": [
    {
     "name": "stdout",
     "output_type": "stream",
     "text": [
      "        *  \n",
      "      * *  \n",
      "    * * *  \n",
      "  * * * *  \n",
      "* * * * *  \n",
      "  * * * *  \n",
      "    * * *  \n",
      "      * *  \n",
      "        *  \n"
     ]
    }
   ],
   "source": [
    "for i in range(1,6):\n",
    "    for j in range(1,6-i):\n",
    "        print(\" \",end=\" \")\n",
    "    for k in range(1,i+1):\n",
    "        print(\"*\",end=\" \")\n",
    "    print(\" \")\n",
    "for a in range(1,5):\n",
    "    for b in range(1,a+1):\n",
    "        print(\" \",end=\" \")\n",
    "    for c in range(1,6-a):\n",
    "        print(\"*\",end=\" \")\n",
    "    print(\" \")"
   ]
  },
  {
   "cell_type": "code",
   "execution_count": 173,
   "id": "661b7aec-5194-4e7e-be1d-75e1195f7ca6",
   "metadata": {},
   "outputs": [
    {
     "name": "stdout",
     "output_type": "stream",
     "text": [
      "    * \n",
      "   * * \n",
      "  * * * \n",
      " * * * * \n",
      "* * * * * \n"
     ]
    }
   ],
   "source": [
    "for i in range(1,6):\n",
    "    for j in range(1,6-i):\n",
    "        print(\" \",end=\"\")\n",
    "    for k in range(1,i+1):\n",
    "        print(\"*\",end=\" \")\n",
    "    print(\"\")\n",
    "# for a in range(1,5):\n",
    "#     for b in range(1,a):\n",
    "#         print(\"*\",end=\" \")\n",
    "#     print(\" \")"
   ]
  },
  {
   "cell_type": "code",
   "execution_count": 5,
   "id": "05887fd5-679f-45ed-a745-ec10765b9808",
   "metadata": {},
   "outputs": [
    {
     "name": "stdout",
     "output_type": "stream",
     "text": [
      "        * \n",
      "      * * * \n",
      "    * * * * * \n",
      "  * * * * * * * \n",
      "* * * * * * * * * \n"
     ]
    }
   ],
   "source": [
    "for i in range(1,6):\n",
    "    for j in range(1,6-i):\n",
    "        print(\" \",end=\" \")\n",
    "    for k in range(1,2*i):\n",
    "          print(\"*\",end=\" \")\n",
    "    print(\"\")"
   ]
  },
  {
   "cell_type": "code",
   "execution_count": 4,
   "id": "226da313-50f3-4fff-9abe-c7a7fa5d2c0d",
   "metadata": {},
   "outputs": [
    {
     "name": "stdout",
     "output_type": "stream",
     "text": [
      "my name is dinesh and age is 22\n"
     ]
    }
   ],
   "source": [
    "name=\"dinesh\"\n",
    "age = 22\n",
    "print(f\"my name is {name} and age is {age}\")"
   ]
  },
  {
   "cell_type": "code",
   "execution_count": null,
   "id": "3f3a8db9-a1d3-46fc-b888-cbcd5acbedaa",
   "metadata": {},
   "outputs": [],
   "source": []
  }
 ],
 "metadata": {
  "kernelspec": {
   "display_name": "Python 3 (ipykernel)",
   "language": "python",
   "name": "python3"
  },
  "language_info": {
   "codemirror_mode": {
    "name": "ipython",
    "version": 3
   },
   "file_extension": ".py",
   "mimetype": "text/x-python",
   "name": "python",
   "nbconvert_exporter": "python",
   "pygments_lexer": "ipython3",
   "version": "3.13.3"
  }
 },
 "nbformat": 4,
 "nbformat_minor": 5
}
