{
 "cells": [
  {
   "cell_type": "code",
   "execution_count": 1,
   "id": "5a76490e-34ff-4e02-a6bb-123df4518812",
   "metadata": {},
   "outputs": [
    {
     "name": "stdout",
     "output_type": "stream",
     "text": [
      "age is greater than 2\n",
      "age is not equal to 10\n"
     ]
    }
   ],
   "source": [
    "age=18\n",
    "if(age>2):\n",
    "    print(\"age is greater than 2\")\n",
    "    if(age==10):\n",
    "        print(\"age is equal to 10\")\n",
    "    else:\n",
    "        print(\"age is not equal to 10\")\n",
    "else:\n",
    "    print(\"age less than 2\")"
   ]
  },
  {
   "cell_type": "code",
   "execution_count": 5,
   "id": "08fc43bf-dfbc-4c3b-93ea-1f150abf02d0",
   "metadata": {},
   "outputs": [
    {
     "name": "stdout",
     "output_type": "stream",
     "text": [
      "no is divided by 2\n",
      "no is divided by 2 and 5\n"
     ]
    }
   ],
   "source": [
    "num=20\n",
    "if(num%2==0):\n",
    "    print(\"no is divided by 2\")\n",
    "    if(num%5==0):\n",
    "        print(\"no is divided by 2 and 5\")\n",
    "    else:\n",
    "        print(\"no is not divided by 5 but 2\")\n",
    "else:\n",
    "    print(\"no is not divided by both 2 and 5\")"
   ]
  },
  {
   "cell_type": "code",
   "execution_count": 6,
   "id": "b693b221-0e42-460b-85c9-006c3d434b06",
   "metadata": {},
   "outputs": [
    {
     "name": "stdout",
     "output_type": "stream",
     "text": [
      "male\n"
     ]
    }
   ],
   "source": [
    "gender=\"m\"\n",
    "if(gender==\"m\"):\n",
    "    print(\"male\")\n",
    "else:\n",
    "    print(\"female\")"
   ]
  },
  {
   "cell_type": "code",
   "execution_count": 14,
   "id": "8a8c8897-af6b-4c3b-b0e7-c058c08f5013",
   "metadata": {},
   "outputs": [
    {
     "name": "stdout",
     "output_type": "stream",
     "text": [
      "self employ\n"
     ]
    }
   ],
   "source": [
    "gender=\"m\"\n",
    "salary=20\n",
    "if(gender==\"m\"):\n",
    " if(salary>2000):\n",
    "    print(\"salary employ\")\n",
    " else:\n",
    "    print(\"self employ\")\n",
    "else:\n",
    " print(\"female\")\n",
    "    "
   ]
  },
  {
   "cell_type": "code",
   "execution_count": 16,
   "id": "7cfaae2a-f3c3-49c3-9744-63d0daeff3e2",
   "metadata": {},
   "outputs": [
    {
     "name": "stdout",
     "output_type": "stream",
     "text": [
      "not vowels\n"
     ]
    }
   ],
   "source": [
    "data=\"g\"\n",
    "if(data==\"a\"):\n",
    "    print(\"vowels\")\n",
    "else:\n",
    "    print(\"not vowels\")"
   ]
  },
  {
   "cell_type": "code",
   "execution_count": 25,
   "id": "19334f89-3db9-4566-aefa-0e6d74e53b24",
   "metadata": {},
   "outputs": [
    {
     "name": "stdout",
     "output_type": "stream",
     "text": [
      "vowels\n",
      "data is vowel but year is not 2025\n"
     ]
    }
   ],
   "source": [
    "ch=\"a\"\n",
    "year=2026\n",
    "if(ch==\"a\" or ch==\"e\" or ch==\"i\" or ch==\"o\" or ch==\"u\"):\n",
    "    print(\"vowels\")\n",
    "    if(year==2025):\n",
    "        print(\"year is 2025\")\n",
    "    else:\n",
    "        print(\"data is vowel but year is not 2025\")\n",
    "else:\n",
    "    print(\"consonants\")"
   ]
  },
  {
   "cell_type": "code",
   "execution_count": null,
   "id": "9f24fc4e-93bc-4bed-8534-9622007e5326",
   "metadata": {},
   "outputs": [],
   "source": []
  }
 ],
 "metadata": {
  "kernelspec": {
   "display_name": "Python 3 (ipykernel)",
   "language": "python",
   "name": "python3"
  },
  "language_info": {
   "codemirror_mode": {
    "name": "ipython",
    "version": 3
   },
   "file_extension": ".py",
   "mimetype": "text/x-python",
   "name": "python",
   "nbconvert_exporter": "python",
   "pygments_lexer": "ipython3",
   "version": "3.13.3"
  }
 },
 "nbformat": 4,
 "nbformat_minor": 5
}
