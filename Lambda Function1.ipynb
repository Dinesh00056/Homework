{
 "cells": [
  {
   "cell_type": "code",
   "execution_count": 1,
   "id": "3c0e388d-4a5d-4639-ae4f-91ad3ee61b11",
   "metadata": {},
   "outputs": [
    {
     "name": "stdout",
     "output_type": "stream",
     "text": [
      "Total= 3\n"
     ]
    }
   ],
   "source": [
    "# Lambda Function  ==> A lambda function can take any number of arguments  but can only have one expression .\n",
    "# syntax : lambda arguments : expression\n",
    "# Ex.1\n",
    "x = lambda a : a + 5\n",
    "# print(\"Total value = \" , x(2))\n",
    "\n",
    "# # Ex.2\n",
    "x = lambda a,b : a*b\n",
    "# print(\"Total product is =\" , x(3,4))\n",
    "\n",
    "# # Ex.3\n",
    "\n",
    "x = lambda a,b,c : a+b-c\n",
    "print(\"Total=\" , x(4,5,6))"
   ]
  },
  {
   "cell_type": "code",
   "execution_count": 2,
   "id": "345ae07b-2475-45c5-b47e-ef7cdaa40b36",
   "metadata": {},
   "outputs": [
    {
     "name": "stdout",
     "output_type": "stream",
     "text": [
      "[5, 12, 17, 18]\n"
     ]
    }
   ],
   "source": [
    "# Filter Function ==> The filter function returns an iterator where the items are filtered through a\n",
    "# function to test  , if the item is accepted return true or false .\n",
    "\n",
    "ages = [5,12,17,18,34,67,50]\n",
    "def myFunc(x):\n",
    "    if (x<=18) :\n",
    "        return True\n",
    "    else :\n",
    "        return False\n",
    "\n",
    "kid = list(filter(myFunc , ages))\n",
    "print(kid)"
   ]
  },
  {
   "cell_type": "code",
   "execution_count": 3,
   "id": "a5ffc3c6-f753-414c-9b83-d376bfea1fa4",
   "metadata": {},
   "outputs": [
    {
     "name": "stdout",
     "output_type": "stream",
     "text": [
      "['3', '45', '89']\n",
      "[3, 45, 89]\n"
     ]
    }
   ],
   "source": [
    "# Map Function()  ==> The map() executes a specified function for each item in a iterable.\n",
    "# The item is sent to the function as parameters.\n",
    "\n",
    "a = [\"3\" , \"45\" , \"89\"]\n",
    "\n",
    "# # method -1\n",
    "print(a)\n",
    "# for i in range(len(a)):\n",
    "#     a[i] = int(a[i])\n",
    "# print(a)\n",
    "\n",
    "\n",
    "# method -2 (by using map function)\n",
    "b = list(map(int , a))\n",
    "print(b)\n"
   ]
  },
  {
   "cell_type": "code",
   "execution_count": 4,
   "id": "4bc449be-03d3-478d-b67d-1ffbb45a864a",
   "metadata": {},
   "outputs": [
    {
     "name": "stdout",
     "output_type": "stream",
     "text": [
      "[1, 2, 3, 4]\n",
      "[1, 4, 9, 16]\n"
     ]
    }
   ],
   "source": [
    "a  = [1,2,3,4]\n",
    "print(a)\n",
    "def my_squ(a):\n",
    "  return a**2\n",
    "\n",
    "b = list(map(my_squ , a))\n",
    "print(b)"
   ]
  },
  {
   "cell_type": "code",
   "execution_count": 9,
   "id": "5463ec64-f0ed-4811-be86-d76950da230d",
   "metadata": {},
   "outputs": [
    {
     "name": "stdout",
     "output_type": "stream",
     "text": [
      "Sum: 30\n"
     ]
    }
   ],
   "source": [
    "def add_numbers(*args):\n",
    "    total = sum(args)\n",
    "    print(f\"Sum: {total}\")\n",
    "\n",
    "add_numbers(5, 10, 15)  \n"
   ]
  },
  {
   "cell_type": "code",
   "execution_count": 10,
   "id": "10f1355c-99e7-4eda-b4f1-63e74a6115c7",
   "metadata": {},
   "outputs": [
    {
     "name": "stdout",
     "output_type": "stream",
     "text": [
      "Sum: 30\n"
     ]
    }
   ],
   "source": [
    "def add_numbers(*args):\n",
    "    total = sum(args)\n",
    "    print(f\"Sum: {total}\")\n",
    "\n",
    "add_numbers(5, 10, 15)  \n"
   ]
  },
  {
   "cell_type": "code",
   "execution_count": 11,
   "id": "70590956-8f96-407c-afe5-0a8af7830409",
   "metadata": {},
   "outputs": [
    {
     "name": "stdout",
     "output_type": "stream",
     "text": [
      "Positional arguments: (1, 2, 3)\n",
      "Keyword arguments: {'name': 'Saurabh', 'age': 25}\n"
     ]
    }
   ],
   "source": [
    "def display_info(*args, **kwargs):\n",
    "    print(\"Positional arguments:\", args)\n",
    "    print(\"Keyword arguments:\", kwargs)\n",
    "\n",
    "display_info(1, 2, 3, name=\"Saurabh\", age=25)\n"
   ]
  },
  {
   "cell_type": "code",
   "execution_count": 12,
   "id": "1615b5f7-fdd8-4eca-adf4-967d828a3767",
   "metadata": {},
   "outputs": [
    {
     "name": "stdout",
     "output_type": "stream",
     "text": [
      "Hello, Saurabh!\n"
     ]
    }
   ],
   "source": [
    "def greet(name):\n",
    "    print(f\"Hello, {name}!\")\n",
    "\n",
    "greet(\"Saurabh\") \n",
    "# greet()  "
   ]
  },
  {
   "cell_type": "code",
   "execution_count": 13,
   "id": "d25ae4f8-6756-46de-9885-235e10966a7f",
   "metadata": {},
   "outputs": [
    {
     "name": "stdout",
     "output_type": "stream",
     "text": [
      "Hello, Guest!\n"
     ]
    }
   ],
   "source": [
    "def greet(name=\"Guest\"):\n",
    "    print(f\"Hello, {name}!\")\n",
    "\n",
    "# greet(\"Saurabh\") \n",
    "greet()  "
   ]
  },
  {
   "cell_type": "code",
   "execution_count": 14,
   "id": "e553b0c2-a6fd-4951-b298-d0652dd9a400",
   "metadata": {},
   "outputs": [
    {
     "name": "stdout",
     "output_type": "stream",
     "text": [
      "8\n"
     ]
    }
   ],
   "source": [
    "def add(a, b):\n",
    "    return a + b  \n",
    "\n",
    "result = add(5, 3)\n",
    "print(result)  \n"
   ]
  },
  {
   "cell_type": "code",
   "execution_count": 15,
   "id": "3edce936-e1b6-46aa-acc8-66040f11d715",
   "metadata": {},
   "outputs": [
    {
     "name": "stdout",
     "output_type": "stream",
     "text": [
      "100\n",
      "0\n"
     ]
    }
   ],
   "source": [
    "def find_max(*args):\n",
    "    return max(args)\n",
    "\n",
    "print(find_max(10, 5, 25, 8, 100))  \n",
    "print(find_max(-1, -10, -5, 0))  "
   ]
  },
  {
   "cell_type": "code",
   "execution_count": 16,
   "id": "578273c2-e439-4699-a65a-6c49a0836519",
   "metadata": {},
   "outputs": [
    {
     "name": "stdout",
     "output_type": "stream",
     "text": [
      "24\n",
      "25\n"
     ]
    }
   ],
   "source": [
    "def product(*args):\n",
    "    result = 1\n",
    "    for num in args:\n",
    "        result *= num\n",
    "    return result\n",
    "\n",
    "print(product(2, 3, 4))  \n",
    "print(product(5, 5))  \n"
   ]
  },
  {
   "cell_type": "code",
   "execution_count": 17,
   "id": "35bbfc67-40bc-4424-a81d-7af8aaebffb9",
   "metadata": {},
   "outputs": [
    {
     "name": "stdout",
     "output_type": "stream",
     "text": [
      "Saurabh Sharma\n",
      "Rahul Mehta\n"
     ]
    }
   ],
   "source": [
    "def full_name(**kwargs):\n",
    "    return f\"{kwargs.get('first_name', 'Unknown')} {kwargs.get('last_name', 'Mehta')}\"\n",
    "\n",
    "print(full_name(first_name=\"Saurabh\", last_name=\"Sharma\"))  \n",
    "print(full_name(first_name=\"Rahul\"))  "
   ]
  },
  {
   "cell_type": "code",
   "execution_count": 18,
   "id": "db989957-270f-4b5b-8094-0e2e4ec965e8",
   "metadata": {},
   "outputs": [
    {
     "name": "stdout",
     "output_type": "stream",
     "text": [
      "3\n",
      "1\n"
     ]
    }
   ],
   "source": [
    "def count_vowels(string):\n",
    "    vowels = \"aeiouAEIOU\"\n",
    "    return sum(1 for char in string if char in vowels)\n",
    "\n",
    "print(count_vowels(\"Hello World\"))  \n",
    "print(count_vowels(\"Python\"))  "
   ]
  },
  {
   "cell_type": "code",
   "execution_count": 19,
   "id": "bf41adcf-1ba7-4d1e-9462-6076416cec29",
   "metadata": {},
   "outputs": [
    {
     "name": "stdout",
     "output_type": "stream",
     "text": [
      "100\n",
      "90\n"
     ]
    }
   ],
   "source": [
    "def shopping_cart(*items, **prices):\n",
    "    total = sum(prices[item] for item in items if item in prices)\n",
    "    return total\n",
    "\n",
    "print(shopping_cart(\"graphs\", \"banana\",\"mango\", graphs=50, banana=20, mango=30))  \n",
    "print(shopping_cart(\"pizza\", \"grapes\", pizza = 50 , grapes=40))  \n"
   ]
  },
  {
   "cell_type": "code",
   "execution_count": 20,
   "id": "4370c3b0-90eb-4555-8b32-37eaad952355",
   "metadata": {},
   "outputs": [
    {
     "name": "stdout",
     "output_type": "stream",
     "text": [
      "Hello Saurabh, you are 18 years old.\n",
      "Hello Rahul, you are 25 years old.\n"
     ]
    }
   ],
   "source": [
    "def greet(name, age=18):\n",
    "    return f\"Hello {name}, you are {age} years old.\"\n",
    "\n",
    "print(greet(\"Saurabh\"))  \n",
    "print(greet(\"Rahul\", 25))  \n"
   ]
  },
  {
   "cell_type": "code",
   "execution_count": 21,
   "id": "7e8a1eab-4954-4a85-8d57-cf3cdf6ef6bf",
   "metadata": {},
   "outputs": [
    {
     "name": "stdout",
     "output_type": "stream",
     "text": [
      "900.0\n",
      "400.0\n"
     ]
    }
   ],
   "source": [
    "def discount_price(**kwargs):\n",
    "    price = kwargs.get(\"price\", 0)\n",
    "    discount = kwargs.get(\"discount\", 0)\n",
    "    return price - (price * discount / 100)\n",
    "\n",
    "print(discount_price(price=1000, discount=10))  \n",
    "print(discount_price(price=500, discount=20))  "
   ]
  },
  {
   "cell_type": "code",
   "execution_count": 22,
   "id": "c33b5301-27af-4b3f-b286-bd01b83aeaa5",
   "metadata": {},
   "outputs": [
    {
     "name": "stdout",
     "output_type": "stream",
     "text": [
      "[1, 2, 3, 4, 5, 6]\n",
      "['a', 'b', 'c', 'd', 'e']\n"
     ]
    }
   ],
   "source": [
    "def merge_lists(*args):\n",
    "    return [item for lst in args for item in lst]\n",
    "\n",
    "print(merge_lists([1, 2, 3], [4, 5, 6]))  \n",
    "print(merge_lists([\"a\", \"b\"], [\"c\", \"d\"], [\"e\"]))  "
   ]
  },
  {
   "cell_type": "code",
   "execution_count": 23,
   "id": "7421f4d2-ef54-4ff0-86a0-a169a7e15b04",
   "metadata": {},
   "outputs": [
    {
     "name": "stdout",
     "output_type": "stream",
     "text": [
      "Evens: [2, 4, 6]\n",
      "Odds: [1, 3, 5]\n"
     ]
    }
   ],
   "source": [
    "def separate_even_odd(numbers):\n",
    "    even = [num for num in numbers if num % 2 == 0]\n",
    "    odd = [num for num in numbers if num % 2 != 0]\n",
    "    return even, odd\n",
    "\n",
    "evens, odds = separate_even_odd([1, 2, 3, 4, 5, 6])\n",
    "print(\"Evens:\", evens)  \n",
    "print(\"Odds:\", odds)  \n"
   ]
  },
  {
   "cell_type": "code",
   "execution_count": 24,
   "id": "57c72107-941a-4b84-9d43-48ecf6d43628",
   "metadata": {},
   "outputs": [
    {
     "name": "stdout",
     "output_type": "stream",
     "text": [
      "[2, 4]\n",
      "[1, 3, 5]\n"
     ]
    }
   ],
   "source": [
    "a = [1,2,3,4,5]\n",
    "b = []\n",
    "c = []\n",
    "for i in range(len(a)):\n",
    "    if(a[i]%2==0):\n",
    "        b.append(a[i])\n",
    "    else:\n",
    "        c.append(a[i])\n",
    "print(b)\n",
    "print(c)"
   ]
  },
  {
   "cell_type": "code",
   "execution_count": null,
   "id": "9900e0b1-8f2f-4863-bea0-91fffe972349",
   "metadata": {},
   "outputs": [],
   "source": []
  }
 ],
 "metadata": {
  "kernelspec": {
   "display_name": "Python 3 (ipykernel)",
   "language": "python",
   "name": "python3"
  },
  "language_info": {
   "codemirror_mode": {
    "name": "ipython",
    "version": 3
   },
   "file_extension": ".py",
   "mimetype": "text/x-python",
   "name": "python",
   "nbconvert_exporter": "python",
   "pygments_lexer": "ipython3",
   "version": "3.13.3"
  }
 },
 "nbformat": 4,
 "nbformat_minor": 5
}
