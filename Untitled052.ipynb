{
 "cells": [
  {
   "cell_type": "code",
   "execution_count": 5,
   "id": "0ad16722-b7ba-4102-9905-98284d5ef728",
   "metadata": {},
   "outputs": [
    {
     "name": "stdout",
     "output_type": "stream",
     "text": [
      "abc 1\n",
      "student 1\n",
      "abc 2\n",
      "student 1\n",
      "student 2\n",
      "abc 3\n",
      "student 1\n",
      "student 2\n",
      "student 3\n",
      "abc 4\n",
      "student 1\n",
      "student 2\n",
      "student 3\n",
      "student 4\n"
     ]
    }
   ],
   "source": [
    "for i in range(1,5):\n",
    "    print(\"abc\",i)\n",
    "    for j in range(1,i+1):\n",
    "        print(\"student\",j)"
   ]
  },
  {
   "cell_type": "code",
   "execution_count": 10,
   "id": "4445255d-c46b-4ae1-a452-bde8105a70ea",
   "metadata": {},
   "outputs": [
    {
     "name": "stdout",
     "output_type": "stream",
     "text": [
      "dinesh 1\n",
      "mavish\n",
      "dinesh 2\n",
      "mavish\n",
      "mavish\n",
      "dinesh 3\n",
      "mavish\n",
      "mavish\n",
      "mavish\n",
      "dinesh 4\n",
      "mavish\n",
      "mavish\n",
      "mavish\n",
      "mavish\n"
     ]
    }
   ],
   "source": [
    "for i in range(1,5):\n",
    "    print(\"dinesh\",i)\n",
    "    for j in range(1,i+1):\n",
    "        print(\"mavish\")\n",
    "        \n"
   ]
  },
  {
   "cell_type": "code",
   "execution_count": 16,
   "id": "1e2ec89c-3da9-49d7-8d4c-341544f0753c",
   "metadata": {},
   "outputs": [
    {
     "name": "stdout",
     "output_type": "stream",
     "text": [
      "dinesh 4\n",
      "mavish\n",
      "mavish\n",
      "mavish\n",
      "mavish\n",
      "dinesh 3\n",
      "mavish\n",
      "mavish\n",
      "mavish\n",
      "dinesh 2\n",
      "mavish\n",
      "mavish\n",
      "dinesh 1\n",
      "mavish\n"
     ]
    }
   ],
   "source": [
    "for i in range(4,0,-1):\n",
    "    print(\"dinesh\",i)\n",
    "    for j in range(1,i+1):\n",
    "        print(\"mavish\")"
   ]
  },
  {
   "cell_type": "code",
   "execution_count": 23,
   "id": "548d027a-ff9c-4049-b737-39af4fcf9c6f",
   "metadata": {},
   "outputs": [
    {
     "name": "stdout",
     "output_type": "stream",
     "text": [
      "2\n",
      "4\n",
      "6\n",
      "8\n",
      "10\n",
      "12\n",
      "14\n",
      "16\n",
      "18\n",
      "20\n",
      "------------------\n",
      "3\n",
      "6\n",
      "9\n",
      "12\n",
      "15\n",
      "18\n",
      "21\n",
      "24\n",
      "27\n",
      "30\n",
      "------------------\n",
      "4\n",
      "8\n",
      "12\n",
      "16\n",
      "20\n",
      "24\n",
      "28\n",
      "32\n",
      "36\n",
      "40\n",
      "------------------\n",
      "5\n",
      "10\n",
      "15\n",
      "20\n",
      "25\n",
      "30\n",
      "35\n",
      "40\n",
      "45\n",
      "50\n",
      "------------------\n"
     ]
    }
   ],
   "source": [
    "for num in range(2,6):\n",
    "    for i in range(1,11):\n",
    "        print(i*num)\n",
    "    print(\"------------------\")"
   ]
  },
  {
   "cell_type": "code",
   "execution_count": 27,
   "id": "0fcccb39-a1c3-44c2-bdbf-9f8412923f4f",
   "metadata": {},
   "outputs": [
    {
     "name": "stdout",
     "output_type": "stream",
     "text": [
      "* * * * \n",
      "* * * * \n",
      "* * * * \n"
     ]
    }
   ],
   "source": [
    "for i in range(1,4):\n",
    "    for j in range(1,5):\n",
    "        print(\"*\",end=\" \")\n",
    "    print(\"\")"
   ]
  },
  {
   "cell_type": "code",
   "execution_count": 29,
   "id": "ba9c4617-f6b0-4e34-a382-cd27c76a626b",
   "metadata": {},
   "outputs": [
    {
     "name": "stdout",
     "output_type": "stream",
     "text": [
      "1 1 1 1 \n",
      "2 2 2 2 \n",
      "3 3 3 3 \n",
      "4 4 4 4 \n"
     ]
    }
   ],
   "source": [
    "for i in range(1,5):\n",
    "    for j in range(1,5):\n",
    "        print(i,end=\" \")\n",
    "    print(\"\")"
   ]
  },
  {
   "cell_type": "code",
   "execution_count": 34,
   "id": "13831006-5088-4292-a617-5727865be033",
   "metadata": {},
   "outputs": [
    {
     "name": "stdout",
     "output_type": "stream",
     "text": [
      "3333 \n",
      "2222 \n",
      "1111 \n"
     ]
    }
   ],
   "source": [
    "for i in range(3,0,-1):\n",
    "    for j in range(1,5):\n",
    "        print(i,end=\"\")\n",
    "    print(\" \")"
   ]
  },
  {
   "cell_type": "code",
   "execution_count": 36,
   "id": "5144b619-b34e-47de-8344-0a6ab089921b",
   "metadata": {},
   "outputs": [
    {
     "name": "stdout",
     "output_type": "stream",
     "text": [
      "3333\n",
      "2222\n",
      "1111\n"
     ]
    }
   ],
   "source": [
    "x=3\n",
    "for i in range(1,4):\n",
    "    for j in range(1,5):\n",
    "        print(x,end=\"\")\n",
    "    x-=1\n",
    "    print(\"\")"
   ]
  },
  {
   "cell_type": "code",
   "execution_count": 38,
   "id": "077c5ce9-896f-4d9c-9a2a-a3c5314efd77",
   "metadata": {},
   "outputs": [
    {
     "name": "stdout",
     "output_type": "stream",
     "text": [
      "234\n",
      "234\n",
      "234\n"
     ]
    }
   ],
   "source": [
    "for i in range(1,4):\n",
    "    for j in range(2,5):\n",
    "        print(j,end=\"\")\n",
    "   \n",
    "    print(\"\")"
   ]
  },
  {
   "cell_type": "code",
   "execution_count": 45,
   "id": "301b463f-2e10-464a-954a-29ef5682d490",
   "metadata": {},
   "outputs": [
    {
     "name": "stdout",
     "output_type": "stream",
     "text": [
      "123\n",
      "456\n",
      "789\n"
     ]
    }
   ],
   "source": [
    "x=1\n",
    "for i in range(1,4):\n",
    "    for j in range(1,4):\n",
    "        print(x,end=\"\")\n",
    "        x+=1\n",
    "    print(\"\")"
   ]
  },
  {
   "cell_type": "code",
   "execution_count": 47,
   "id": "f653b52b-2e0a-4590-92b2-1de0786383d5",
   "metadata": {},
   "outputs": [
    {
     "name": "stdout",
     "output_type": "stream",
     "text": [
      "* \n",
      "* * \n",
      "* * * \n",
      "* * * * \n",
      "* * * * * \n"
     ]
    }
   ],
   "source": [
    "for i in range(1,6):\n",
    "    for j in range(1,i+1):\n",
    "        print(\"*\",end=\" \")\n",
    "    print(\"\")"
   ]
  },
  {
   "cell_type": "code",
   "execution_count": 52,
   "id": "c7565723-b901-4780-bfdd-a54d05582482",
   "metadata": {},
   "outputs": [
    {
     "name": "stdout",
     "output_type": "stream",
     "text": [
      "5\n",
      "55\n",
      "555\n",
      "5555\n"
     ]
    }
   ],
   "source": [
    "for i in range(1,5):\n",
    "    for j in range(1,i+1):\n",
    "        print(\"5\",end=\"\")\n",
    "    print(\"\")"
   ]
  },
  {
   "cell_type": "code",
   "execution_count": 53,
   "id": "ab0ca474-dc03-4265-89fb-180a37e30dd6",
   "metadata": {},
   "outputs": [
    {
     "name": "stdout",
     "output_type": "stream",
     "text": [
      "5\n",
      "55\n",
      "555\n",
      "5555\n"
     ]
    }
   ],
   "source": [
    "x=5\n",
    "for i in range(1,5):\n",
    "    for j in range(1,i+1):\n",
    "        print(x,end=\"\")\n",
    "    print(\"\")"
   ]
  },
  {
   "cell_type": "code",
   "execution_count": 54,
   "id": "929939f0-3b01-4e21-99f4-69bcef47ad76",
   "metadata": {},
   "outputs": [
    {
     "name": "stdout",
     "output_type": "stream",
     "text": [
      "1\n",
      "12\n",
      "123\n"
     ]
    }
   ],
   "source": [
    "for i in range(1,4):\n",
    "    for j in range(1,i+1):\n",
    "        print(j,end=\"\")\n",
    "    print(\"\")"
   ]
  },
  {
   "cell_type": "code",
   "execution_count": 56,
   "id": "ca76a227-6a23-47e0-b1d2-7aec581d6ccb",
   "metadata": {},
   "outputs": [
    {
     "name": "stdout",
     "output_type": "stream",
     "text": [
      "7\n",
      "65\n",
      "432\n"
     ]
    }
   ],
   "source": [
    "x=7\n",
    "for i in range(1,4):\n",
    "    for j in range(1,i+1):\n",
    "        print(x,end=\"\")\n",
    "        x-=1\n",
    "    print(\"\")"
   ]
  },
  {
   "cell_type": "code",
   "execution_count": 58,
   "id": "ee20be7b-4455-47d4-bc09-969730b6b0f3",
   "metadata": {},
   "outputs": [
    {
     "name": "stdout",
     "output_type": "stream",
     "text": [
      "1\n",
      "12\n",
      "123\n",
      "1234\n"
     ]
    }
   ],
   "source": [
    "for i in range(1,5):\n",
    "    x=1\n",
    "    for j in range(1,i+1):\n",
    "        print(x,end=\"\")\n",
    "        x+=1\n",
    "    print(\"\")"
   ]
  },
  {
   "cell_type": "code",
   "execution_count": 61,
   "id": "6c2ed4f1-467a-493f-bc6f-1e798f30d450",
   "metadata": {},
   "outputs": [
    {
     "name": "stdout",
     "output_type": "stream",
     "text": [
      "65 \n",
      "65 66 \n",
      "65 66 67 \n"
     ]
    }
   ],
   "source": [
    "\n",
    "for i in range(1,4):\n",
    "    x=65\n",
    "    for j in range(1,i+1):\n",
    "        print(x,end=\" \")\n",
    "        x+=1\n",
    "    print(\"\")"
   ]
  },
  {
   "cell_type": "code",
   "execution_count": 65,
   "id": "1b5f1c64-75ad-4e1e-9e97-b8e0ecfc99a7",
   "metadata": {},
   "outputs": [
    {
     "name": "stdout",
     "output_type": "stream",
     "text": [
      "1234\n",
      "123\n",
      "12\n",
      "1\n",
      "\n"
     ]
    }
   ],
   "source": [
    "for i in range(6,1,-1):\n",
    "    for j in range(1,i-1):\n",
    "        print(j,end=\"\")\n",
    "    print(\"\")"
   ]
  },
  {
   "cell_type": "code",
   "execution_count": 66,
   "id": "410c221f-4ec9-4a67-b079-6be6e52d5df0",
   "metadata": {},
   "outputs": [
    {
     "name": "stdout",
     "output_type": "stream",
     "text": [
      "****\n",
      "***\n",
      "**\n",
      "*\n",
      "\n"
     ]
    }
   ],
   "source": [
    "for i in range(6,1,-1):\n",
    "    for j in range(1,i-1):\n",
    "        print(\"*\",end=\"\")\n",
    "    print(\"\")"
   ]
  },
  {
   "cell_type": "code",
   "execution_count": 67,
   "id": "1c0117c4-ab1a-4995-91ad-fe61b4a4c12a",
   "metadata": {},
   "outputs": [
    {
     "name": "stdout",
     "output_type": "stream",
     "text": [
      "4321\n",
      "432\n",
      "43\n",
      "4\n",
      "\n"
     ]
    }
   ],
   "source": [
    "\n",
    "for i in range(6,1,-1):\n",
    "    x=4\n",
    "    for j in range(1,i-1):\n",
    "        print(x,end=\"\")\n",
    "        x-=\n",
    "    print(\"\")"
   ]
  },
  {
   "cell_type": "code",
   "execution_count": 71,
   "id": "210acba4-deb2-4615-90bc-7661b19417d0",
   "metadata": {},
   "outputs": [
    {
     "name": "stdout",
     "output_type": "stream",
     "text": [
      "10 9 8 7 \n",
      "6 5 4 \n",
      "3 2 \n",
      "1 \n",
      "\n"
     ]
    }
   ],
   "source": [
    "x=10\n",
    "for i in range(6,1,-1):\n",
    "    for j in range(1,i-1):\n",
    "        print(x,end=\" \")\n",
    "        x-=1\n",
    "    print(\"\")"
   ]
  },
  {
   "cell_type": "code",
   "execution_count": 81,
   "id": "33a1788c-33d5-46cd-9272-33844781d857",
   "metadata": {},
   "outputs": [
    {
     "name": "stdout",
     "output_type": "stream",
     "text": [
      "- - - * * * * *  \n",
      "- - * * * *  \n",
      "- * * *  \n",
      "* *  \n"
     ]
    }
   ],
   "source": [
    "for i in range(5,1,-1):\n",
    "    for j in range(1,i-1):\n",
    "        print(\"-\",end=\" \")\n",
    "    for j in range(1,i+1):\n",
    "        print(\"*\",end=\" \")\n",
    "    print(\" \")"
   ]
  },
  {
   "cell_type": "code",
   "execution_count": 86,
   "id": "e60ec671-7380-46b6-b234-e08b1d31cbe5",
   "metadata": {},
   "outputs": [
    {
     "name": "stdout",
     "output_type": "stream",
     "text": [
      "4321\n",
      "432\n",
      "43\n",
      "4\n"
     ]
    }
   ],
   "source": [
    "for i in range(1,5):\n",
    "    x=4\n",
    "    for j in range(1,6-i):\n",
    "        print(x,end=\"\")\n",
    "        x-=1\n",
    "    print(\"\")"
   ]
  },
  {
   "cell_type": "code",
   "execution_count": 88,
   "id": "54ce872a-880c-4abb-8eca-68b2e71ba335",
   "metadata": {},
   "outputs": [
    {
     "name": "stdout",
     "output_type": "stream",
     "text": [
      "1234\n",
      "123\n",
      "12\n",
      "1\n"
     ]
    }
   ],
   "source": [
    "for i in range(1,5):\n",
    "    for j in range(1,6-i):\n",
    "        print(j,end=\"\")\n",
    "        \n",
    "    print(\"\")"
   ]
  },
  {
   "cell_type": "code",
   "execution_count": 1,
   "id": "9618fe0e-266e-4854-8eb8-465700ac4acf",
   "metadata": {},
   "outputs": [
    {
     "name": "stdout",
     "output_type": "stream",
     "text": [
      "      * \n",
      "    * * \n",
      "  * * * \n",
      "* * * * \n"
     ]
    }
   ],
   "source": [
    "for i in range(1,5):\n",
    "    for j in range(1,5-i):\n",
    "        print(\"-\",end=\" \")\n",
    "    for j in range(1,i+1):\n",
    "        print(\"*\",end=\" \")\n",
    "    print(\"\")"
   ]
  },
  {
   "cell_type": "code",
   "execution_count": 92,
   "id": "ea72b38d-35fb-49ed-85db-db991ab37fb8",
   "metadata": {},
   "outputs": [
    {
     "name": "stdout",
     "output_type": "stream",
     "text": [
      "* \n",
      "* * \n",
      "* * * \n",
      "* * * * \n"
     ]
    }
   ],
   "source": [
    "for i in range(1,5):\n",
    "    for j in range(1,i+1):\n",
    "        print(\"*\",end=\" \")\n",
    "    print(\"\")"
   ]
  },
  {
   "cell_type": "code",
   "execution_count": 108,
   "id": "125d196f-7595-4e92-b927-3199260ffc14",
   "metadata": {},
   "outputs": [
    {
     "name": "stdout",
     "output_type": "stream",
     "text": [
      "* * * * \n",
      "- * * * \n",
      "- - * * \n",
      "- - - * \n"
     ]
    }
   ],
   "source": [
    "for i in range(0,4):\n",
    "    for j in range(1,i+1):\n",
    "        print(\"-\",end=\" \")\n",
    "    for j in range(1,5-i):\n",
    "        print(\"*\",end=\" \")\n",
    "    print(\"\")"
   ]
  },
  {
   "cell_type": "code",
   "execution_count": 104,
   "id": "69e86e8f-11a8-47c2-94cc-48afa9b0796b",
   "metadata": {},
   "outputs": [
    {
     "name": "stdout",
     "output_type": "stream",
     "text": [
      "* * * * \n",
      "- * * * \n",
      "- - * * \n",
      "- - - * \n"
     ]
    }
   ],
   "source": [
    "for i in range(1,5):\n",
    "    for j in range(1,i):\n",
    "        print(\"-\",end=\" \")\n",
    "    for k in range(i,5):\n",
    "        print(\"*\",end=\" \")\n",
    "    print(\"\")"
   ]
  },
  {
   "cell_type": "code",
   "execution_count": 117,
   "id": "4289dcf3-45d6-4f77-a651-5ebe9e67e1d2",
   "metadata": {},
   "outputs": [
    {
     "name": "stdout",
     "output_type": "stream",
     "text": [
      "* \n",
      "* * \n",
      "* - * \n",
      "* - - * \n",
      "* - - - * \n",
      "* * * * * * \n"
     ]
    }
   ],
   "source": [
    "num=6\n",
    "for i in range(1,num+1):\n",
    "    for j in range(1,i+1):\n",
    "        if(j==1 or i==6 or i==j):\n",
    "            print(\"*\",end=\" \")\n",
    "        else:\n",
    "            print(\"-\",end=\" \")\n",
    "    print(\"\")"
   ]
  },
  {
   "cell_type": "code",
   "execution_count": 123,
   "id": "9dfd9298-1e8d-4269-9b22-c68979551c3b",
   "metadata": {},
   "outputs": [
    {
     "name": "stdout",
     "output_type": "stream",
     "text": [
      "* * * * * * \n",
      "* * * * * \n",
      "* * * * \n",
      "* * * \n",
      "* * \n",
      "* \n"
     ]
    }
   ],
   "source": [
    "for i in range(1,7):\n",
    "    for j in range(i,7):\n",
    "       \n",
    "           print(\"*\",end=\" \")\n",
    "    print(\"\")"
   ]
  },
  {
   "cell_type": "code",
   "execution_count": 130,
   "id": "abb7b5e5-c7a6-4c3f-8183-a2afb62057aa",
   "metadata": {},
   "outputs": [
    {
     "name": "stdout",
     "output_type": "stream",
     "text": [
      "* * * * * * \n",
      "* - - - - \n",
      "* - - - \n",
      "* - - \n",
      "* - \n",
      "* \n"
     ]
    }
   ],
   "source": [
    "for i in range(1,7):\n",
    "    for j in range(i,7):\n",
    "       if(j==1 or i==1 or i==j):\n",
    "           print(\"*\",end=\" \")\n",
    "       else:\n",
    "           print(\"-\",end=\" \")\n",
    "    print(\"\")"
   ]
  },
  {
   "cell_type": "code",
   "execution_count": null,
   "id": "cc4324f2-4626-413e-9c38-b9db50dde6a2",
   "metadata": {},
   "outputs": [],
   "source": []
  }
 ],
 "metadata": {
  "kernelspec": {
   "display_name": "Python 3 (ipykernel)",
   "language": "python",
   "name": "python3"
  },
  "language_info": {
   "codemirror_mode": {
    "name": "ipython",
    "version": 3
   },
   "file_extension": ".py",
   "mimetype": "text/x-python",
   "name": "python",
   "nbconvert_exporter": "python",
   "pygments_lexer": "ipython3",
   "version": "3.13.3"
  }
 },
 "nbformat": 4,
 "nbformat_minor": 5
}
